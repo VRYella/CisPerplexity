{
 "cells": [
  {
   "cell_type": "code",
   "execution_count": 4,
   "id": "e233b2c1-57b0-40d1-94a9-9308b4d717bd",
   "metadata": {},
   "outputs": [],
   "source": [
    "def process_data(file_path):\n",
    "    encoding_dict = {}\n",
    "\n",
    "    with open(file_path, 'r') as file:\n",
    "        lines = file.readlines()\n",
    "\n",
    "    # Extract header for property names\n",
    "    properties = lines[0].strip().split('\\t')[1:]\n",
    "\n",
    "    for line in lines[1:]:\n",
    "        values = line.strip().split('\\t')\n",
    "        dinucleotide = values[0]  # First column is the dinucleotide\n",
    "        for i, value in enumerate(values[1:], start=1):  # Start from 1 to skip the dinucleotide column\n",
    "            property_name = properties[i-1]  # Adjust for zero-indexing\n",
    "            if property_name not in encoding_dict:\n",
    "                encoding_dict[property_name] = {}\n",
    "            encoding_dict[property_name][dinucleotide] = float(value)\n",
    "\n",
    "    return encoding_dict\n",
    "\n",
    "# Replace 'your_data.txt' with the actual path to your dataset file\n",
    "file_path = 'yourdata.txt'\n",
    "encoding_dict = process_data(file_path)\n",
    "\n",
    "# If you want to see the result for a specific property, you can print it like this:\n",
    "# print(encoding_dict['conformational:Twist:1'])\n",
    "\n",
    "# To save the dictionary to a file\n",
    "import json\n",
    "with open('selected_encoding_dict.json', 'w') as json_file:\n",
    "    json.dump(encoding_dict, json_file, indent=4)\n"
   ]
  },
  {
   "cell_type": "code",
   "execution_count": 15,
   "id": "d377f472-79f0-4b83-91fd-eb8cc1b58433",
   "metadata": {},
   "outputs": [
    {
     "name": "stdout",
     "output_type": "stream",
     "text": [
      "254\n",
      "254\n"
     ]
    },
    {
     "name": "stderr",
     "output_type": "stream",
     "text": [
      "C:\\Users\\ADMIN\\AppData\\Local\\Temp\\ipykernel_11164\\2785808139.py:92: FutureWarning: The behavior of DataFrame concatenation with empty or all-NA entries is deprecated. In a future version, this will no longer exclude empty or all-NA columns when determining the result dtypes. To retain the old behavior, exclude the relevant entries before the concat operation.\n",
      "  results_df = pd.concat([results_df, pd.DataFrame([new_row])], ignore_index=True)\n"
     ]
    },
    {
     "name": "stdout",
     "output_type": "stream",
     "text": [
      "conformational--Twist--1 SVM 0.5882352941176471\n",
      "conformational--Twist--1 Random Forest 0.5294117647058824\n",
      "conformational--Twist--1 Logistic Regression 0.5686274509803921\n",
      "conformational--Twist--1 Naive Bayes 0.5686274509803921\n"
     ]
    },
    {
     "name": "stderr",
     "output_type": "stream",
     "text": [
      "C:\\Users\\ADMIN\\anaconda3\\Lib\\site-packages\\sklearn\\linear_model\\_logistic.py:458: ConvergenceWarning: lbfgs failed to converge (status=1):\n",
      "STOP: TOTAL NO. of ITERATIONS REACHED LIMIT.\n",
      "\n",
      "Increase the number of iterations (max_iter) or scale the data as shown in:\n",
      "    https://scikit-learn.org/stable/modules/preprocessing.html\n",
      "Please also refer to the documentation for alternative solver options:\n",
      "    https://scikit-learn.org/stable/modules/linear_model.html#logistic-regression\n",
      "  n_iter_i = _check_optimize_result(\n"
     ]
    },
    {
     "name": "stdout",
     "output_type": "stream",
     "text": [
      "conformational--Twist--1 K-NN 0.5294117647058824\n",
      "conformational--Twist--1 Gradient Boosting 0.4117647058823529\n",
      "conformational--Twist--1 AdaBoost 0.5490196078431373\n",
      "conformational--Twist--1 Decision Tree 0.5098039215686274\n",
      "conformational--Twist--1 Perceptron 0.45098039215686275\n",
      "conformational--Twist--1 SGD 0.45098039215686275\n",
      "conformational--Twist--1 Bagging 0.5490196078431373\n",
      "conformational--Twist--1 Extra Trees 0.5882352941176471\n",
      "conformational--Twist--1 CatBoost 0.47058823529411764\n",
      "conformational--Twist--1 LightGBM 0.45098039215686275\n",
      "conformational--Twist--1 XGBoost 0.5294117647058824\n",
      "254\n",
      "254\n",
      "physicochemical--Stacking_energy--2 SVM 0.49019607843137253\n",
      "physicochemical--Stacking_energy--2 Random Forest 0.49019607843137253\n",
      "physicochemical--Stacking_energy--2 Logistic Regression 0.5294117647058824\n",
      "physicochemical--Stacking_energy--2 Naive Bayes 0.45098039215686275\n",
      "physicochemical--Stacking_energy--2 K-NN 0.4117647058823529\n",
      "physicochemical--Stacking_energy--2 Gradient Boosting 0.5490196078431373\n",
      "physicochemical--Stacking_energy--2 AdaBoost 0.49019607843137253\n",
      "physicochemical--Stacking_energy--2 Decision Tree 0.5294117647058824\n",
      "physicochemical--Stacking_energy--2 Perceptron 0.45098039215686275\n",
      "physicochemical--Stacking_energy--2 SGD 0.43137254901960786\n",
      "physicochemical--Stacking_energy--2 Bagging 0.49019607843137253\n"
     ]
    },
    {
     "ename": "KeyboardInterrupt",
     "evalue": "",
     "output_type": "error",
     "traceback": [
      "\u001b[1;31m---------------------------------------------------------------------------\u001b[0m",
      "\u001b[1;31mKeyboardInterrupt\u001b[0m                         Traceback (most recent call last)",
      "Cell \u001b[1;32mIn[15], line 82\u001b[0m\n\u001b[0;32m     80\u001b[0m \u001b[38;5;66;03m# Train and evaluate classifiers\u001b[39;00m\n\u001b[0;32m     81\u001b[0m \u001b[38;5;28;01mfor\u001b[39;00m name, clf \u001b[38;5;129;01min\u001b[39;00m classifiers\u001b[38;5;241m.\u001b[39mitems():\n\u001b[1;32m---> 82\u001b[0m     clf\u001b[38;5;241m.\u001b[39mfit(X_train, y_train)\n\u001b[0;32m     83\u001b[0m     y_pred \u001b[38;5;241m=\u001b[39m clf\u001b[38;5;241m.\u001b[39mpredict(X_test)\n\u001b[0;32m     84\u001b[0m     new_row \u001b[38;5;241m=\u001b[39m {\n\u001b[0;32m     85\u001b[0m         \u001b[38;5;124m'\u001b[39m\u001b[38;5;124mEncoding Scheme\u001b[39m\u001b[38;5;124m'\u001b[39m: encoding_name,\n\u001b[0;32m     86\u001b[0m         \u001b[38;5;124m'\u001b[39m\u001b[38;5;124mClassifier\u001b[39m\u001b[38;5;124m'\u001b[39m: name,\n\u001b[1;32m   (...)\u001b[0m\n\u001b[0;32m     90\u001b[0m         \u001b[38;5;124m'\u001b[39m\u001b[38;5;124mF1 Score\u001b[39m\u001b[38;5;124m'\u001b[39m: f1_score(y_test, y_pred, zero_division\u001b[38;5;241m=\u001b[39m\u001b[38;5;241m0\u001b[39m)\n\u001b[0;32m     91\u001b[0m     }\n",
      "File \u001b[1;32m~\\anaconda3\\Lib\\site-packages\\sklearn\\ensemble\\_forest.py:473\u001b[0m, in \u001b[0;36mBaseForest.fit\u001b[1;34m(self, X, y, sample_weight)\u001b[0m\n\u001b[0;32m    462\u001b[0m trees \u001b[38;5;241m=\u001b[39m [\n\u001b[0;32m    463\u001b[0m     \u001b[38;5;28mself\u001b[39m\u001b[38;5;241m.\u001b[39m_make_estimator(append\u001b[38;5;241m=\u001b[39m\u001b[38;5;28;01mFalse\u001b[39;00m, random_state\u001b[38;5;241m=\u001b[39mrandom_state)\n\u001b[0;32m    464\u001b[0m     \u001b[38;5;28;01mfor\u001b[39;00m i \u001b[38;5;129;01min\u001b[39;00m \u001b[38;5;28mrange\u001b[39m(n_more_estimators)\n\u001b[0;32m    465\u001b[0m ]\n\u001b[0;32m    467\u001b[0m \u001b[38;5;66;03m# Parallel loop: we prefer the threading backend as the Cython code\u001b[39;00m\n\u001b[0;32m    468\u001b[0m \u001b[38;5;66;03m# for fitting the trees is internally releasing the Python GIL\u001b[39;00m\n\u001b[0;32m    469\u001b[0m \u001b[38;5;66;03m# making threading more efficient than multiprocessing in\u001b[39;00m\n\u001b[0;32m    470\u001b[0m \u001b[38;5;66;03m# that case. However, for joblib 0.12+ we respect any\u001b[39;00m\n\u001b[0;32m    471\u001b[0m \u001b[38;5;66;03m# parallel_backend contexts set at a higher level,\u001b[39;00m\n\u001b[0;32m    472\u001b[0m \u001b[38;5;66;03m# since correctness does not rely on using threads.\u001b[39;00m\n\u001b[1;32m--> 473\u001b[0m trees \u001b[38;5;241m=\u001b[39m Parallel(\n\u001b[0;32m    474\u001b[0m     n_jobs\u001b[38;5;241m=\u001b[39m\u001b[38;5;28mself\u001b[39m\u001b[38;5;241m.\u001b[39mn_jobs,\n\u001b[0;32m    475\u001b[0m     verbose\u001b[38;5;241m=\u001b[39m\u001b[38;5;28mself\u001b[39m\u001b[38;5;241m.\u001b[39mverbose,\n\u001b[0;32m    476\u001b[0m     prefer\u001b[38;5;241m=\u001b[39m\u001b[38;5;124m\"\u001b[39m\u001b[38;5;124mthreads\u001b[39m\u001b[38;5;124m\"\u001b[39m,\n\u001b[0;32m    477\u001b[0m )(\n\u001b[0;32m    478\u001b[0m     delayed(_parallel_build_trees)(\n\u001b[0;32m    479\u001b[0m         t,\n\u001b[0;32m    480\u001b[0m         \u001b[38;5;28mself\u001b[39m\u001b[38;5;241m.\u001b[39mbootstrap,\n\u001b[0;32m    481\u001b[0m         X,\n\u001b[0;32m    482\u001b[0m         y,\n\u001b[0;32m    483\u001b[0m         sample_weight,\n\u001b[0;32m    484\u001b[0m         i,\n\u001b[0;32m    485\u001b[0m         \u001b[38;5;28mlen\u001b[39m(trees),\n\u001b[0;32m    486\u001b[0m         verbose\u001b[38;5;241m=\u001b[39m\u001b[38;5;28mself\u001b[39m\u001b[38;5;241m.\u001b[39mverbose,\n\u001b[0;32m    487\u001b[0m         class_weight\u001b[38;5;241m=\u001b[39m\u001b[38;5;28mself\u001b[39m\u001b[38;5;241m.\u001b[39mclass_weight,\n\u001b[0;32m    488\u001b[0m         n_samples_bootstrap\u001b[38;5;241m=\u001b[39mn_samples_bootstrap,\n\u001b[0;32m    489\u001b[0m     )\n\u001b[0;32m    490\u001b[0m     \u001b[38;5;28;01mfor\u001b[39;00m i, t \u001b[38;5;129;01min\u001b[39;00m \u001b[38;5;28menumerate\u001b[39m(trees)\n\u001b[0;32m    491\u001b[0m )\n\u001b[0;32m    493\u001b[0m \u001b[38;5;66;03m# Collect newly grown trees\u001b[39;00m\n\u001b[0;32m    494\u001b[0m \u001b[38;5;28mself\u001b[39m\u001b[38;5;241m.\u001b[39mestimators_\u001b[38;5;241m.\u001b[39mextend(trees)\n",
      "File \u001b[1;32m~\\anaconda3\\Lib\\site-packages\\sklearn\\utils\\parallel.py:63\u001b[0m, in \u001b[0;36mParallel.__call__\u001b[1;34m(self, iterable)\u001b[0m\n\u001b[0;32m     58\u001b[0m config \u001b[38;5;241m=\u001b[39m get_config()\n\u001b[0;32m     59\u001b[0m iterable_with_config \u001b[38;5;241m=\u001b[39m (\n\u001b[0;32m     60\u001b[0m     (_with_config(delayed_func, config), args, kwargs)\n\u001b[0;32m     61\u001b[0m     \u001b[38;5;28;01mfor\u001b[39;00m delayed_func, args, kwargs \u001b[38;5;129;01min\u001b[39;00m iterable\n\u001b[0;32m     62\u001b[0m )\n\u001b[1;32m---> 63\u001b[0m \u001b[38;5;28;01mreturn\u001b[39;00m \u001b[38;5;28msuper\u001b[39m()\u001b[38;5;241m.\u001b[39m\u001b[38;5;21m__call__\u001b[39m(iterable_with_config)\n",
      "File \u001b[1;32m~\\anaconda3\\Lib\\site-packages\\joblib\\parallel.py:1088\u001b[0m, in \u001b[0;36mParallel.__call__\u001b[1;34m(self, iterable)\u001b[0m\n\u001b[0;32m   1085\u001b[0m \u001b[38;5;28;01mif\u001b[39;00m \u001b[38;5;28mself\u001b[39m\u001b[38;5;241m.\u001b[39mdispatch_one_batch(iterator):\n\u001b[0;32m   1086\u001b[0m     \u001b[38;5;28mself\u001b[39m\u001b[38;5;241m.\u001b[39m_iterating \u001b[38;5;241m=\u001b[39m \u001b[38;5;28mself\u001b[39m\u001b[38;5;241m.\u001b[39m_original_iterator \u001b[38;5;129;01mis\u001b[39;00m \u001b[38;5;129;01mnot\u001b[39;00m \u001b[38;5;28;01mNone\u001b[39;00m\n\u001b[1;32m-> 1088\u001b[0m \u001b[38;5;28;01mwhile\u001b[39;00m \u001b[38;5;28mself\u001b[39m\u001b[38;5;241m.\u001b[39mdispatch_one_batch(iterator):\n\u001b[0;32m   1089\u001b[0m     \u001b[38;5;28;01mpass\u001b[39;00m\n\u001b[0;32m   1091\u001b[0m \u001b[38;5;28;01mif\u001b[39;00m pre_dispatch \u001b[38;5;241m==\u001b[39m \u001b[38;5;124m\"\u001b[39m\u001b[38;5;124mall\u001b[39m\u001b[38;5;124m\"\u001b[39m \u001b[38;5;129;01mor\u001b[39;00m n_jobs \u001b[38;5;241m==\u001b[39m \u001b[38;5;241m1\u001b[39m:\n\u001b[0;32m   1092\u001b[0m     \u001b[38;5;66;03m# The iterable was consumed all at once by the above for loop.\u001b[39;00m\n\u001b[0;32m   1093\u001b[0m     \u001b[38;5;66;03m# No need to wait for async callbacks to trigger to\u001b[39;00m\n\u001b[0;32m   1094\u001b[0m     \u001b[38;5;66;03m# consumption.\u001b[39;00m\n",
      "File \u001b[1;32m~\\anaconda3\\Lib\\site-packages\\joblib\\parallel.py:901\u001b[0m, in \u001b[0;36mParallel.dispatch_one_batch\u001b[1;34m(self, iterator)\u001b[0m\n\u001b[0;32m    899\u001b[0m     \u001b[38;5;28;01mreturn\u001b[39;00m \u001b[38;5;28;01mFalse\u001b[39;00m\n\u001b[0;32m    900\u001b[0m \u001b[38;5;28;01melse\u001b[39;00m:\n\u001b[1;32m--> 901\u001b[0m     \u001b[38;5;28mself\u001b[39m\u001b[38;5;241m.\u001b[39m_dispatch(tasks)\n\u001b[0;32m    902\u001b[0m     \u001b[38;5;28;01mreturn\u001b[39;00m \u001b[38;5;28;01mTrue\u001b[39;00m\n",
      "File \u001b[1;32m~\\anaconda3\\Lib\\site-packages\\joblib\\parallel.py:819\u001b[0m, in \u001b[0;36mParallel._dispatch\u001b[1;34m(self, batch)\u001b[0m\n\u001b[0;32m    817\u001b[0m \u001b[38;5;28;01mwith\u001b[39;00m \u001b[38;5;28mself\u001b[39m\u001b[38;5;241m.\u001b[39m_lock:\n\u001b[0;32m    818\u001b[0m     job_idx \u001b[38;5;241m=\u001b[39m \u001b[38;5;28mlen\u001b[39m(\u001b[38;5;28mself\u001b[39m\u001b[38;5;241m.\u001b[39m_jobs)\n\u001b[1;32m--> 819\u001b[0m     job \u001b[38;5;241m=\u001b[39m \u001b[38;5;28mself\u001b[39m\u001b[38;5;241m.\u001b[39m_backend\u001b[38;5;241m.\u001b[39mapply_async(batch, callback\u001b[38;5;241m=\u001b[39mcb)\n\u001b[0;32m    820\u001b[0m     \u001b[38;5;66;03m# A job can complete so quickly than its callback is\u001b[39;00m\n\u001b[0;32m    821\u001b[0m     \u001b[38;5;66;03m# called before we get here, causing self._jobs to\u001b[39;00m\n\u001b[0;32m    822\u001b[0m     \u001b[38;5;66;03m# grow. To ensure correct results ordering, .insert is\u001b[39;00m\n\u001b[0;32m    823\u001b[0m     \u001b[38;5;66;03m# used (rather than .append) in the following line\u001b[39;00m\n\u001b[0;32m    824\u001b[0m     \u001b[38;5;28mself\u001b[39m\u001b[38;5;241m.\u001b[39m_jobs\u001b[38;5;241m.\u001b[39minsert(job_idx, job)\n",
      "File \u001b[1;32m~\\anaconda3\\Lib\\site-packages\\joblib\\_parallel_backends.py:208\u001b[0m, in \u001b[0;36mSequentialBackend.apply_async\u001b[1;34m(self, func, callback)\u001b[0m\n\u001b[0;32m    206\u001b[0m \u001b[38;5;28;01mdef\u001b[39;00m \u001b[38;5;21mapply_async\u001b[39m(\u001b[38;5;28mself\u001b[39m, func, callback\u001b[38;5;241m=\u001b[39m\u001b[38;5;28;01mNone\u001b[39;00m):\n\u001b[0;32m    207\u001b[0m \u001b[38;5;250m    \u001b[39m\u001b[38;5;124;03m\"\"\"Schedule a func to be run\"\"\"\u001b[39;00m\n\u001b[1;32m--> 208\u001b[0m     result \u001b[38;5;241m=\u001b[39m ImmediateResult(func)\n\u001b[0;32m    209\u001b[0m     \u001b[38;5;28;01mif\u001b[39;00m callback:\n\u001b[0;32m    210\u001b[0m         callback(result)\n",
      "File \u001b[1;32m~\\anaconda3\\Lib\\site-packages\\joblib\\_parallel_backends.py:597\u001b[0m, in \u001b[0;36mImmediateResult.__init__\u001b[1;34m(self, batch)\u001b[0m\n\u001b[0;32m    594\u001b[0m \u001b[38;5;28;01mdef\u001b[39;00m \u001b[38;5;21m__init__\u001b[39m(\u001b[38;5;28mself\u001b[39m, batch):\n\u001b[0;32m    595\u001b[0m     \u001b[38;5;66;03m# Don't delay the application, to avoid keeping the input\u001b[39;00m\n\u001b[0;32m    596\u001b[0m     \u001b[38;5;66;03m# arguments in memory\u001b[39;00m\n\u001b[1;32m--> 597\u001b[0m     \u001b[38;5;28mself\u001b[39m\u001b[38;5;241m.\u001b[39mresults \u001b[38;5;241m=\u001b[39m batch()\n",
      "File \u001b[1;32m~\\anaconda3\\Lib\\site-packages\\joblib\\parallel.py:288\u001b[0m, in \u001b[0;36mBatchedCalls.__call__\u001b[1;34m(self)\u001b[0m\n\u001b[0;32m    284\u001b[0m \u001b[38;5;28;01mdef\u001b[39;00m \u001b[38;5;21m__call__\u001b[39m(\u001b[38;5;28mself\u001b[39m):\n\u001b[0;32m    285\u001b[0m     \u001b[38;5;66;03m# Set the default nested backend to self._backend but do not set the\u001b[39;00m\n\u001b[0;32m    286\u001b[0m     \u001b[38;5;66;03m# change the default number of processes to -1\u001b[39;00m\n\u001b[0;32m    287\u001b[0m     \u001b[38;5;28;01mwith\u001b[39;00m parallel_backend(\u001b[38;5;28mself\u001b[39m\u001b[38;5;241m.\u001b[39m_backend, n_jobs\u001b[38;5;241m=\u001b[39m\u001b[38;5;28mself\u001b[39m\u001b[38;5;241m.\u001b[39m_n_jobs):\n\u001b[1;32m--> 288\u001b[0m         \u001b[38;5;28;01mreturn\u001b[39;00m [func(\u001b[38;5;241m*\u001b[39margs, \u001b[38;5;241m*\u001b[39m\u001b[38;5;241m*\u001b[39mkwargs)\n\u001b[0;32m    289\u001b[0m                 \u001b[38;5;28;01mfor\u001b[39;00m func, args, kwargs \u001b[38;5;129;01min\u001b[39;00m \u001b[38;5;28mself\u001b[39m\u001b[38;5;241m.\u001b[39mitems]\n",
      "File \u001b[1;32m~\\anaconda3\\Lib\\site-packages\\joblib\\parallel.py:288\u001b[0m, in \u001b[0;36m<listcomp>\u001b[1;34m(.0)\u001b[0m\n\u001b[0;32m    284\u001b[0m \u001b[38;5;28;01mdef\u001b[39;00m \u001b[38;5;21m__call__\u001b[39m(\u001b[38;5;28mself\u001b[39m):\n\u001b[0;32m    285\u001b[0m     \u001b[38;5;66;03m# Set the default nested backend to self._backend but do not set the\u001b[39;00m\n\u001b[0;32m    286\u001b[0m     \u001b[38;5;66;03m# change the default number of processes to -1\u001b[39;00m\n\u001b[0;32m    287\u001b[0m     \u001b[38;5;28;01mwith\u001b[39;00m parallel_backend(\u001b[38;5;28mself\u001b[39m\u001b[38;5;241m.\u001b[39m_backend, n_jobs\u001b[38;5;241m=\u001b[39m\u001b[38;5;28mself\u001b[39m\u001b[38;5;241m.\u001b[39m_n_jobs):\n\u001b[1;32m--> 288\u001b[0m         \u001b[38;5;28;01mreturn\u001b[39;00m [func(\u001b[38;5;241m*\u001b[39margs, \u001b[38;5;241m*\u001b[39m\u001b[38;5;241m*\u001b[39mkwargs)\n\u001b[0;32m    289\u001b[0m                 \u001b[38;5;28;01mfor\u001b[39;00m func, args, kwargs \u001b[38;5;129;01min\u001b[39;00m \u001b[38;5;28mself\u001b[39m\u001b[38;5;241m.\u001b[39mitems]\n",
      "File \u001b[1;32m~\\anaconda3\\Lib\\site-packages\\sklearn\\utils\\parallel.py:123\u001b[0m, in \u001b[0;36m_FuncWrapper.__call__\u001b[1;34m(self, *args, **kwargs)\u001b[0m\n\u001b[0;32m    121\u001b[0m     config \u001b[38;5;241m=\u001b[39m {}\n\u001b[0;32m    122\u001b[0m \u001b[38;5;28;01mwith\u001b[39;00m config_context(\u001b[38;5;241m*\u001b[39m\u001b[38;5;241m*\u001b[39mconfig):\n\u001b[1;32m--> 123\u001b[0m     \u001b[38;5;28;01mreturn\u001b[39;00m \u001b[38;5;28mself\u001b[39m\u001b[38;5;241m.\u001b[39mfunction(\u001b[38;5;241m*\u001b[39margs, \u001b[38;5;241m*\u001b[39m\u001b[38;5;241m*\u001b[39mkwargs)\n",
      "File \u001b[1;32m~\\anaconda3\\Lib\\site-packages\\sklearn\\ensemble\\_forest.py:186\u001b[0m, in \u001b[0;36m_parallel_build_trees\u001b[1;34m(tree, bootstrap, X, y, sample_weight, tree_idx, n_trees, verbose, class_weight, n_samples_bootstrap)\u001b[0m\n\u001b[0;32m    184\u001b[0m     tree\u001b[38;5;241m.\u001b[39mfit(X, y, sample_weight\u001b[38;5;241m=\u001b[39mcurr_sample_weight, check_input\u001b[38;5;241m=\u001b[39m\u001b[38;5;28;01mFalse\u001b[39;00m)\n\u001b[0;32m    185\u001b[0m \u001b[38;5;28;01melse\u001b[39;00m:\n\u001b[1;32m--> 186\u001b[0m     tree\u001b[38;5;241m.\u001b[39mfit(X, y, sample_weight\u001b[38;5;241m=\u001b[39msample_weight, check_input\u001b[38;5;241m=\u001b[39m\u001b[38;5;28;01mFalse\u001b[39;00m)\n\u001b[0;32m    188\u001b[0m \u001b[38;5;28;01mreturn\u001b[39;00m tree\n",
      "File \u001b[1;32m~\\anaconda3\\Lib\\site-packages\\sklearn\\tree\\_classes.py:889\u001b[0m, in \u001b[0;36mDecisionTreeClassifier.fit\u001b[1;34m(self, X, y, sample_weight, check_input)\u001b[0m\n\u001b[0;32m    859\u001b[0m \u001b[38;5;28;01mdef\u001b[39;00m \u001b[38;5;21mfit\u001b[39m(\u001b[38;5;28mself\u001b[39m, X, y, sample_weight\u001b[38;5;241m=\u001b[39m\u001b[38;5;28;01mNone\u001b[39;00m, check_input\u001b[38;5;241m=\u001b[39m\u001b[38;5;28;01mTrue\u001b[39;00m):\n\u001b[0;32m    860\u001b[0m \u001b[38;5;250m    \u001b[39m\u001b[38;5;124;03m\"\"\"Build a decision tree classifier from the training set (X, y).\u001b[39;00m\n\u001b[0;32m    861\u001b[0m \n\u001b[0;32m    862\u001b[0m \u001b[38;5;124;03m    Parameters\u001b[39;00m\n\u001b[1;32m   (...)\u001b[0m\n\u001b[0;32m    886\u001b[0m \u001b[38;5;124;03m        Fitted estimator.\u001b[39;00m\n\u001b[0;32m    887\u001b[0m \u001b[38;5;124;03m    \"\"\"\u001b[39;00m\n\u001b[1;32m--> 889\u001b[0m     \u001b[38;5;28msuper\u001b[39m()\u001b[38;5;241m.\u001b[39mfit(\n\u001b[0;32m    890\u001b[0m         X,\n\u001b[0;32m    891\u001b[0m         y,\n\u001b[0;32m    892\u001b[0m         sample_weight\u001b[38;5;241m=\u001b[39msample_weight,\n\u001b[0;32m    893\u001b[0m         check_input\u001b[38;5;241m=\u001b[39mcheck_input,\n\u001b[0;32m    894\u001b[0m     )\n\u001b[0;32m    895\u001b[0m     \u001b[38;5;28;01mreturn\u001b[39;00m \u001b[38;5;28mself\u001b[39m\n",
      "File \u001b[1;32m~\\anaconda3\\Lib\\site-packages\\sklearn\\tree\\_classes.py:379\u001b[0m, in \u001b[0;36mBaseDecisionTree.fit\u001b[1;34m(self, X, y, sample_weight, check_input)\u001b[0m\n\u001b[0;32m    368\u001b[0m \u001b[38;5;28;01melse\u001b[39;00m:\n\u001b[0;32m    369\u001b[0m     builder \u001b[38;5;241m=\u001b[39m BestFirstTreeBuilder(\n\u001b[0;32m    370\u001b[0m         splitter,\n\u001b[0;32m    371\u001b[0m         min_samples_split,\n\u001b[1;32m   (...)\u001b[0m\n\u001b[0;32m    376\u001b[0m         \u001b[38;5;28mself\u001b[39m\u001b[38;5;241m.\u001b[39mmin_impurity_decrease,\n\u001b[0;32m    377\u001b[0m     )\n\u001b[1;32m--> 379\u001b[0m builder\u001b[38;5;241m.\u001b[39mbuild(\u001b[38;5;28mself\u001b[39m\u001b[38;5;241m.\u001b[39mtree_, X, y, sample_weight)\n\u001b[0;32m    381\u001b[0m \u001b[38;5;28;01mif\u001b[39;00m \u001b[38;5;28mself\u001b[39m\u001b[38;5;241m.\u001b[39mn_outputs_ \u001b[38;5;241m==\u001b[39m \u001b[38;5;241m1\u001b[39m \u001b[38;5;129;01mand\u001b[39;00m is_classifier(\u001b[38;5;28mself\u001b[39m):\n\u001b[0;32m    382\u001b[0m     \u001b[38;5;28mself\u001b[39m\u001b[38;5;241m.\u001b[39mn_classes_ \u001b[38;5;241m=\u001b[39m \u001b[38;5;28mself\u001b[39m\u001b[38;5;241m.\u001b[39mn_classes_[\u001b[38;5;241m0\u001b[39m]\n",
      "\u001b[1;31mKeyboardInterrupt\u001b[0m: "
     ]
    }
   ],
   "source": [
    "import pandas as pd\n",
    "import numpy as np\n",
    "from sklearn.model_selection import train_test_split\n",
    "from sklearn.metrics import accuracy_score, precision_score, recall_score, f1_score\n",
    "from sklearn.ensemble import VotingClassifier, RandomForestClassifier, GradientBoostingClassifier, AdaBoostClassifier, BaggingClassifier, ExtraTreesClassifier\n",
    "from sklearn.svm import SVC\n",
    "from sklearn.linear_model import LogisticRegression, Perceptron, SGDClassifier\n",
    "from sklearn.naive_bayes import GaussianNB\n",
    "from sklearn.neighbors import KNeighborsClassifier\n",
    "from sklearn.tree import DecisionTreeClassifier\n",
    "from catboost import CatBoostClassifier\n",
    "from lightgbm import LGBMClassifier\n",
    "from xgboost import XGBClassifier\n",
    "import json\n",
    "\n",
    "# Define classifiers\n",
    "classifiers = {\n",
    "    'SVM': SVC(probability=True, random_state=101),\n",
    "    'Random Forest': RandomForestClassifier(n_estimators=100, random_state=101),\n",
    "    'Logistic Regression': LogisticRegression(random_state=101),\n",
    "    'Naive Bayes': GaussianNB(),\n",
    "    'K-NN': KNeighborsClassifier(n_neighbors=5),\n",
    "    'Gradient Boosting': GradientBoostingClassifier(n_estimators=100, random_state=101),\n",
    "    'AdaBoost': AdaBoostClassifier(n_estimators=100, random_state=101),\n",
    "    'Decision Tree': DecisionTreeClassifier(random_state=101),\n",
    "    'Perceptron': Perceptron(random_state=101),\n",
    "    'SGD': SGDClassifier(random_state=101),\n",
    "    'Bagging': BaggingClassifier(n_estimators=100, random_state=101),\n",
    "    'Extra Trees': ExtraTreesClassifier(n_estimators=100, random_state=101),\n",
    "    'CatBoost': CatBoostClassifier(verbose=0, random_state=101),\n",
    "    'LightGBM': LGBMClassifier(verbose=-1, random_state=101),\n",
    "    'XGBoost': XGBClassifier(use_label_encoder=False, eval_metric='logloss', random_state=101)\n",
    "}\n",
    "\n",
    "\n",
    "# Load encoding schemes file loading\n",
    "all_encodings = load_encodings('encoding_dict.json')\n",
    "# Function to load encoding schemes from a JSON file\n",
    "def load_encodings(file_path):\n",
    "    with open(file_path, 'r') as file:\n",
    "        encodings = json.load(file)\n",
    "    return encodings\n",
    "\n",
    "# Function to transform a sequence into numerical data based on an encoding scheme\n",
    "def transform_sequence(sequence, encoding):\n",
    "    numerical_data = []\n",
    "    for i in range(0, len(sequence)-1, 1):  # Assuming di-nucleotides\n",
    "        di_nucleotide = sequence[i:i+2]\n",
    "        numerical_data.append(encoding.get(di_nucleotide, 0))  # Default to 0 for unknown di-nucleotides\n",
    "    window_avgs = [np.mean(numerical_data[i:i+15]) for i in range(0, len(numerical_data), 15)]  # Window size of 10\n",
    "    return window_avgs\n",
    "\n",
    "\n",
    "# Function to load and transform data from positive and negative files using an encoding scheme\n",
    "def load_and_transform_data(pos_file_path, neg_file_path, encoding):\n",
    "    combined_data = pd.DataFrame()\n",
    "    for file_path, label in [(pos_file_path, 1), (neg_file_path, 0)]:\n",
    "        with open(file_path, 'r') as file:\n",
    "            sequences = file.read().split('\\n')\n",
    "            print (len (sequences))\n",
    "        transformed_data = [transform_sequence(seq, encoding) for seq in sequences if seq]\n",
    "        labels = [label] * len(transformed_data)\n",
    "        df = pd.DataFrame(transformed_data)\n",
    "        df['label'] = labels\n",
    "        combined_data = pd.concat([combined_data, df], ignore_index=True)\n",
    "    combined_data = combined_data.apply(lambda x: pd.Series(x.dropna().values)).fillna(0)  # Handle NaN\n",
    "    return combined_data.drop('label', axis=1), combined_data['label']\n",
    "\n",
    "\n",
    "# DataFrame to store results\n",
    "results_df = pd.DataFrame(columns=['Encoding Scheme', 'Classifier', 'Accuracy', 'Precision', 'Recall', 'F1 Score'])\n",
    "\n",
    "\n",
    "# Process each encoding scheme\n",
    "for encoding_name, encoding in all_encodings.items():\n",
    "    # Load and transform data\n",
    "    X, y = load_and_transform_data('oripos.txt', 'orineg.txt', encoding)      \n",
    "    X_train, X_test, y_train, y_test = train_test_split(X, y, test_size=0.1, random_state=101)\n",
    "\n",
    "    # Train and evaluate classifiers\n",
    "    for name, clf in classifiers.items():\n",
    "        clf.fit(X_train, y_train)\n",
    "        y_pred = clf.predict(X_test)\n",
    "        new_row = {\n",
    "            'Encoding Scheme': encoding_name,\n",
    "            'Classifier': name,\n",
    "            'Accuracy': accuracy_score(y_test, y_pred),\n",
    "            'Precision': precision_score(y_test, y_pred, zero_division=0),\n",
    "            'Recall': recall_score(y_test, y_pred, zero_division=0),\n",
    "            'F1 Score': f1_score(y_test, y_pred, zero_division=0)\n",
    "        }\n",
    "        results_df = pd.concat([results_df, pd.DataFrame([new_row])], ignore_index=True)\n",
    "        print (encoding_name, name, accuracy_score(y_test, y_pred))\n",
    "\n",
    "# Export results to CSV\n",
    "results_df.to_csv('classification_results_cand300.csv', index=False)\n",
    "\n"
   ]
  },
  {
   "cell_type": "code",
   "execution_count": null,
   "id": "09b67d74-3999-4fea-8a9c-94c10cc7c143",
   "metadata": {},
   "outputs": [],
   "source": [
    "### Trying to work with all"
   ]
  },
  {
   "cell_type": "code",
   "execution_count": null,
   "id": "5c216e46-e108-4344-bf12-2c7818f9dfa2",
   "metadata": {},
   "outputs": [
    {
     "name": "stdout",
     "output_type": "stream",
     "text": [
      "Processing Kluy_correct_10001\n",
      "Results for SVM exported to classification_results_300win.csv\n",
      "Results for Random Forest exported to classification_results_300win.csv\n",
      "Results for Logistic Regression exported to classification_results_300win.csv\n",
      "Results for Naive Bayes exported to classification_results_300win.csv\n"
     ]
    },
    {
     "name": "stderr",
     "output_type": "stream",
     "text": [
      "C:\\Users\\ADMIN\\anaconda3\\Lib\\site-packages\\sklearn\\linear_model\\_logistic.py:458: ConvergenceWarning: lbfgs failed to converge (status=1):\n",
      "STOP: TOTAL NO. of ITERATIONS REACHED LIMIT.\n",
      "\n",
      "Increase the number of iterations (max_iter) or scale the data as shown in:\n",
      "    https://scikit-learn.org/stable/modules/preprocessing.html\n",
      "Please also refer to the documentation for alternative solver options:\n",
      "    https://scikit-learn.org/stable/modules/linear_model.html#logistic-regression\n",
      "  n_iter_i = _check_optimize_result(\n"
     ]
    },
    {
     "name": "stdout",
     "output_type": "stream",
     "text": [
      "Results for K-NN exported to classification_results_300win.csv\n",
      "Results for Gradient Boosting exported to classification_results_300win.csv\n",
      "Results for AdaBoost exported to classification_results_300win.csv\n",
      "Results for Decision Tree exported to classification_results_300win.csv\n",
      "Results for Perceptron exported to classification_results_300win.csv\n",
      "Results for SGD exported to classification_results_300win.csv\n",
      "Results for Bagging exported to classification_results_300win.csv\n",
      "Results for Extra Trees exported to classification_results_300win.csv\n",
      "Results for CatBoost exported to classification_results_300win.csv\n",
      "Results for LightGBM exported to classification_results_300win.csv\n",
      "Results for XGBoost exported to classification_results_300win.csv\n",
      "Results for SVM exported to classification_results_300win.csv\n",
      "Results for Random Forest exported to classification_results_300win.csv\n",
      "Results for Logistic Regression exported to classification_results_300win.csv\n",
      "Results for Naive Bayes exported to classification_results_300win.csv\n"
     ]
    },
    {
     "name": "stderr",
     "output_type": "stream",
     "text": [
      "C:\\Users\\ADMIN\\anaconda3\\Lib\\site-packages\\sklearn\\linear_model\\_logistic.py:458: ConvergenceWarning: lbfgs failed to converge (status=1):\n",
      "STOP: TOTAL NO. of ITERATIONS REACHED LIMIT.\n",
      "\n",
      "Increase the number of iterations (max_iter) or scale the data as shown in:\n",
      "    https://scikit-learn.org/stable/modules/preprocessing.html\n",
      "Please also refer to the documentation for alternative solver options:\n",
      "    https://scikit-learn.org/stable/modules/linear_model.html#logistic-regression\n",
      "  n_iter_i = _check_optimize_result(\n"
     ]
    },
    {
     "name": "stdout",
     "output_type": "stream",
     "text": [
      "Results for K-NN exported to classification_results_300win.csv\n",
      "Results for Gradient Boosting exported to classification_results_300win.csv\n",
      "Results for AdaBoost exported to classification_results_300win.csv\n",
      "Results for Decision Tree exported to classification_results_300win.csv\n",
      "Results for Perceptron exported to classification_results_300win.csv\n",
      "Results for SGD exported to classification_results_300win.csv\n",
      "Results for Bagging exported to classification_results_300win.csv\n",
      "Results for Extra Trees exported to classification_results_300win.csv\n",
      "Results for CatBoost exported to classification_results_300win.csv\n",
      "Results for LightGBM exported to classification_results_300win.csv\n",
      "Results for XGBoost exported to classification_results_300win.csv\n",
      "Results for SVM exported to classification_results_300win.csv\n",
      "Results for Random Forest exported to classification_results_300win.csv\n",
      "Results for Logistic Regression exported to classification_results_300win.csv\n",
      "Results for Naive Bayes exported to classification_results_300win.csv\n"
     ]
    },
    {
     "name": "stderr",
     "output_type": "stream",
     "text": [
      "C:\\Users\\ADMIN\\anaconda3\\Lib\\site-packages\\sklearn\\linear_model\\_logistic.py:458: ConvergenceWarning: lbfgs failed to converge (status=1):\n",
      "STOP: TOTAL NO. of ITERATIONS REACHED LIMIT.\n",
      "\n",
      "Increase the number of iterations (max_iter) or scale the data as shown in:\n",
      "    https://scikit-learn.org/stable/modules/preprocessing.html\n",
      "Please also refer to the documentation for alternative solver options:\n",
      "    https://scikit-learn.org/stable/modules/linear_model.html#logistic-regression\n",
      "  n_iter_i = _check_optimize_result(\n"
     ]
    },
    {
     "name": "stdout",
     "output_type": "stream",
     "text": [
      "Results for K-NN exported to classification_results_300win.csv\n",
      "Results for Gradient Boosting exported to classification_results_300win.csv\n",
      "Results for AdaBoost exported to classification_results_300win.csv\n",
      "Results for Decision Tree exported to classification_results_300win.csv\n",
      "Results for Perceptron exported to classification_results_300win.csv\n",
      "Results for SGD exported to classification_results_300win.csv\n",
      "Results for Bagging exported to classification_results_300win.csv\n",
      "Results for Extra Trees exported to classification_results_300win.csv\n",
      "Results for CatBoost exported to classification_results_300win.csv\n",
      "Results for LightGBM exported to classification_results_300win.csv\n",
      "Results for XGBoost exported to classification_results_300win.csv\n",
      "Results for SVM exported to classification_results_300win.csv\n",
      "Results for Random Forest exported to classification_results_300win.csv\n",
      "Results for Logistic Regression exported to classification_results_300win.csv\n",
      "Results for Naive Bayes exported to classification_results_300win.csv\n",
      "Results for K-NN exported to classification_results_300win.csv\n",
      "Results for Gradient Boosting exported to classification_results_300win.csv\n",
      "Results for AdaBoost exported to classification_results_300win.csv\n",
      "Results for Decision Tree exported to classification_results_300win.csv\n",
      "Results for Perceptron exported to classification_results_300win.csv\n",
      "Results for SGD exported to classification_results_300win.csv\n",
      "Results for Bagging exported to classification_results_300win.csv\n",
      "Results for Extra Trees exported to classification_results_300win.csv\n",
      "Results for CatBoost exported to classification_results_300win.csv\n",
      "Results for LightGBM exported to classification_results_300win.csv\n",
      "Results for XGBoost exported to classification_results_300win.csv\n",
      "Results for SVM exported to classification_results_300win.csv\n",
      "Results for Random Forest exported to classification_results_300win.csv\n",
      "Results for Logistic Regression exported to classification_results_300win.csv\n",
      "Results for Naive Bayes exported to classification_results_300win.csv\n",
      "Results for K-NN exported to classification_results_300win.csv\n",
      "Results for Gradient Boosting exported to classification_results_300win.csv\n",
      "Results for AdaBoost exported to classification_results_300win.csv\n",
      "Results for Decision Tree exported to classification_results_300win.csv\n",
      "Results for Perceptron exported to classification_results_300win.csv\n",
      "Results for SGD exported to classification_results_300win.csv\n",
      "Results for Bagging exported to classification_results_300win.csv\n",
      "Results for Extra Trees exported to classification_results_300win.csv\n",
      "Results for CatBoost exported to classification_results_300win.csv\n",
      "Results for LightGBM exported to classification_results_300win.csv\n",
      "Results for XGBoost exported to classification_results_300win.csv\n",
      "Results for SVM exported to classification_results_300win.csv\n",
      "Results for Random Forest exported to classification_results_300win.csv\n",
      "Results for Logistic Regression exported to classification_results_300win.csv\n",
      "Results for Naive Bayes exported to classification_results_300win.csv\n",
      "Results for K-NN exported to classification_results_300win.csv\n",
      "Results for Gradient Boosting exported to classification_results_300win.csv\n",
      "Results for AdaBoost exported to classification_results_300win.csv\n",
      "Results for Decision Tree exported to classification_results_300win.csv\n",
      "Results for Perceptron exported to classification_results_300win.csv\n",
      "Results for SGD exported to classification_results_300win.csv\n",
      "Results for Bagging exported to classification_results_300win.csv\n",
      "Results for Extra Trees exported to classification_results_300win.csv\n",
      "Results for CatBoost exported to classification_results_300win.csv\n",
      "Results for LightGBM exported to classification_results_300win.csv\n",
      "Results for XGBoost exported to classification_results_300win.csv\n",
      "Results for SVM exported to classification_results_300win.csv\n",
      "Results for Random Forest exported to classification_results_300win.csv\n",
      "Results for Logistic Regression exported to classification_results_300win.csv\n",
      "Results for Naive Bayes exported to classification_results_300win.csv\n"
     ]
    },
    {
     "name": "stderr",
     "output_type": "stream",
     "text": [
      "C:\\Users\\ADMIN\\anaconda3\\Lib\\site-packages\\sklearn\\linear_model\\_logistic.py:458: ConvergenceWarning: lbfgs failed to converge (status=1):\n",
      "STOP: TOTAL NO. of ITERATIONS REACHED LIMIT.\n",
      "\n",
      "Increase the number of iterations (max_iter) or scale the data as shown in:\n",
      "    https://scikit-learn.org/stable/modules/preprocessing.html\n",
      "Please also refer to the documentation for alternative solver options:\n",
      "    https://scikit-learn.org/stable/modules/linear_model.html#logistic-regression\n",
      "  n_iter_i = _check_optimize_result(\n"
     ]
    },
    {
     "name": "stdout",
     "output_type": "stream",
     "text": [
      "Results for K-NN exported to classification_results_300win.csv\n",
      "Results for Gradient Boosting exported to classification_results_300win.csv\n",
      "Results for AdaBoost exported to classification_results_300win.csv\n",
      "Results for Decision Tree exported to classification_results_300win.csv\n",
      "Results for Perceptron exported to classification_results_300win.csv\n",
      "Results for SGD exported to classification_results_300win.csv\n",
      "Results for Bagging exported to classification_results_300win.csv\n",
      "Results for Extra Trees exported to classification_results_300win.csv\n",
      "Results for CatBoost exported to classification_results_300win.csv\n",
      "Results for LightGBM exported to classification_results_300win.csv\n",
      "Results for XGBoost exported to classification_results_300win.csv\n",
      "Results for SVM exported to classification_results_300win.csv\n",
      "Results for Random Forest exported to classification_results_300win.csv\n",
      "Results for Logistic Regression exported to classification_results_300win.csv\n",
      "Results for Naive Bayes exported to classification_results_300win.csv\n"
     ]
    },
    {
     "name": "stderr",
     "output_type": "stream",
     "text": [
      "C:\\Users\\ADMIN\\anaconda3\\Lib\\site-packages\\sklearn\\linear_model\\_logistic.py:458: ConvergenceWarning: lbfgs failed to converge (status=1):\n",
      "STOP: TOTAL NO. of ITERATIONS REACHED LIMIT.\n",
      "\n",
      "Increase the number of iterations (max_iter) or scale the data as shown in:\n",
      "    https://scikit-learn.org/stable/modules/preprocessing.html\n",
      "Please also refer to the documentation for alternative solver options:\n",
      "    https://scikit-learn.org/stable/modules/linear_model.html#logistic-regression\n",
      "  n_iter_i = _check_optimize_result(\n"
     ]
    },
    {
     "name": "stdout",
     "output_type": "stream",
     "text": [
      "Results for K-NN exported to classification_results_300win.csv\n",
      "Results for Gradient Boosting exported to classification_results_300win.csv\n",
      "Results for AdaBoost exported to classification_results_300win.csv\n",
      "Results for Decision Tree exported to classification_results_300win.csv\n",
      "Results for Perceptron exported to classification_results_300win.csv\n",
      "Results for SGD exported to classification_results_300win.csv\n",
      "Results for Bagging exported to classification_results_300win.csv\n",
      "Results for Extra Trees exported to classification_results_300win.csv\n",
      "Results for CatBoost exported to classification_results_300win.csv\n",
      "Results for LightGBM exported to classification_results_300win.csv\n",
      "Results for XGBoost exported to classification_results_300win.csv\n",
      "Results for SVM exported to classification_results_300win.csv\n",
      "Results for Random Forest exported to classification_results_300win.csv\n",
      "Results for Logistic Regression exported to classification_results_300win.csv\n"
     ]
    },
    {
     "name": "stderr",
     "output_type": "stream",
     "text": [
      "C:\\Users\\ADMIN\\anaconda3\\Lib\\site-packages\\sklearn\\linear_model\\_logistic.py:458: ConvergenceWarning: lbfgs failed to converge (status=1):\n",
      "STOP: TOTAL NO. of ITERATIONS REACHED LIMIT.\n",
      "\n",
      "Increase the number of iterations (max_iter) or scale the data as shown in:\n",
      "    https://scikit-learn.org/stable/modules/preprocessing.html\n",
      "Please also refer to the documentation for alternative solver options:\n",
      "    https://scikit-learn.org/stable/modules/linear_model.html#logistic-regression\n",
      "  n_iter_i = _check_optimize_result(\n"
     ]
    },
    {
     "name": "stdout",
     "output_type": "stream",
     "text": [
      "Results for Naive Bayes exported to classification_results_300win.csv\n",
      "Results for K-NN exported to classification_results_300win.csv\n",
      "Results for Gradient Boosting exported to classification_results_300win.csv\n",
      "Results for AdaBoost exported to classification_results_300win.csv\n",
      "Results for Decision Tree exported to classification_results_300win.csv\n",
      "Results for Perceptron exported to classification_results_300win.csv\n",
      "Results for SGD exported to classification_results_300win.csv\n",
      "Results for Bagging exported to classification_results_300win.csv\n",
      "Results for Extra Trees exported to classification_results_300win.csv\n",
      "Results for CatBoost exported to classification_results_300win.csv\n",
      "Results for LightGBM exported to classification_results_300win.csv\n",
      "Results for XGBoost exported to classification_results_300win.csv\n",
      "Results for SVM exported to classification_results_300win.csv\n",
      "Results for Random Forest exported to classification_results_300win.csv\n",
      "Results for Logistic Regression exported to classification_results_300win.csv\n"
     ]
    },
    {
     "name": "stderr",
     "output_type": "stream",
     "text": [
      "C:\\Users\\ADMIN\\anaconda3\\Lib\\site-packages\\sklearn\\linear_model\\_logistic.py:458: ConvergenceWarning: lbfgs failed to converge (status=1):\n",
      "STOP: TOTAL NO. of ITERATIONS REACHED LIMIT.\n",
      "\n",
      "Increase the number of iterations (max_iter) or scale the data as shown in:\n",
      "    https://scikit-learn.org/stable/modules/preprocessing.html\n",
      "Please also refer to the documentation for alternative solver options:\n",
      "    https://scikit-learn.org/stable/modules/linear_model.html#logistic-regression\n",
      "  n_iter_i = _check_optimize_result(\n"
     ]
    },
    {
     "name": "stdout",
     "output_type": "stream",
     "text": [
      "Results for Naive Bayes exported to classification_results_300win.csv\n",
      "Results for K-NN exported to classification_results_300win.csv\n",
      "Results for Gradient Boosting exported to classification_results_300win.csv\n",
      "Results for AdaBoost exported to classification_results_300win.csv\n",
      "Results for Decision Tree exported to classification_results_300win.csv\n",
      "Results for Perceptron exported to classification_results_300win.csv\n",
      "Results for SGD exported to classification_results_300win.csv\n",
      "Results for Bagging exported to classification_results_300win.csv\n",
      "Results for Extra Trees exported to classification_results_300win.csv\n",
      "Results for CatBoost exported to classification_results_300win.csv\n",
      "Results for LightGBM exported to classification_results_300win.csv\n",
      "Results for XGBoost exported to classification_results_300win.csv\n",
      "Results for SVM exported to classification_results_300win.csv\n",
      "Results for Random Forest exported to classification_results_300win.csv\n",
      "Results for Logistic Regression exported to classification_results_300win.csv\n"
     ]
    },
    {
     "name": "stderr",
     "output_type": "stream",
     "text": [
      "C:\\Users\\ADMIN\\anaconda3\\Lib\\site-packages\\sklearn\\linear_model\\_logistic.py:458: ConvergenceWarning: lbfgs failed to converge (status=1):\n",
      "STOP: TOTAL NO. of ITERATIONS REACHED LIMIT.\n",
      "\n",
      "Increase the number of iterations (max_iter) or scale the data as shown in:\n",
      "    https://scikit-learn.org/stable/modules/preprocessing.html\n",
      "Please also refer to the documentation for alternative solver options:\n",
      "    https://scikit-learn.org/stable/modules/linear_model.html#logistic-regression\n",
      "  n_iter_i = _check_optimize_result(\n"
     ]
    },
    {
     "name": "stdout",
     "output_type": "stream",
     "text": [
      "Results for Naive Bayes exported to classification_results_300win.csv\n",
      "Results for K-NN exported to classification_results_300win.csv\n",
      "Results for Gradient Boosting exported to classification_results_300win.csv\n",
      "Results for AdaBoost exported to classification_results_300win.csv\n",
      "Results for Decision Tree exported to classification_results_300win.csv\n",
      "Results for Perceptron exported to classification_results_300win.csv\n",
      "Results for SGD exported to classification_results_300win.csv\n",
      "Results for Bagging exported to classification_results_300win.csv\n",
      "Results for Extra Trees exported to classification_results_300win.csv\n",
      "Results for CatBoost exported to classification_results_300win.csv\n",
      "Results for LightGBM exported to classification_results_300win.csv\n",
      "Results for XGBoost exported to classification_results_300win.csv\n",
      "Results for SVM exported to classification_results_300win.csv\n",
      "Results for Random Forest exported to classification_results_300win.csv\n"
     ]
    },
    {
     "name": "stderr",
     "output_type": "stream",
     "text": [
      "C:\\Users\\ADMIN\\anaconda3\\Lib\\site-packages\\sklearn\\linear_model\\_logistic.py:458: ConvergenceWarning: lbfgs failed to converge (status=1):\n",
      "STOP: TOTAL NO. of ITERATIONS REACHED LIMIT.\n",
      "\n",
      "Increase the number of iterations (max_iter) or scale the data as shown in:\n",
      "    https://scikit-learn.org/stable/modules/preprocessing.html\n",
      "Please also refer to the documentation for alternative solver options:\n",
      "    https://scikit-learn.org/stable/modules/linear_model.html#logistic-regression\n",
      "  n_iter_i = _check_optimize_result(\n"
     ]
    },
    {
     "name": "stdout",
     "output_type": "stream",
     "text": [
      "Results for Logistic Regression exported to classification_results_300win.csv\n",
      "Results for Naive Bayes exported to classification_results_300win.csv\n",
      "Results for K-NN exported to classification_results_300win.csv\n",
      "Results for Gradient Boosting exported to classification_results_300win.csv\n",
      "Results for AdaBoost exported to classification_results_300win.csv\n",
      "Results for Decision Tree exported to classification_results_300win.csv\n",
      "Results for Perceptron exported to classification_results_300win.csv\n",
      "Results for SGD exported to classification_results_300win.csv\n",
      "Results for Bagging exported to classification_results_300win.csv\n",
      "Results for Extra Trees exported to classification_results_300win.csv\n",
      "Results for CatBoost exported to classification_results_300win.csv\n",
      "Results for LightGBM exported to classification_results_300win.csv\n",
      "Results for XGBoost exported to classification_results_300win.csv\n",
      "Results for SVM exported to classification_results_300win.csv\n",
      "Results for Random Forest exported to classification_results_300win.csv\n",
      "Results for Logistic Regression exported to classification_results_300win.csv\n",
      "Results for Naive Bayes exported to classification_results_300win.csv\n"
     ]
    },
    {
     "name": "stderr",
     "output_type": "stream",
     "text": [
      "C:\\Users\\ADMIN\\anaconda3\\Lib\\site-packages\\sklearn\\linear_model\\_logistic.py:458: ConvergenceWarning: lbfgs failed to converge (status=1):\n",
      "STOP: TOTAL NO. of ITERATIONS REACHED LIMIT.\n",
      "\n",
      "Increase the number of iterations (max_iter) or scale the data as shown in:\n",
      "    https://scikit-learn.org/stable/modules/preprocessing.html\n",
      "Please also refer to the documentation for alternative solver options:\n",
      "    https://scikit-learn.org/stable/modules/linear_model.html#logistic-regression\n",
      "  n_iter_i = _check_optimize_result(\n"
     ]
    },
    {
     "name": "stdout",
     "output_type": "stream",
     "text": [
      "Results for K-NN exported to classification_results_300win.csv\n",
      "Results for Gradient Boosting exported to classification_results_300win.csv\n",
      "Results for AdaBoost exported to classification_results_300win.csv\n",
      "Results for Decision Tree exported to classification_results_300win.csv\n",
      "Results for Perceptron exported to classification_results_300win.csv\n",
      "Results for SGD exported to classification_results_300win.csv\n",
      "Results for Bagging exported to classification_results_300win.csv\n",
      "Results for Extra Trees exported to classification_results_300win.csv\n",
      "Results for CatBoost exported to classification_results_300win.csv\n",
      "Results for LightGBM exported to classification_results_300win.csv\n",
      "Results for XGBoost exported to classification_results_300win.csv\n",
      "Results for SVM exported to classification_results_300win.csv\n",
      "Results for Random Forest exported to classification_results_300win.csv\n",
      "Results for Logistic Regression exported to classification_results_300win.csv\n",
      "Results for Naive Bayes exported to classification_results_300win.csv\n"
     ]
    },
    {
     "name": "stderr",
     "output_type": "stream",
     "text": [
      "C:\\Users\\ADMIN\\anaconda3\\Lib\\site-packages\\sklearn\\linear_model\\_logistic.py:458: ConvergenceWarning: lbfgs failed to converge (status=1):\n",
      "STOP: TOTAL NO. of ITERATIONS REACHED LIMIT.\n",
      "\n",
      "Increase the number of iterations (max_iter) or scale the data as shown in:\n",
      "    https://scikit-learn.org/stable/modules/preprocessing.html\n",
      "Please also refer to the documentation for alternative solver options:\n",
      "    https://scikit-learn.org/stable/modules/linear_model.html#logistic-regression\n",
      "  n_iter_i = _check_optimize_result(\n"
     ]
    },
    {
     "name": "stdout",
     "output_type": "stream",
     "text": [
      "Results for K-NN exported to classification_results_300win.csv\n",
      "Results for Gradient Boosting exported to classification_results_300win.csv\n",
      "Results for AdaBoost exported to classification_results_300win.csv\n",
      "Results for Decision Tree exported to classification_results_300win.csv\n",
      "Results for Perceptron exported to classification_results_300win.csv\n",
      "Results for SGD exported to classification_results_300win.csv\n",
      "Results for Bagging exported to classification_results_300win.csv\n",
      "Results for Extra Trees exported to classification_results_300win.csv\n",
      "Results for CatBoost exported to classification_results_300win.csv\n",
      "Results for LightGBM exported to classification_results_300win.csv\n",
      "Results for XGBoost exported to classification_results_300win.csv\n",
      "Results for SVM exported to classification_results_300win.csv\n",
      "Results for Random Forest exported to classification_results_300win.csv\n",
      "Results for Logistic Regression exported to classification_results_300win.csv\n",
      "Results for Naive Bayes exported to classification_results_300win.csv\n"
     ]
    },
    {
     "name": "stderr",
     "output_type": "stream",
     "text": [
      "C:\\Users\\ADMIN\\anaconda3\\Lib\\site-packages\\sklearn\\linear_model\\_logistic.py:458: ConvergenceWarning: lbfgs failed to converge (status=1):\n",
      "STOP: TOTAL NO. of ITERATIONS REACHED LIMIT.\n",
      "\n",
      "Increase the number of iterations (max_iter) or scale the data as shown in:\n",
      "    https://scikit-learn.org/stable/modules/preprocessing.html\n",
      "Please also refer to the documentation for alternative solver options:\n",
      "    https://scikit-learn.org/stable/modules/linear_model.html#logistic-regression\n",
      "  n_iter_i = _check_optimize_result(\n"
     ]
    },
    {
     "name": "stdout",
     "output_type": "stream",
     "text": [
      "Results for K-NN exported to classification_results_300win.csv\n",
      "Results for Gradient Boosting exported to classification_results_300win.csv\n",
      "Results for AdaBoost exported to classification_results_300win.csv\n",
      "Results for Decision Tree exported to classification_results_300win.csv\n",
      "Results for Perceptron exported to classification_results_300win.csv\n",
      "Results for SGD exported to classification_results_300win.csv\n",
      "Results for Bagging exported to classification_results_300win.csv\n",
      "Results for Extra Trees exported to classification_results_300win.csv\n",
      "Results for CatBoost exported to classification_results_300win.csv\n",
      "Results for LightGBM exported to classification_results_300win.csv\n",
      "Results for XGBoost exported to classification_results_300win.csv\n",
      "Processing Pichia_correct_10001\n",
      "Results for SVM exported to classification_results_300win.csv\n",
      "Results for Random Forest exported to classification_results_300win.csv\n",
      "Results for Logistic Regression exported to classification_results_300win.csv\n",
      "Results for Naive Bayes exported to classification_results_300win.csv\n"
     ]
    },
    {
     "name": "stderr",
     "output_type": "stream",
     "text": [
      "C:\\Users\\ADMIN\\anaconda3\\Lib\\site-packages\\sklearn\\linear_model\\_logistic.py:458: ConvergenceWarning: lbfgs failed to converge (status=1):\n",
      "STOP: TOTAL NO. of ITERATIONS REACHED LIMIT.\n",
      "\n",
      "Increase the number of iterations (max_iter) or scale the data as shown in:\n",
      "    https://scikit-learn.org/stable/modules/preprocessing.html\n",
      "Please also refer to the documentation for alternative solver options:\n",
      "    https://scikit-learn.org/stable/modules/linear_model.html#logistic-regression\n",
      "  n_iter_i = _check_optimize_result(\n"
     ]
    },
    {
     "name": "stdout",
     "output_type": "stream",
     "text": [
      "Results for K-NN exported to classification_results_300win.csv\n",
      "Results for Gradient Boosting exported to classification_results_300win.csv\n",
      "Results for AdaBoost exported to classification_results_300win.csv\n",
      "Results for Decision Tree exported to classification_results_300win.csv\n",
      "Results for Perceptron exported to classification_results_300win.csv\n",
      "Results for SGD exported to classification_results_300win.csv\n",
      "Results for Bagging exported to classification_results_300win.csv\n",
      "Results for Extra Trees exported to classification_results_300win.csv\n",
      "Results for CatBoost exported to classification_results_300win.csv\n",
      "Results for LightGBM exported to classification_results_300win.csv\n",
      "Results for XGBoost exported to classification_results_300win.csv\n",
      "Results for SVM exported to classification_results_300win.csv\n",
      "Results for Random Forest exported to classification_results_300win.csv\n",
      "Results for Logistic Regression exported to classification_results_300win.csv\n",
      "Results for Naive Bayes exported to classification_results_300win.csv\n"
     ]
    },
    {
     "name": "stderr",
     "output_type": "stream",
     "text": [
      "C:\\Users\\ADMIN\\anaconda3\\Lib\\site-packages\\sklearn\\linear_model\\_logistic.py:458: ConvergenceWarning: lbfgs failed to converge (status=1):\n",
      "STOP: TOTAL NO. of ITERATIONS REACHED LIMIT.\n",
      "\n",
      "Increase the number of iterations (max_iter) or scale the data as shown in:\n",
      "    https://scikit-learn.org/stable/modules/preprocessing.html\n",
      "Please also refer to the documentation for alternative solver options:\n",
      "    https://scikit-learn.org/stable/modules/linear_model.html#logistic-regression\n",
      "  n_iter_i = _check_optimize_result(\n"
     ]
    },
    {
     "name": "stdout",
     "output_type": "stream",
     "text": [
      "Results for K-NN exported to classification_results_300win.csv\n",
      "Results for Gradient Boosting exported to classification_results_300win.csv\n",
      "Results for AdaBoost exported to classification_results_300win.csv\n",
      "Results for Decision Tree exported to classification_results_300win.csv\n",
      "Results for Perceptron exported to classification_results_300win.csv\n",
      "Results for SGD exported to classification_results_300win.csv\n",
      "Results for Bagging exported to classification_results_300win.csv\n",
      "Results for Extra Trees exported to classification_results_300win.csv\n",
      "Results for CatBoost exported to classification_results_300win.csv\n",
      "Results for LightGBM exported to classification_results_300win.csv\n",
      "Results for XGBoost exported to classification_results_300win.csv\n",
      "Results for SVM exported to classification_results_300win.csv\n",
      "Results for Random Forest exported to classification_results_300win.csv\n",
      "Results for Logistic Regression exported to classification_results_300win.csv\n",
      "Results for Naive Bayes exported to classification_results_300win.csv\n"
     ]
    },
    {
     "name": "stderr",
     "output_type": "stream",
     "text": [
      "C:\\Users\\ADMIN\\anaconda3\\Lib\\site-packages\\sklearn\\linear_model\\_logistic.py:458: ConvergenceWarning: lbfgs failed to converge (status=1):\n",
      "STOP: TOTAL NO. of ITERATIONS REACHED LIMIT.\n",
      "\n",
      "Increase the number of iterations (max_iter) or scale the data as shown in:\n",
      "    https://scikit-learn.org/stable/modules/preprocessing.html\n",
      "Please also refer to the documentation for alternative solver options:\n",
      "    https://scikit-learn.org/stable/modules/linear_model.html#logistic-regression\n",
      "  n_iter_i = _check_optimize_result(\n"
     ]
    },
    {
     "name": "stdout",
     "output_type": "stream",
     "text": [
      "Results for K-NN exported to classification_results_300win.csv\n",
      "Results for Gradient Boosting exported to classification_results_300win.csv\n",
      "Results for AdaBoost exported to classification_results_300win.csv\n",
      "Results for Decision Tree exported to classification_results_300win.csv\n",
      "Results for Perceptron exported to classification_results_300win.csv\n",
      "Results for SGD exported to classification_results_300win.csv\n",
      "Results for Bagging exported to classification_results_300win.csv\n",
      "Results for Extra Trees exported to classification_results_300win.csv\n",
      "Results for CatBoost exported to classification_results_300win.csv\n",
      "Results for LightGBM exported to classification_results_300win.csv\n",
      "Results for XGBoost exported to classification_results_300win.csv\n",
      "Results for SVM exported to classification_results_300win.csv\n",
      "Results for Random Forest exported to classification_results_300win.csv\n",
      "Results for Logistic Regression exported to classification_results_300win.csv\n",
      "Results for Naive Bayes exported to classification_results_300win.csv\n"
     ]
    },
    {
     "name": "stderr",
     "output_type": "stream",
     "text": [
      "C:\\Users\\ADMIN\\anaconda3\\Lib\\site-packages\\sklearn\\linear_model\\_logistic.py:458: ConvergenceWarning: lbfgs failed to converge (status=1):\n",
      "STOP: TOTAL NO. of ITERATIONS REACHED LIMIT.\n",
      "\n",
      "Increase the number of iterations (max_iter) or scale the data as shown in:\n",
      "    https://scikit-learn.org/stable/modules/preprocessing.html\n",
      "Please also refer to the documentation for alternative solver options:\n",
      "    https://scikit-learn.org/stable/modules/linear_model.html#logistic-regression\n",
      "  n_iter_i = _check_optimize_result(\n"
     ]
    },
    {
     "name": "stdout",
     "output_type": "stream",
     "text": [
      "Results for K-NN exported to classification_results_300win.csv\n",
      "Results for Gradient Boosting exported to classification_results_300win.csv\n",
      "Results for AdaBoost exported to classification_results_300win.csv\n",
      "Results for Decision Tree exported to classification_results_300win.csv\n",
      "Results for Perceptron exported to classification_results_300win.csv\n",
      "Results for SGD exported to classification_results_300win.csv\n",
      "Results for Bagging exported to classification_results_300win.csv\n",
      "Results for Extra Trees exported to classification_results_300win.csv\n",
      "Results for CatBoost exported to classification_results_300win.csv\n",
      "Results for LightGBM exported to classification_results_300win.csv\n",
      "Results for XGBoost exported to classification_results_300win.csv\n",
      "Results for SVM exported to classification_results_300win.csv\n",
      "Results for Random Forest exported to classification_results_300win.csv\n",
      "Results for Logistic Regression exported to classification_results_300win.csv\n",
      "Results for Naive Bayes exported to classification_results_300win.csv\n",
      "Results for K-NN exported to classification_results_300win.csv\n",
      "Results for Gradient Boosting exported to classification_results_300win.csv\n",
      "Results for AdaBoost exported to classification_results_300win.csv\n",
      "Results for Decision Tree exported to classification_results_300win.csv\n",
      "Results for Perceptron exported to classification_results_300win.csv\n",
      "Results for SGD exported to classification_results_300win.csv\n",
      "Results for Bagging exported to classification_results_300win.csv\n",
      "Results for Extra Trees exported to classification_results_300win.csv\n",
      "Results for CatBoost exported to classification_results_300win.csv\n",
      "Results for LightGBM exported to classification_results_300win.csv\n",
      "Results for XGBoost exported to classification_results_300win.csv\n",
      "Results for SVM exported to classification_results_300win.csv\n",
      "Results for Random Forest exported to classification_results_300win.csv\n",
      "Results for Logistic Regression exported to classification_results_300win.csv\n",
      "Results for Naive Bayes exported to classification_results_300win.csv\n",
      "Results for K-NN exported to classification_results_300win.csv\n",
      "Results for Gradient Boosting exported to classification_results_300win.csv\n",
      "Results for AdaBoost exported to classification_results_300win.csv\n",
      "Results for Decision Tree exported to classification_results_300win.csv\n",
      "Results for Perceptron exported to classification_results_300win.csv\n",
      "Results for SGD exported to classification_results_300win.csv\n",
      "Results for Bagging exported to classification_results_300win.csv\n",
      "Results for Extra Trees exported to classification_results_300win.csv\n",
      "Results for CatBoost exported to classification_results_300win.csv\n",
      "Results for LightGBM exported to classification_results_300win.csv\n",
      "Results for XGBoost exported to classification_results_300win.csv\n",
      "Results for SVM exported to classification_results_300win.csv\n",
      "Results for Random Forest exported to classification_results_300win.csv\n",
      "Results for Logistic Regression exported to classification_results_300win.csv\n",
      "Results for Naive Bayes exported to classification_results_300win.csv\n"
     ]
    },
    {
     "name": "stderr",
     "output_type": "stream",
     "text": [
      "C:\\Users\\ADMIN\\anaconda3\\Lib\\site-packages\\sklearn\\linear_model\\_logistic.py:458: ConvergenceWarning: lbfgs failed to converge (status=1):\n",
      "STOP: TOTAL NO. of ITERATIONS REACHED LIMIT.\n",
      "\n",
      "Increase the number of iterations (max_iter) or scale the data as shown in:\n",
      "    https://scikit-learn.org/stable/modules/preprocessing.html\n",
      "Please also refer to the documentation for alternative solver options:\n",
      "    https://scikit-learn.org/stable/modules/linear_model.html#logistic-regression\n",
      "  n_iter_i = _check_optimize_result(\n"
     ]
    },
    {
     "name": "stdout",
     "output_type": "stream",
     "text": [
      "Results for K-NN exported to classification_results_300win.csv\n",
      "Results for Gradient Boosting exported to classification_results_300win.csv\n",
      "Results for AdaBoost exported to classification_results_300win.csv\n",
      "Results for Decision Tree exported to classification_results_300win.csv\n",
      "Results for Perceptron exported to classification_results_300win.csv\n",
      "Results for SGD exported to classification_results_300win.csv\n",
      "Results for Bagging exported to classification_results_300win.csv\n",
      "Results for Extra Trees exported to classification_results_300win.csv\n",
      "Results for CatBoost exported to classification_results_300win.csv\n",
      "Results for LightGBM exported to classification_results_300win.csv\n",
      "Results for XGBoost exported to classification_results_300win.csv\n",
      "Results for SVM exported to classification_results_300win.csv\n",
      "Results for Random Forest exported to classification_results_300win.csv\n",
      "Results for Logistic Regression exported to classification_results_300win.csv\n",
      "Results for Naive Bayes exported to classification_results_300win.csv\n"
     ]
    },
    {
     "name": "stderr",
     "output_type": "stream",
     "text": [
      "C:\\Users\\ADMIN\\anaconda3\\Lib\\site-packages\\sklearn\\linear_model\\_logistic.py:458: ConvergenceWarning: lbfgs failed to converge (status=1):\n",
      "STOP: TOTAL NO. of ITERATIONS REACHED LIMIT.\n",
      "\n",
      "Increase the number of iterations (max_iter) or scale the data as shown in:\n",
      "    https://scikit-learn.org/stable/modules/preprocessing.html\n",
      "Please also refer to the documentation for alternative solver options:\n",
      "    https://scikit-learn.org/stable/modules/linear_model.html#logistic-regression\n",
      "  n_iter_i = _check_optimize_result(\n"
     ]
    },
    {
     "name": "stdout",
     "output_type": "stream",
     "text": [
      "Results for K-NN exported to classification_results_300win.csv\n",
      "Results for Gradient Boosting exported to classification_results_300win.csv\n",
      "Results for AdaBoost exported to classification_results_300win.csv\n",
      "Results for Decision Tree exported to classification_results_300win.csv\n",
      "Results for Perceptron exported to classification_results_300win.csv\n",
      "Results for SGD exported to classification_results_300win.csv\n",
      "Results for Bagging exported to classification_results_300win.csv\n",
      "Results for Extra Trees exported to classification_results_300win.csv\n",
      "Results for CatBoost exported to classification_results_300win.csv\n",
      "Results for LightGBM exported to classification_results_300win.csv\n",
      "Results for XGBoost exported to classification_results_300win.csv\n",
      "Results for SVM exported to classification_results_300win.csv\n",
      "Results for Random Forest exported to classification_results_300win.csv\n"
     ]
    },
    {
     "name": "stderr",
     "output_type": "stream",
     "text": [
      "C:\\Users\\ADMIN\\anaconda3\\Lib\\site-packages\\sklearn\\linear_model\\_logistic.py:458: ConvergenceWarning: lbfgs failed to converge (status=1):\n",
      "STOP: TOTAL NO. of ITERATIONS REACHED LIMIT.\n",
      "\n",
      "Increase the number of iterations (max_iter) or scale the data as shown in:\n",
      "    https://scikit-learn.org/stable/modules/preprocessing.html\n",
      "Please also refer to the documentation for alternative solver options:\n",
      "    https://scikit-learn.org/stable/modules/linear_model.html#logistic-regression\n",
      "  n_iter_i = _check_optimize_result(\n"
     ]
    },
    {
     "name": "stdout",
     "output_type": "stream",
     "text": [
      "Results for Logistic Regression exported to classification_results_300win.csv\n",
      "Results for Naive Bayes exported to classification_results_300win.csv\n",
      "Results for K-NN exported to classification_results_300win.csv\n",
      "Results for Gradient Boosting exported to classification_results_300win.csv\n",
      "Results for AdaBoost exported to classification_results_300win.csv\n",
      "Results for Decision Tree exported to classification_results_300win.csv\n",
      "Results for Perceptron exported to classification_results_300win.csv\n",
      "Results for SGD exported to classification_results_300win.csv\n",
      "Results for Bagging exported to classification_results_300win.csv\n",
      "Results for Extra Trees exported to classification_results_300win.csv\n",
      "Results for CatBoost exported to classification_results_300win.csv\n",
      "Results for LightGBM exported to classification_results_300win.csv\n",
      "Results for XGBoost exported to classification_results_300win.csv\n",
      "Results for SVM exported to classification_results_300win.csv\n",
      "Results for Random Forest exported to classification_results_300win.csv\n",
      "Results for Logistic Regression exported to classification_results_300win.csv\n",
      "Results for Naive Bayes exported to classification_results_300win.csv\n"
     ]
    },
    {
     "name": "stderr",
     "output_type": "stream",
     "text": [
      "C:\\Users\\ADMIN\\anaconda3\\Lib\\site-packages\\sklearn\\linear_model\\_logistic.py:458: ConvergenceWarning: lbfgs failed to converge (status=1):\n",
      "STOP: TOTAL NO. of ITERATIONS REACHED LIMIT.\n",
      "\n",
      "Increase the number of iterations (max_iter) or scale the data as shown in:\n",
      "    https://scikit-learn.org/stable/modules/preprocessing.html\n",
      "Please also refer to the documentation for alternative solver options:\n",
      "    https://scikit-learn.org/stable/modules/linear_model.html#logistic-regression\n",
      "  n_iter_i = _check_optimize_result(\n"
     ]
    },
    {
     "name": "stdout",
     "output_type": "stream",
     "text": [
      "Results for K-NN exported to classification_results_300win.csv\n",
      "Results for Gradient Boosting exported to classification_results_300win.csv\n",
      "Results for AdaBoost exported to classification_results_300win.csv\n",
      "Results for Decision Tree exported to classification_results_300win.csv\n",
      "Results for Perceptron exported to classification_results_300win.csv\n",
      "Results for SGD exported to classification_results_300win.csv\n",
      "Results for Bagging exported to classification_results_300win.csv\n",
      "Results for Extra Trees exported to classification_results_300win.csv\n",
      "Results for CatBoost exported to classification_results_300win.csv\n",
      "Results for LightGBM exported to classification_results_300win.csv\n",
      "Results for XGBoost exported to classification_results_300win.csv\n",
      "Results for SVM exported to classification_results_300win.csv\n",
      "Results for Random Forest exported to classification_results_300win.csv\n",
      "Results for Logistic Regression exported to classification_results_300win.csv\n",
      "Results for Naive Bayes exported to classification_results_300win.csv\n"
     ]
    },
    {
     "name": "stderr",
     "output_type": "stream",
     "text": [
      "C:\\Users\\ADMIN\\anaconda3\\Lib\\site-packages\\sklearn\\linear_model\\_logistic.py:458: ConvergenceWarning: lbfgs failed to converge (status=1):\n",
      "STOP: TOTAL NO. of ITERATIONS REACHED LIMIT.\n",
      "\n",
      "Increase the number of iterations (max_iter) or scale the data as shown in:\n",
      "    https://scikit-learn.org/stable/modules/preprocessing.html\n",
      "Please also refer to the documentation for alternative solver options:\n",
      "    https://scikit-learn.org/stable/modules/linear_model.html#logistic-regression\n",
      "  n_iter_i = _check_optimize_result(\n"
     ]
    },
    {
     "name": "stdout",
     "output_type": "stream",
     "text": [
      "Results for K-NN exported to classification_results_300win.csv\n",
      "Results for Gradient Boosting exported to classification_results_300win.csv\n",
      "Results for AdaBoost exported to classification_results_300win.csv\n",
      "Results for Decision Tree exported to classification_results_300win.csv\n",
      "Results for Perceptron exported to classification_results_300win.csv\n",
      "Results for SGD exported to classification_results_300win.csv\n",
      "Results for Bagging exported to classification_results_300win.csv\n",
      "Results for Extra Trees exported to classification_results_300win.csv\n",
      "Results for CatBoost exported to classification_results_300win.csv\n",
      "Results for LightGBM exported to classification_results_300win.csv\n",
      "Results for XGBoost exported to classification_results_300win.csv\n",
      "Results for SVM exported to classification_results_300win.csv\n",
      "Results for Random Forest exported to classification_results_300win.csv\n",
      "Results for Logistic Regression exported to classification_results_300win.csv\n",
      "Results for Naive Bayes exported to classification_results_300win.csv\n",
      "Results for K-NN exported to classification_results_300win.csv\n",
      "Results for Gradient Boosting exported to classification_results_300win.csv\n",
      "Results for AdaBoost exported to classification_results_300win.csv\n",
      "Results for Decision Tree exported to classification_results_300win.csv\n",
      "Results for Perceptron exported to classification_results_300win.csv\n",
      "Results for SGD exported to classification_results_300win.csv\n",
      "Results for Bagging exported to classification_results_300win.csv\n",
      "Results for Extra Trees exported to classification_results_300win.csv\n",
      "Results for CatBoost exported to classification_results_300win.csv\n",
      "Results for LightGBM exported to classification_results_300win.csv\n",
      "Results for XGBoost exported to classification_results_300win.csv\n",
      "Results for SVM exported to classification_results_300win.csv\n",
      "Results for Random Forest exported to classification_results_300win.csv\n",
      "Results for Logistic Regression exported to classification_results_300win.csv\n",
      "Results for Naive Bayes exported to classification_results_300win.csv\n"
     ]
    },
    {
     "name": "stderr",
     "output_type": "stream",
     "text": [
      "C:\\Users\\ADMIN\\anaconda3\\Lib\\site-packages\\sklearn\\linear_model\\_logistic.py:458: ConvergenceWarning: lbfgs failed to converge (status=1):\n",
      "STOP: TOTAL NO. of ITERATIONS REACHED LIMIT.\n",
      "\n",
      "Increase the number of iterations (max_iter) or scale the data as shown in:\n",
      "    https://scikit-learn.org/stable/modules/preprocessing.html\n",
      "Please also refer to the documentation for alternative solver options:\n",
      "    https://scikit-learn.org/stable/modules/linear_model.html#logistic-regression\n",
      "  n_iter_i = _check_optimize_result(\n"
     ]
    },
    {
     "name": "stdout",
     "output_type": "stream",
     "text": [
      "Results for K-NN exported to classification_results_300win.csv\n",
      "Results for Gradient Boosting exported to classification_results_300win.csv\n",
      "Results for AdaBoost exported to classification_results_300win.csv\n",
      "Results for Decision Tree exported to classification_results_300win.csv\n",
      "Results for Perceptron exported to classification_results_300win.csv\n",
      "Results for SGD exported to classification_results_300win.csv\n",
      "Results for Bagging exported to classification_results_300win.csv\n",
      "Results for Extra Trees exported to classification_results_300win.csv\n",
      "Results for CatBoost exported to classification_results_300win.csv\n",
      "Results for LightGBM exported to classification_results_300win.csv\n",
      "Results for XGBoost exported to classification_results_300win.csv\n",
      "Results for SVM exported to classification_results_300win.csv\n",
      "Results for Random Forest exported to classification_results_300win.csv\n",
      "Results for Logistic Regression exported to classification_results_300win.csv\n",
      "Results for Naive Bayes exported to classification_results_300win.csv\n"
     ]
    },
    {
     "name": "stderr",
     "output_type": "stream",
     "text": [
      "C:\\Users\\ADMIN\\anaconda3\\Lib\\site-packages\\sklearn\\linear_model\\_logistic.py:458: ConvergenceWarning: lbfgs failed to converge (status=1):\n",
      "STOP: TOTAL NO. of ITERATIONS REACHED LIMIT.\n",
      "\n",
      "Increase the number of iterations (max_iter) or scale the data as shown in:\n",
      "    https://scikit-learn.org/stable/modules/preprocessing.html\n",
      "Please also refer to the documentation for alternative solver options:\n",
      "    https://scikit-learn.org/stable/modules/linear_model.html#logistic-regression\n",
      "  n_iter_i = _check_optimize_result(\n"
     ]
    },
    {
     "name": "stdout",
     "output_type": "stream",
     "text": [
      "Results for K-NN exported to classification_results_300win.csv\n",
      "Results for Gradient Boosting exported to classification_results_300win.csv\n",
      "Results for AdaBoost exported to classification_results_300win.csv\n",
      "Results for Decision Tree exported to classification_results_300win.csv\n",
      "Results for Perceptron exported to classification_results_300win.csv\n",
      "Results for SGD exported to classification_results_300win.csv\n",
      "Results for Bagging exported to classification_results_300win.csv\n",
      "Results for Extra Trees exported to classification_results_300win.csv\n",
      "Results for CatBoost exported to classification_results_300win.csv\n",
      "Results for LightGBM exported to classification_results_300win.csv\n",
      "Results for XGBoost exported to classification_results_300win.csv\n",
      "Results for SVM exported to classification_results_300win.csv\n",
      "Results for Random Forest exported to classification_results_300win.csv\n",
      "Results for Logistic Regression exported to classification_results_300win.csv\n",
      "Results for Naive Bayes exported to classification_results_300win.csv\n"
     ]
    },
    {
     "name": "stderr",
     "output_type": "stream",
     "text": [
      "C:\\Users\\ADMIN\\anaconda3\\Lib\\site-packages\\sklearn\\linear_model\\_logistic.py:458: ConvergenceWarning: lbfgs failed to converge (status=1):\n",
      "STOP: TOTAL NO. of ITERATIONS REACHED LIMIT.\n",
      "\n",
      "Increase the number of iterations (max_iter) or scale the data as shown in:\n",
      "    https://scikit-learn.org/stable/modules/preprocessing.html\n",
      "Please also refer to the documentation for alternative solver options:\n",
      "    https://scikit-learn.org/stable/modules/linear_model.html#logistic-regression\n",
      "  n_iter_i = _check_optimize_result(\n"
     ]
    },
    {
     "name": "stdout",
     "output_type": "stream",
     "text": [
      "Results for K-NN exported to classification_results_300win.csv\n",
      "Results for Gradient Boosting exported to classification_results_300win.csv\n",
      "Results for AdaBoost exported to classification_results_300win.csv\n",
      "Results for Decision Tree exported to classification_results_300win.csv\n",
      "Results for Perceptron exported to classification_results_300win.csv\n",
      "Results for SGD exported to classification_results_300win.csv\n",
      "Results for Bagging exported to classification_results_300win.csv\n",
      "Results for Extra Trees exported to classification_results_300win.csv\n",
      "Results for CatBoost exported to classification_results_300win.csv\n",
      "Results for LightGBM exported to classification_results_300win.csv\n",
      "Results for XGBoost exported to classification_results_300win.csv\n",
      "Processing Schizo_correct_10001\n",
      "Results for SVM exported to classification_results_300win.csv\n",
      "Results for Random Forest exported to classification_results_300win.csv\n",
      "Results for Logistic Regression exported to classification_results_300win.csv\n",
      "Results for Naive Bayes exported to classification_results_300win.csv\n"
     ]
    },
    {
     "name": "stderr",
     "output_type": "stream",
     "text": [
      "C:\\Users\\ADMIN\\anaconda3\\Lib\\site-packages\\sklearn\\linear_model\\_logistic.py:458: ConvergenceWarning: lbfgs failed to converge (status=1):\n",
      "STOP: TOTAL NO. of ITERATIONS REACHED LIMIT.\n",
      "\n",
      "Increase the number of iterations (max_iter) or scale the data as shown in:\n",
      "    https://scikit-learn.org/stable/modules/preprocessing.html\n",
      "Please also refer to the documentation for alternative solver options:\n",
      "    https://scikit-learn.org/stable/modules/linear_model.html#logistic-regression\n",
      "  n_iter_i = _check_optimize_result(\n"
     ]
    },
    {
     "name": "stdout",
     "output_type": "stream",
     "text": [
      "Results for K-NN exported to classification_results_300win.csv\n",
      "Results for Gradient Boosting exported to classification_results_300win.csv\n",
      "Results for AdaBoost exported to classification_results_300win.csv\n",
      "Results for Decision Tree exported to classification_results_300win.csv\n",
      "Results for Perceptron exported to classification_results_300win.csv\n",
      "Results for SGD exported to classification_results_300win.csv\n",
      "Results for Bagging exported to classification_results_300win.csv\n",
      "Results for Extra Trees exported to classification_results_300win.csv\n",
      "Results for CatBoost exported to classification_results_300win.csv\n",
      "Results for LightGBM exported to classification_results_300win.csv\n",
      "Results for XGBoost exported to classification_results_300win.csv\n",
      "Results for SVM exported to classification_results_300win.csv\n",
      "Results for Random Forest exported to classification_results_300win.csv\n",
      "Results for Logistic Regression exported to classification_results_300win.csv\n",
      "Results for Naive Bayes exported to classification_results_300win.csv\n"
     ]
    },
    {
     "name": "stderr",
     "output_type": "stream",
     "text": [
      "C:\\Users\\ADMIN\\anaconda3\\Lib\\site-packages\\sklearn\\linear_model\\_logistic.py:458: ConvergenceWarning: lbfgs failed to converge (status=1):\n",
      "STOP: TOTAL NO. of ITERATIONS REACHED LIMIT.\n",
      "\n",
      "Increase the number of iterations (max_iter) or scale the data as shown in:\n",
      "    https://scikit-learn.org/stable/modules/preprocessing.html\n",
      "Please also refer to the documentation for alternative solver options:\n",
      "    https://scikit-learn.org/stable/modules/linear_model.html#logistic-regression\n",
      "  n_iter_i = _check_optimize_result(\n"
     ]
    },
    {
     "name": "stdout",
     "output_type": "stream",
     "text": [
      "Results for K-NN exported to classification_results_300win.csv\n",
      "Results for Gradient Boosting exported to classification_results_300win.csv\n",
      "Results for AdaBoost exported to classification_results_300win.csv\n",
      "Results for Decision Tree exported to classification_results_300win.csv\n",
      "Results for Perceptron exported to classification_results_300win.csv\n",
      "Results for SGD exported to classification_results_300win.csv\n",
      "Results for Bagging exported to classification_results_300win.csv\n",
      "Results for Extra Trees exported to classification_results_300win.csv\n",
      "Results for CatBoost exported to classification_results_300win.csv\n",
      "Results for LightGBM exported to classification_results_300win.csv\n",
      "Results for XGBoost exported to classification_results_300win.csv\n",
      "Results for SVM exported to classification_results_300win.csv\n",
      "Results for Random Forest exported to classification_results_300win.csv\n",
      "Results for Logistic Regression exported to classification_results_300win.csv\n",
      "Results for Naive Bayes exported to classification_results_300win.csv\n"
     ]
    },
    {
     "name": "stderr",
     "output_type": "stream",
     "text": [
      "C:\\Users\\ADMIN\\anaconda3\\Lib\\site-packages\\sklearn\\linear_model\\_logistic.py:458: ConvergenceWarning: lbfgs failed to converge (status=1):\n",
      "STOP: TOTAL NO. of ITERATIONS REACHED LIMIT.\n",
      "\n",
      "Increase the number of iterations (max_iter) or scale the data as shown in:\n",
      "    https://scikit-learn.org/stable/modules/preprocessing.html\n",
      "Please also refer to the documentation for alternative solver options:\n",
      "    https://scikit-learn.org/stable/modules/linear_model.html#logistic-regression\n",
      "  n_iter_i = _check_optimize_result(\n"
     ]
    },
    {
     "name": "stdout",
     "output_type": "stream",
     "text": [
      "Results for K-NN exported to classification_results_300win.csv\n",
      "Results for Gradient Boosting exported to classification_results_300win.csv\n",
      "Results for AdaBoost exported to classification_results_300win.csv\n",
      "Results for Decision Tree exported to classification_results_300win.csv\n",
      "Results for Perceptron exported to classification_results_300win.csv\n",
      "Results for SGD exported to classification_results_300win.csv\n",
      "Results for Bagging exported to classification_results_300win.csv\n",
      "Results for Extra Trees exported to classification_results_300win.csv\n",
      "Results for CatBoost exported to classification_results_300win.csv\n",
      "Results for LightGBM exported to classification_results_300win.csv\n",
      "Results for XGBoost exported to classification_results_300win.csv\n",
      "Results for SVM exported to classification_results_300win.csv\n",
      "Results for Random Forest exported to classification_results_300win.csv\n",
      "Results for Logistic Regression exported to classification_results_300win.csv\n",
      "Results for Naive Bayes exported to classification_results_300win.csv\n"
     ]
    },
    {
     "name": "stderr",
     "output_type": "stream",
     "text": [
      "C:\\Users\\ADMIN\\anaconda3\\Lib\\site-packages\\sklearn\\linear_model\\_logistic.py:458: ConvergenceWarning: lbfgs failed to converge (status=1):\n",
      "STOP: TOTAL NO. of ITERATIONS REACHED LIMIT.\n",
      "\n",
      "Increase the number of iterations (max_iter) or scale the data as shown in:\n",
      "    https://scikit-learn.org/stable/modules/preprocessing.html\n",
      "Please also refer to the documentation for alternative solver options:\n",
      "    https://scikit-learn.org/stable/modules/linear_model.html#logistic-regression\n",
      "  n_iter_i = _check_optimize_result(\n"
     ]
    },
    {
     "name": "stdout",
     "output_type": "stream",
     "text": [
      "Results for K-NN exported to classification_results_300win.csv\n",
      "Results for Gradient Boosting exported to classification_results_300win.csv\n",
      "Results for AdaBoost exported to classification_results_300win.csv\n",
      "Results for Decision Tree exported to classification_results_300win.csv\n",
      "Results for Perceptron exported to classification_results_300win.csv\n",
      "Results for SGD exported to classification_results_300win.csv\n",
      "Results for Bagging exported to classification_results_300win.csv\n",
      "Results for Extra Trees exported to classification_results_300win.csv\n",
      "Results for CatBoost exported to classification_results_300win.csv\n",
      "Results for LightGBM exported to classification_results_300win.csv\n",
      "Results for XGBoost exported to classification_results_300win.csv\n",
      "Results for SVM exported to classification_results_300win.csv\n",
      "Results for Random Forest exported to classification_results_300win.csv\n",
      "Results for Logistic Regression exported to classification_results_300win.csv\n",
      "Results for Naive Bayes exported to classification_results_300win.csv\n",
      "Results for K-NN exported to classification_results_300win.csv\n",
      "Results for Gradient Boosting exported to classification_results_300win.csv\n",
      "Results for AdaBoost exported to classification_results_300win.csv\n",
      "Results for Decision Tree exported to classification_results_300win.csv\n",
      "Results for Perceptron exported to classification_results_300win.csv\n",
      "Results for SGD exported to classification_results_300win.csv\n",
      "Results for Bagging exported to classification_results_300win.csv\n",
      "Results for Extra Trees exported to classification_results_300win.csv\n",
      "Results for CatBoost exported to classification_results_300win.csv\n",
      "Results for LightGBM exported to classification_results_300win.csv\n",
      "Results for XGBoost exported to classification_results_300win.csv\n",
      "Results for SVM exported to classification_results_300win.csv\n",
      "Results for Random Forest exported to classification_results_300win.csv\n",
      "Results for Logistic Regression exported to classification_results_300win.csv\n",
      "Results for Naive Bayes exported to classification_results_300win.csv\n",
      "Results for K-NN exported to classification_results_300win.csv\n",
      "Results for Gradient Boosting exported to classification_results_300win.csv\n",
      "Results for AdaBoost exported to classification_results_300win.csv\n",
      "Results for Decision Tree exported to classification_results_300win.csv\n",
      "Results for Perceptron exported to classification_results_300win.csv\n",
      "Results for SGD exported to classification_results_300win.csv\n",
      "Results for Bagging exported to classification_results_300win.csv\n",
      "Results for Extra Trees exported to classification_results_300win.csv\n",
      "Results for CatBoost exported to classification_results_300win.csv\n",
      "Results for LightGBM exported to classification_results_300win.csv\n",
      "Results for XGBoost exported to classification_results_300win.csv\n",
      "Results for SVM exported to classification_results_300win.csv\n",
      "Results for Random Forest exported to classification_results_300win.csv\n",
      "Results for Logistic Regression exported to classification_results_300win.csv\n",
      "Results for Naive Bayes exported to classification_results_300win.csv\n",
      "Results for K-NN exported to classification_results_300win.csv\n"
     ]
    },
    {
     "name": "stderr",
     "output_type": "stream",
     "text": [
      "C:\\Users\\ADMIN\\anaconda3\\Lib\\site-packages\\sklearn\\linear_model\\_logistic.py:458: ConvergenceWarning: lbfgs failed to converge (status=1):\n",
      "STOP: TOTAL NO. of ITERATIONS REACHED LIMIT.\n",
      "\n",
      "Increase the number of iterations (max_iter) or scale the data as shown in:\n",
      "    https://scikit-learn.org/stable/modules/preprocessing.html\n",
      "Please also refer to the documentation for alternative solver options:\n",
      "    https://scikit-learn.org/stable/modules/linear_model.html#logistic-regression\n",
      "  n_iter_i = _check_optimize_result(\n"
     ]
    },
    {
     "name": "stdout",
     "output_type": "stream",
     "text": [
      "Results for Gradient Boosting exported to classification_results_300win.csv\n",
      "Results for AdaBoost exported to classification_results_300win.csv\n",
      "Results for Decision Tree exported to classification_results_300win.csv\n",
      "Results for Perceptron exported to classification_results_300win.csv\n",
      "Results for SGD exported to classification_results_300win.csv\n",
      "Results for Bagging exported to classification_results_300win.csv\n",
      "Results for Extra Trees exported to classification_results_300win.csv\n",
      "Results for CatBoost exported to classification_results_300win.csv\n",
      "Results for LightGBM exported to classification_results_300win.csv\n",
      "Results for XGBoost exported to classification_results_300win.csv\n",
      "Results for SVM exported to classification_results_300win.csv\n",
      "Results for Random Forest exported to classification_results_300win.csv\n",
      "Results for Logistic Regression exported to classification_results_300win.csv\n",
      "Results for Naive Bayes exported to classification_results_300win.csv\n",
      "Results for K-NN exported to classification_results_300win.csv\n"
     ]
    },
    {
     "name": "stderr",
     "output_type": "stream",
     "text": [
      "C:\\Users\\ADMIN\\anaconda3\\Lib\\site-packages\\sklearn\\linear_model\\_logistic.py:458: ConvergenceWarning: lbfgs failed to converge (status=1):\n",
      "STOP: TOTAL NO. of ITERATIONS REACHED LIMIT.\n",
      "\n",
      "Increase the number of iterations (max_iter) or scale the data as shown in:\n",
      "    https://scikit-learn.org/stable/modules/preprocessing.html\n",
      "Please also refer to the documentation for alternative solver options:\n",
      "    https://scikit-learn.org/stable/modules/linear_model.html#logistic-regression\n",
      "  n_iter_i = _check_optimize_result(\n"
     ]
    },
    {
     "name": "stdout",
     "output_type": "stream",
     "text": [
      "Results for Gradient Boosting exported to classification_results_300win.csv\n",
      "Results for AdaBoost exported to classification_results_300win.csv\n",
      "Results for Decision Tree exported to classification_results_300win.csv\n",
      "Results for Perceptron exported to classification_results_300win.csv\n",
      "Results for SGD exported to classification_results_300win.csv\n",
      "Results for Bagging exported to classification_results_300win.csv\n",
      "Results for Extra Trees exported to classification_results_300win.csv\n",
      "Results for CatBoost exported to classification_results_300win.csv\n",
      "Results for LightGBM exported to classification_results_300win.csv\n",
      "Results for XGBoost exported to classification_results_300win.csv\n",
      "Results for SVM exported to classification_results_300win.csv\n",
      "Results for Random Forest exported to classification_results_300win.csv\n",
      "Results for Logistic Regression exported to classification_results_300win.csv\n",
      "Results for Naive Bayes exported to classification_results_300win.csv\n",
      "Results for K-NN exported to classification_results_300win.csv\n"
     ]
    },
    {
     "name": "stderr",
     "output_type": "stream",
     "text": [
      "C:\\Users\\ADMIN\\anaconda3\\Lib\\site-packages\\sklearn\\linear_model\\_logistic.py:458: ConvergenceWarning: lbfgs failed to converge (status=1):\n",
      "STOP: TOTAL NO. of ITERATIONS REACHED LIMIT.\n",
      "\n",
      "Increase the number of iterations (max_iter) or scale the data as shown in:\n",
      "    https://scikit-learn.org/stable/modules/preprocessing.html\n",
      "Please also refer to the documentation for alternative solver options:\n",
      "    https://scikit-learn.org/stable/modules/linear_model.html#logistic-regression\n",
      "  n_iter_i = _check_optimize_result(\n"
     ]
    },
    {
     "name": "stdout",
     "output_type": "stream",
     "text": [
      "Results for Gradient Boosting exported to classification_results_300win.csv\n",
      "Results for AdaBoost exported to classification_results_300win.csv\n",
      "Results for Decision Tree exported to classification_results_300win.csv\n",
      "Results for Perceptron exported to classification_results_300win.csv\n",
      "Results for SGD exported to classification_results_300win.csv\n",
      "Results for Bagging exported to classification_results_300win.csv\n",
      "Results for Extra Trees exported to classification_results_300win.csv\n",
      "Results for CatBoost exported to classification_results_300win.csv\n",
      "Results for LightGBM exported to classification_results_300win.csv\n",
      "Results for XGBoost exported to classification_results_300win.csv\n",
      "Results for SVM exported to classification_results_300win.csv\n",
      "Results for Random Forest exported to classification_results_300win.csv\n",
      "Results for Logistic Regression exported to classification_results_300win.csv\n",
      "Results for Naive Bayes exported to classification_results_300win.csv\n",
      "Results for K-NN exported to classification_results_300win.csv\n"
     ]
    },
    {
     "name": "stderr",
     "output_type": "stream",
     "text": [
      "C:\\Users\\ADMIN\\anaconda3\\Lib\\site-packages\\sklearn\\linear_model\\_logistic.py:458: ConvergenceWarning: lbfgs failed to converge (status=1):\n",
      "STOP: TOTAL NO. of ITERATIONS REACHED LIMIT.\n",
      "\n",
      "Increase the number of iterations (max_iter) or scale the data as shown in:\n",
      "    https://scikit-learn.org/stable/modules/preprocessing.html\n",
      "Please also refer to the documentation for alternative solver options:\n",
      "    https://scikit-learn.org/stable/modules/linear_model.html#logistic-regression\n",
      "  n_iter_i = _check_optimize_result(\n"
     ]
    },
    {
     "name": "stdout",
     "output_type": "stream",
     "text": [
      "Results for Gradient Boosting exported to classification_results_300win.csv\n",
      "Results for AdaBoost exported to classification_results_300win.csv\n",
      "Results for Decision Tree exported to classification_results_300win.csv\n",
      "Results for Perceptron exported to classification_results_300win.csv\n",
      "Results for SGD exported to classification_results_300win.csv\n",
      "Results for Bagging exported to classification_results_300win.csv\n",
      "Results for Extra Trees exported to classification_results_300win.csv\n",
      "Results for CatBoost exported to classification_results_300win.csv\n",
      "Results for LightGBM exported to classification_results_300win.csv\n",
      "Results for XGBoost exported to classification_results_300win.csv\n",
      "Results for SVM exported to classification_results_300win.csv\n",
      "Results for Random Forest exported to classification_results_300win.csv\n",
      "Results for Logistic Regression exported to classification_results_300win.csv\n",
      "Results for Naive Bayes exported to classification_results_300win.csv\n",
      "Results for K-NN exported to classification_results_300win.csv\n"
     ]
    },
    {
     "name": "stderr",
     "output_type": "stream",
     "text": [
      "C:\\Users\\ADMIN\\anaconda3\\Lib\\site-packages\\sklearn\\linear_model\\_logistic.py:458: ConvergenceWarning: lbfgs failed to converge (status=1):\n",
      "STOP: TOTAL NO. of ITERATIONS REACHED LIMIT.\n",
      "\n",
      "Increase the number of iterations (max_iter) or scale the data as shown in:\n",
      "    https://scikit-learn.org/stable/modules/preprocessing.html\n",
      "Please also refer to the documentation for alternative solver options:\n",
      "    https://scikit-learn.org/stable/modules/linear_model.html#logistic-regression\n",
      "  n_iter_i = _check_optimize_result(\n"
     ]
    },
    {
     "name": "stdout",
     "output_type": "stream",
     "text": [
      "Results for Gradient Boosting exported to classification_results_300win.csv\n",
      "Results for AdaBoost exported to classification_results_300win.csv\n",
      "Results for Decision Tree exported to classification_results_300win.csv\n",
      "Results for Perceptron exported to classification_results_300win.csv\n",
      "Results for SGD exported to classification_results_300win.csv\n",
      "Results for Bagging exported to classification_results_300win.csv\n",
      "Results for Extra Trees exported to classification_results_300win.csv\n",
      "Results for CatBoost exported to classification_results_300win.csv\n",
      "Results for LightGBM exported to classification_results_300win.csv\n",
      "Results for XGBoost exported to classification_results_300win.csv\n",
      "Results for SVM exported to classification_results_300win.csv\n",
      "Results for Random Forest exported to classification_results_300win.csv\n",
      "Results for Logistic Regression exported to classification_results_300win.csv\n",
      "Results for Naive Bayes exported to classification_results_300win.csv\n",
      "Results for K-NN exported to classification_results_300win.csv\n"
     ]
    },
    {
     "name": "stderr",
     "output_type": "stream",
     "text": [
      "C:\\Users\\ADMIN\\anaconda3\\Lib\\site-packages\\sklearn\\linear_model\\_logistic.py:458: ConvergenceWarning: lbfgs failed to converge (status=1):\n",
      "STOP: TOTAL NO. of ITERATIONS REACHED LIMIT.\n",
      "\n",
      "Increase the number of iterations (max_iter) or scale the data as shown in:\n",
      "    https://scikit-learn.org/stable/modules/preprocessing.html\n",
      "Please also refer to the documentation for alternative solver options:\n",
      "    https://scikit-learn.org/stable/modules/linear_model.html#logistic-regression\n",
      "  n_iter_i = _check_optimize_result(\n"
     ]
    },
    {
     "name": "stdout",
     "output_type": "stream",
     "text": [
      "Results for Gradient Boosting exported to classification_results_300win.csv\n",
      "Results for AdaBoost exported to classification_results_300win.csv\n",
      "Results for Decision Tree exported to classification_results_300win.csv\n",
      "Results for Perceptron exported to classification_results_300win.csv\n",
      "Results for SGD exported to classification_results_300win.csv\n",
      "Results for Bagging exported to classification_results_300win.csv\n",
      "Results for Extra Trees exported to classification_results_300win.csv\n",
      "Results for CatBoost exported to classification_results_300win.csv\n",
      "Results for LightGBM exported to classification_results_300win.csv\n",
      "Results for XGBoost exported to classification_results_300win.csv\n",
      "Results for SVM exported to classification_results_300win.csv\n",
      "Results for Random Forest exported to classification_results_300win.csv\n",
      "Results for Logistic Regression exported to classification_results_300win.csv\n",
      "Results for Naive Bayes exported to classification_results_300win.csv\n",
      "Results for K-NN exported to classification_results_300win.csv\n"
     ]
    },
    {
     "name": "stderr",
     "output_type": "stream",
     "text": [
      "C:\\Users\\ADMIN\\anaconda3\\Lib\\site-packages\\sklearn\\linear_model\\_logistic.py:458: ConvergenceWarning: lbfgs failed to converge (status=1):\n",
      "STOP: TOTAL NO. of ITERATIONS REACHED LIMIT.\n",
      "\n",
      "Increase the number of iterations (max_iter) or scale the data as shown in:\n",
      "    https://scikit-learn.org/stable/modules/preprocessing.html\n",
      "Please also refer to the documentation for alternative solver options:\n",
      "    https://scikit-learn.org/stable/modules/linear_model.html#logistic-regression\n",
      "  n_iter_i = _check_optimize_result(\n"
     ]
    },
    {
     "name": "stdout",
     "output_type": "stream",
     "text": [
      "Results for Gradient Boosting exported to classification_results_300win.csv\n",
      "Results for AdaBoost exported to classification_results_300win.csv\n",
      "Results for Decision Tree exported to classification_results_300win.csv\n",
      "Results for Perceptron exported to classification_results_300win.csv\n",
      "Results for SGD exported to classification_results_300win.csv\n",
      "Results for Bagging exported to classification_results_300win.csv\n",
      "Results for Extra Trees exported to classification_results_300win.csv\n",
      "Results for CatBoost exported to classification_results_300win.csv\n",
      "Results for LightGBM exported to classification_results_300win.csv\n",
      "Results for XGBoost exported to classification_results_300win.csv\n",
      "Results for SVM exported to classification_results_300win.csv\n",
      "Results for Random Forest exported to classification_results_300win.csv\n",
      "Results for Logistic Regression exported to classification_results_300win.csv\n",
      "Results for Naive Bayes exported to classification_results_300win.csv\n"
     ]
    },
    {
     "name": "stderr",
     "output_type": "stream",
     "text": [
      "C:\\Users\\ADMIN\\anaconda3\\Lib\\site-packages\\sklearn\\linear_model\\_logistic.py:458: ConvergenceWarning: lbfgs failed to converge (status=1):\n",
      "STOP: TOTAL NO. of ITERATIONS REACHED LIMIT.\n",
      "\n",
      "Increase the number of iterations (max_iter) or scale the data as shown in:\n",
      "    https://scikit-learn.org/stable/modules/preprocessing.html\n",
      "Please also refer to the documentation for alternative solver options:\n",
      "    https://scikit-learn.org/stable/modules/linear_model.html#logistic-regression\n",
      "  n_iter_i = _check_optimize_result(\n"
     ]
    },
    {
     "name": "stdout",
     "output_type": "stream",
     "text": [
      "Results for K-NN exported to classification_results_300win.csv\n",
      "Results for Gradient Boosting exported to classification_results_300win.csv\n",
      "Results for AdaBoost exported to classification_results_300win.csv\n",
      "Results for Decision Tree exported to classification_results_300win.csv\n",
      "Results for Perceptron exported to classification_results_300win.csv\n",
      "Results for SGD exported to classification_results_300win.csv\n",
      "Results for Bagging exported to classification_results_300win.csv\n",
      "Results for Extra Trees exported to classification_results_300win.csv\n",
      "Results for CatBoost exported to classification_results_300win.csv\n",
      "Results for LightGBM exported to classification_results_300win.csv\n",
      "Results for XGBoost exported to classification_results_300win.csv\n",
      "Results for SVM exported to classification_results_300win.csv\n",
      "Results for Random Forest exported to classification_results_300win.csv\n",
      "Results for Logistic Regression exported to classification_results_300win.csv\n",
      "Results for Naive Bayes exported to classification_results_300win.csv\n"
     ]
    },
    {
     "name": "stderr",
     "output_type": "stream",
     "text": [
      "C:\\Users\\ADMIN\\anaconda3\\Lib\\site-packages\\sklearn\\linear_model\\_logistic.py:458: ConvergenceWarning: lbfgs failed to converge (status=1):\n",
      "STOP: TOTAL NO. of ITERATIONS REACHED LIMIT.\n",
      "\n",
      "Increase the number of iterations (max_iter) or scale the data as shown in:\n",
      "    https://scikit-learn.org/stable/modules/preprocessing.html\n",
      "Please also refer to the documentation for alternative solver options:\n",
      "    https://scikit-learn.org/stable/modules/linear_model.html#logistic-regression\n",
      "  n_iter_i = _check_optimize_result(\n"
     ]
    },
    {
     "name": "stdout",
     "output_type": "stream",
     "text": [
      "Results for K-NN exported to classification_results_300win.csv\n",
      "Results for Gradient Boosting exported to classification_results_300win.csv\n",
      "Results for AdaBoost exported to classification_results_300win.csv\n",
      "Results for Decision Tree exported to classification_results_300win.csv\n",
      "Results for Perceptron exported to classification_results_300win.csv\n",
      "Results for SGD exported to classification_results_300win.csv\n",
      "Results for Bagging exported to classification_results_300win.csv\n",
      "Results for Extra Trees exported to classification_results_300win.csv\n",
      "Results for CatBoost exported to classification_results_300win.csv\n",
      "Results for LightGBM exported to classification_results_300win.csv\n",
      "Results for XGBoost exported to classification_results_300win.csv\n",
      "Processing Candiada_correct_10001\n",
      "Results for SVM exported to classification_results_300win.csv\n",
      "Results for Random Forest exported to classification_results_300win.csv\n",
      "Results for Logistic Regression exported to classification_results_300win.csv\n",
      "Results for Naive Bayes exported to classification_results_300win.csv\n",
      "Results for K-NN exported to classification_results_300win.csv\n"
     ]
    },
    {
     "name": "stderr",
     "output_type": "stream",
     "text": [
      "C:\\Users\\ADMIN\\anaconda3\\Lib\\site-packages\\sklearn\\linear_model\\_logistic.py:458: ConvergenceWarning: lbfgs failed to converge (status=1):\n",
      "STOP: TOTAL NO. of ITERATIONS REACHED LIMIT.\n",
      "\n",
      "Increase the number of iterations (max_iter) or scale the data as shown in:\n",
      "    https://scikit-learn.org/stable/modules/preprocessing.html\n",
      "Please also refer to the documentation for alternative solver options:\n",
      "    https://scikit-learn.org/stable/modules/linear_model.html#logistic-regression\n",
      "  n_iter_i = _check_optimize_result(\n"
     ]
    },
    {
     "name": "stdout",
     "output_type": "stream",
     "text": [
      "Results for Gradient Boosting exported to classification_results_300win.csv\n",
      "Results for AdaBoost exported to classification_results_300win.csv\n",
      "Results for Decision Tree exported to classification_results_300win.csv\n",
      "Results for Perceptron exported to classification_results_300win.csv\n",
      "Results for SGD exported to classification_results_300win.csv\n",
      "Results for Bagging exported to classification_results_300win.csv\n",
      "Results for Extra Trees exported to classification_results_300win.csv\n",
      "Results for CatBoost exported to classification_results_300win.csv\n",
      "Results for LightGBM exported to classification_results_300win.csv\n",
      "Results for XGBoost exported to classification_results_300win.csv\n",
      "Results for SVM exported to classification_results_300win.csv\n",
      "Results for Random Forest exported to classification_results_300win.csv\n",
      "Results for Logistic Regression exported to classification_results_300win.csv\n",
      "Results for Naive Bayes exported to classification_results_300win.csv\n",
      "Results for K-NN exported to classification_results_300win.csv\n"
     ]
    },
    {
     "name": "stderr",
     "output_type": "stream",
     "text": [
      "C:\\Users\\ADMIN\\anaconda3\\Lib\\site-packages\\sklearn\\linear_model\\_logistic.py:458: ConvergenceWarning: lbfgs failed to converge (status=1):\n",
      "STOP: TOTAL NO. of ITERATIONS REACHED LIMIT.\n",
      "\n",
      "Increase the number of iterations (max_iter) or scale the data as shown in:\n",
      "    https://scikit-learn.org/stable/modules/preprocessing.html\n",
      "Please also refer to the documentation for alternative solver options:\n",
      "    https://scikit-learn.org/stable/modules/linear_model.html#logistic-regression\n",
      "  n_iter_i = _check_optimize_result(\n"
     ]
    },
    {
     "name": "stdout",
     "output_type": "stream",
     "text": [
      "Results for Gradient Boosting exported to classification_results_300win.csv\n",
      "Results for AdaBoost exported to classification_results_300win.csv\n",
      "Results for Decision Tree exported to classification_results_300win.csv\n",
      "Results for Perceptron exported to classification_results_300win.csv\n",
      "Results for SGD exported to classification_results_300win.csv\n",
      "Results for Bagging exported to classification_results_300win.csv\n",
      "Results for Extra Trees exported to classification_results_300win.csv\n",
      "Results for CatBoost exported to classification_results_300win.csv\n",
      "Results for LightGBM exported to classification_results_300win.csv\n",
      "Results for XGBoost exported to classification_results_300win.csv\n",
      "Results for SVM exported to classification_results_300win.csv\n",
      "Results for Random Forest exported to classification_results_300win.csv\n",
      "Results for Logistic Regression exported to classification_results_300win.csv\n",
      "Results for Naive Bayes exported to classification_results_300win.csv\n"
     ]
    },
    {
     "name": "stderr",
     "output_type": "stream",
     "text": [
      "C:\\Users\\ADMIN\\anaconda3\\Lib\\site-packages\\sklearn\\linear_model\\_logistic.py:458: ConvergenceWarning: lbfgs failed to converge (status=1):\n",
      "STOP: TOTAL NO. of ITERATIONS REACHED LIMIT.\n",
      "\n",
      "Increase the number of iterations (max_iter) or scale the data as shown in:\n",
      "    https://scikit-learn.org/stable/modules/preprocessing.html\n",
      "Please also refer to the documentation for alternative solver options:\n",
      "    https://scikit-learn.org/stable/modules/linear_model.html#logistic-regression\n",
      "  n_iter_i = _check_optimize_result(\n"
     ]
    },
    {
     "name": "stdout",
     "output_type": "stream",
     "text": [
      "Results for K-NN exported to classification_results_300win.csv\n",
      "Results for Gradient Boosting exported to classification_results_300win.csv\n",
      "Results for AdaBoost exported to classification_results_300win.csv\n",
      "Results for Decision Tree exported to classification_results_300win.csv\n",
      "Results for Perceptron exported to classification_results_300win.csv\n",
      "Results for SGD exported to classification_results_300win.csv\n",
      "Results for Bagging exported to classification_results_300win.csv\n",
      "Results for Extra Trees exported to classification_results_300win.csv\n",
      "Results for CatBoost exported to classification_results_300win.csv\n",
      "Results for LightGBM exported to classification_results_300win.csv\n",
      "Results for XGBoost exported to classification_results_300win.csv\n",
      "Results for SVM exported to classification_results_300win.csv\n",
      "Results for Random Forest exported to classification_results_300win.csv\n",
      "Results for Logistic Regression exported to classification_results_300win.csv\n",
      "Results for Naive Bayes exported to classification_results_300win.csv\n"
     ]
    },
    {
     "name": "stderr",
     "output_type": "stream",
     "text": [
      "C:\\Users\\ADMIN\\anaconda3\\Lib\\site-packages\\sklearn\\linear_model\\_logistic.py:458: ConvergenceWarning: lbfgs failed to converge (status=1):\n",
      "STOP: TOTAL NO. of ITERATIONS REACHED LIMIT.\n",
      "\n",
      "Increase the number of iterations (max_iter) or scale the data as shown in:\n",
      "    https://scikit-learn.org/stable/modules/preprocessing.html\n",
      "Please also refer to the documentation for alternative solver options:\n",
      "    https://scikit-learn.org/stable/modules/linear_model.html#logistic-regression\n",
      "  n_iter_i = _check_optimize_result(\n"
     ]
    },
    {
     "name": "stdout",
     "output_type": "stream",
     "text": [
      "Results for K-NN exported to classification_results_300win.csv\n",
      "Results for Gradient Boosting exported to classification_results_300win.csv\n",
      "Results for AdaBoost exported to classification_results_300win.csv\n",
      "Results for Decision Tree exported to classification_results_300win.csv\n",
      "Results for Perceptron exported to classification_results_300win.csv\n",
      "Results for SGD exported to classification_results_300win.csv\n",
      "Results for Bagging exported to classification_results_300win.csv\n",
      "Results for Extra Trees exported to classification_results_300win.csv\n",
      "Results for CatBoost exported to classification_results_300win.csv\n",
      "Results for LightGBM exported to classification_results_300win.csv\n",
      "Results for XGBoost exported to classification_results_300win.csv\n",
      "Results for SVM exported to classification_results_300win.csv\n",
      "Results for Random Forest exported to classification_results_300win.csv\n",
      "Results for Logistic Regression exported to classification_results_300win.csv\n",
      "Results for Naive Bayes exported to classification_results_300win.csv\n",
      "Results for K-NN exported to classification_results_300win.csv\n",
      "Results for Gradient Boosting exported to classification_results_300win.csv\n",
      "Results for AdaBoost exported to classification_results_300win.csv\n",
      "Results for Decision Tree exported to classification_results_300win.csv\n",
      "Results for Perceptron exported to classification_results_300win.csv\n",
      "Results for SGD exported to classification_results_300win.csv\n",
      "Results for Bagging exported to classification_results_300win.csv\n",
      "Results for Extra Trees exported to classification_results_300win.csv\n",
      "Results for CatBoost exported to classification_results_300win.csv\n",
      "Results for LightGBM exported to classification_results_300win.csv\n",
      "Results for XGBoost exported to classification_results_300win.csv\n",
      "Results for SVM exported to classification_results_300win.csv\n",
      "Results for Random Forest exported to classification_results_300win.csv\n",
      "Results for Logistic Regression exported to classification_results_300win.csv\n",
      "Results for Naive Bayes exported to classification_results_300win.csv\n",
      "Results for K-NN exported to classification_results_300win.csv\n",
      "Results for Gradient Boosting exported to classification_results_300win.csv\n",
      "Results for AdaBoost exported to classification_results_300win.csv\n",
      "Results for Decision Tree exported to classification_results_300win.csv\n",
      "Results for Perceptron exported to classification_results_300win.csv\n",
      "Results for SGD exported to classification_results_300win.csv\n",
      "Results for Bagging exported to classification_results_300win.csv\n",
      "Results for Extra Trees exported to classification_results_300win.csv\n",
      "Results for CatBoost exported to classification_results_300win.csv\n",
      "Results for LightGBM exported to classification_results_300win.csv\n",
      "Results for XGBoost exported to classification_results_300win.csv\n",
      "Results for SVM exported to classification_results_300win.csv\n",
      "Results for Random Forest exported to classification_results_300win.csv\n",
      "Results for Logistic Regression exported to classification_results_300win.csv\n",
      "Results for Naive Bayes exported to classification_results_300win.csv\n",
      "Results for K-NN exported to classification_results_300win.csv\n"
     ]
    },
    {
     "name": "stderr",
     "output_type": "stream",
     "text": [
      "C:\\Users\\ADMIN\\anaconda3\\Lib\\site-packages\\sklearn\\linear_model\\_logistic.py:458: ConvergenceWarning: lbfgs failed to converge (status=1):\n",
      "STOP: TOTAL NO. of ITERATIONS REACHED LIMIT.\n",
      "\n",
      "Increase the number of iterations (max_iter) or scale the data as shown in:\n",
      "    https://scikit-learn.org/stable/modules/preprocessing.html\n",
      "Please also refer to the documentation for alternative solver options:\n",
      "    https://scikit-learn.org/stable/modules/linear_model.html#logistic-regression\n",
      "  n_iter_i = _check_optimize_result(\n"
     ]
    },
    {
     "name": "stdout",
     "output_type": "stream",
     "text": [
      "Results for Gradient Boosting exported to classification_results_300win.csv\n",
      "Results for AdaBoost exported to classification_results_300win.csv\n",
      "Results for Decision Tree exported to classification_results_300win.csv\n",
      "Results for Perceptron exported to classification_results_300win.csv\n",
      "Results for SGD exported to classification_results_300win.csv\n",
      "Results for Bagging exported to classification_results_300win.csv\n",
      "Results for Extra Trees exported to classification_results_300win.csv\n",
      "Results for CatBoost exported to classification_results_300win.csv\n",
      "Results for LightGBM exported to classification_results_300win.csv\n",
      "Results for XGBoost exported to classification_results_300win.csv\n",
      "Results for SVM exported to classification_results_300win.csv\n",
      "Results for Random Forest exported to classification_results_300win.csv\n",
      "Results for Logistic Regression exported to classification_results_300win.csv\n",
      "Results for Naive Bayes exported to classification_results_300win.csv\n",
      "Results for K-NN exported to classification_results_300win.csv\n"
     ]
    },
    {
     "name": "stderr",
     "output_type": "stream",
     "text": [
      "C:\\Users\\ADMIN\\anaconda3\\Lib\\site-packages\\sklearn\\linear_model\\_logistic.py:458: ConvergenceWarning: lbfgs failed to converge (status=1):\n",
      "STOP: TOTAL NO. of ITERATIONS REACHED LIMIT.\n",
      "\n",
      "Increase the number of iterations (max_iter) or scale the data as shown in:\n",
      "    https://scikit-learn.org/stable/modules/preprocessing.html\n",
      "Please also refer to the documentation for alternative solver options:\n",
      "    https://scikit-learn.org/stable/modules/linear_model.html#logistic-regression\n",
      "  n_iter_i = _check_optimize_result(\n"
     ]
    },
    {
     "name": "stdout",
     "output_type": "stream",
     "text": [
      "Results for Gradient Boosting exported to classification_results_300win.csv\n",
      "Results for AdaBoost exported to classification_results_300win.csv\n",
      "Results for Decision Tree exported to classification_results_300win.csv\n",
      "Results for Perceptron exported to classification_results_300win.csv\n",
      "Results for SGD exported to classification_results_300win.csv\n",
      "Results for Bagging exported to classification_results_300win.csv\n",
      "Results for Extra Trees exported to classification_results_300win.csv\n",
      "Results for CatBoost exported to classification_results_300win.csv\n",
      "Results for LightGBM exported to classification_results_300win.csv\n",
      "Results for XGBoost exported to classification_results_300win.csv\n",
      "Results for SVM exported to classification_results_300win.csv\n",
      "Results for Random Forest exported to classification_results_300win.csv\n",
      "Results for Logistic Regression exported to classification_results_300win.csv\n",
      "Results for Naive Bayes exported to classification_results_300win.csv\n",
      "Results for K-NN exported to classification_results_300win.csv\n",
      "Results for Gradient Boosting exported to classification_results_300win.csv\n",
      "Results for AdaBoost exported to classification_results_300win.csv\n",
      "Results for Decision Tree exported to classification_results_300win.csv\n",
      "Results for Perceptron exported to classification_results_300win.csv\n",
      "Results for SGD exported to classification_results_300win.csv\n",
      "Results for Bagging exported to classification_results_300win.csv\n",
      "Results for Extra Trees exported to classification_results_300win.csv\n",
      "Results for CatBoost exported to classification_results_300win.csv\n",
      "Results for LightGBM exported to classification_results_300win.csv\n",
      "Results for XGBoost exported to classification_results_300win.csv\n",
      "Results for SVM exported to classification_results_300win.csv\n",
      "Results for Random Forest exported to classification_results_300win.csv\n",
      "Results for Logistic Regression exported to classification_results_300win.csv\n",
      "Results for Naive Bayes exported to classification_results_300win.csv\n"
     ]
    },
    {
     "name": "stderr",
     "output_type": "stream",
     "text": [
      "C:\\Users\\ADMIN\\anaconda3\\Lib\\site-packages\\sklearn\\linear_model\\_logistic.py:458: ConvergenceWarning: lbfgs failed to converge (status=1):\n",
      "STOP: TOTAL NO. of ITERATIONS REACHED LIMIT.\n",
      "\n",
      "Increase the number of iterations (max_iter) or scale the data as shown in:\n",
      "    https://scikit-learn.org/stable/modules/preprocessing.html\n",
      "Please also refer to the documentation for alternative solver options:\n",
      "    https://scikit-learn.org/stable/modules/linear_model.html#logistic-regression\n",
      "  n_iter_i = _check_optimize_result(\n"
     ]
    },
    {
     "name": "stdout",
     "output_type": "stream",
     "text": [
      "Results for K-NN exported to classification_results_300win.csv\n",
      "Results for Gradient Boosting exported to classification_results_300win.csv\n",
      "Results for AdaBoost exported to classification_results_300win.csv\n",
      "Results for Decision Tree exported to classification_results_300win.csv\n",
      "Results for Perceptron exported to classification_results_300win.csv\n",
      "Results for SGD exported to classification_results_300win.csv\n",
      "Results for Bagging exported to classification_results_300win.csv\n",
      "Results for Extra Trees exported to classification_results_300win.csv\n",
      "Results for CatBoost exported to classification_results_300win.csv\n",
      "Results for LightGBM exported to classification_results_300win.csv\n",
      "Results for XGBoost exported to classification_results_300win.csv\n",
      "Results for SVM exported to classification_results_300win.csv\n",
      "Results for Random Forest exported to classification_results_300win.csv\n",
      "Results for Logistic Regression exported to classification_results_300win.csv\n",
      "Results for Naive Bayes exported to classification_results_300win.csv\n"
     ]
    },
    {
     "name": "stderr",
     "output_type": "stream",
     "text": [
      "C:\\Users\\ADMIN\\anaconda3\\Lib\\site-packages\\sklearn\\linear_model\\_logistic.py:458: ConvergenceWarning: lbfgs failed to converge (status=1):\n",
      "STOP: TOTAL NO. of ITERATIONS REACHED LIMIT.\n",
      "\n",
      "Increase the number of iterations (max_iter) or scale the data as shown in:\n",
      "    https://scikit-learn.org/stable/modules/preprocessing.html\n",
      "Please also refer to the documentation for alternative solver options:\n",
      "    https://scikit-learn.org/stable/modules/linear_model.html#logistic-regression\n",
      "  n_iter_i = _check_optimize_result(\n"
     ]
    },
    {
     "name": "stdout",
     "output_type": "stream",
     "text": [
      "Results for K-NN exported to classification_results_300win.csv\n",
      "Results for Gradient Boosting exported to classification_results_300win.csv\n",
      "Results for AdaBoost exported to classification_results_300win.csv\n",
      "Results for Decision Tree exported to classification_results_300win.csv\n",
      "Results for Perceptron exported to classification_results_300win.csv\n",
      "Results for SGD exported to classification_results_300win.csv\n",
      "Results for Bagging exported to classification_results_300win.csv\n",
      "Results for Extra Trees exported to classification_results_300win.csv\n",
      "Results for CatBoost exported to classification_results_300win.csv\n",
      "Results for LightGBM exported to classification_results_300win.csv\n",
      "Results for XGBoost exported to classification_results_300win.csv\n",
      "Results for SVM exported to classification_results_300win.csv\n",
      "Results for Random Forest exported to classification_results_300win.csv\n",
      "Results for Logistic Regression exported to classification_results_300win.csv\n",
      "Results for Naive Bayes exported to classification_results_300win.csv\n",
      "Results for K-NN exported to classification_results_300win.csv\n"
     ]
    },
    {
     "name": "stderr",
     "output_type": "stream",
     "text": [
      "C:\\Users\\ADMIN\\anaconda3\\Lib\\site-packages\\sklearn\\linear_model\\_logistic.py:458: ConvergenceWarning: lbfgs failed to converge (status=1):\n",
      "STOP: TOTAL NO. of ITERATIONS REACHED LIMIT.\n",
      "\n",
      "Increase the number of iterations (max_iter) or scale the data as shown in:\n",
      "    https://scikit-learn.org/stable/modules/preprocessing.html\n",
      "Please also refer to the documentation for alternative solver options:\n",
      "    https://scikit-learn.org/stable/modules/linear_model.html#logistic-regression\n",
      "  n_iter_i = _check_optimize_result(\n"
     ]
    },
    {
     "name": "stdout",
     "output_type": "stream",
     "text": [
      "Results for Gradient Boosting exported to classification_results_300win.csv\n",
      "Results for AdaBoost exported to classification_results_300win.csv\n",
      "Results for Decision Tree exported to classification_results_300win.csv\n",
      "Results for Perceptron exported to classification_results_300win.csv\n",
      "Results for SGD exported to classification_results_300win.csv\n",
      "Results for Bagging exported to classification_results_300win.csv\n",
      "Results for Extra Trees exported to classification_results_300win.csv\n",
      "Results for CatBoost exported to classification_results_300win.csv\n",
      "Results for LightGBM exported to classification_results_300win.csv\n",
      "Results for XGBoost exported to classification_results_300win.csv\n",
      "Results for SVM exported to classification_results_300win.csv\n",
      "Results for Random Forest exported to classification_results_300win.csv\n",
      "Results for Logistic Regression exported to classification_results_300win.csv\n",
      "Results for Naive Bayes exported to classification_results_300win.csv\n",
      "Results for K-NN exported to classification_results_300win.csv\n"
     ]
    },
    {
     "name": "stderr",
     "output_type": "stream",
     "text": [
      "C:\\Users\\ADMIN\\anaconda3\\Lib\\site-packages\\sklearn\\linear_model\\_logistic.py:458: ConvergenceWarning: lbfgs failed to converge (status=1):\n",
      "STOP: TOTAL NO. of ITERATIONS REACHED LIMIT.\n",
      "\n",
      "Increase the number of iterations (max_iter) or scale the data as shown in:\n",
      "    https://scikit-learn.org/stable/modules/preprocessing.html\n",
      "Please also refer to the documentation for alternative solver options:\n",
      "    https://scikit-learn.org/stable/modules/linear_model.html#logistic-regression\n",
      "  n_iter_i = _check_optimize_result(\n"
     ]
    },
    {
     "name": "stdout",
     "output_type": "stream",
     "text": [
      "Results for Gradient Boosting exported to classification_results_300win.csv\n",
      "Results for AdaBoost exported to classification_results_300win.csv\n",
      "Results for Decision Tree exported to classification_results_300win.csv\n",
      "Results for Perceptron exported to classification_results_300win.csv\n",
      "Results for SGD exported to classification_results_300win.csv\n",
      "Results for Bagging exported to classification_results_300win.csv\n",
      "Results for Extra Trees exported to classification_results_300win.csv\n",
      "Results for CatBoost exported to classification_results_300win.csv\n",
      "Results for LightGBM exported to classification_results_300win.csv\n",
      "Results for XGBoost exported to classification_results_300win.csv\n",
      "Results for SVM exported to classification_results_300win.csv\n",
      "Results for Random Forest exported to classification_results_300win.csv\n",
      "Results for Logistic Regression exported to classification_results_300win.csv\n",
      "Results for Naive Bayes exported to classification_results_300win.csv\n",
      "Results for K-NN exported to classification_results_300win.csv\n"
     ]
    },
    {
     "name": "stderr",
     "output_type": "stream",
     "text": [
      "C:\\Users\\ADMIN\\anaconda3\\Lib\\site-packages\\sklearn\\linear_model\\_logistic.py:458: ConvergenceWarning: lbfgs failed to converge (status=1):\n",
      "STOP: TOTAL NO. of ITERATIONS REACHED LIMIT.\n",
      "\n",
      "Increase the number of iterations (max_iter) or scale the data as shown in:\n",
      "    https://scikit-learn.org/stable/modules/preprocessing.html\n",
      "Please also refer to the documentation for alternative solver options:\n",
      "    https://scikit-learn.org/stable/modules/linear_model.html#logistic-regression\n",
      "  n_iter_i = _check_optimize_result(\n"
     ]
    },
    {
     "name": "stdout",
     "output_type": "stream",
     "text": [
      "Results for Gradient Boosting exported to classification_results_300win.csv\n",
      "Results for AdaBoost exported to classification_results_300win.csv\n",
      "Results for Decision Tree exported to classification_results_300win.csv\n",
      "Results for Perceptron exported to classification_results_300win.csv\n",
      "Results for SGD exported to classification_results_300win.csv\n",
      "Results for Bagging exported to classification_results_300win.csv\n",
      "Results for Extra Trees exported to classification_results_300win.csv\n",
      "Results for CatBoost exported to classification_results_300win.csv\n",
      "Results for LightGBM exported to classification_results_300win.csv\n",
      "Results for XGBoost exported to classification_results_300win.csv\n",
      "Results for SVM exported to classification_results_300win.csv\n",
      "Results for Random Forest exported to classification_results_300win.csv\n",
      "Results for Logistic Regression exported to classification_results_300win.csv\n",
      "Results for Naive Bayes exported to classification_results_300win.csv\n",
      "Results for K-NN exported to classification_results_300win.csv\n"
     ]
    },
    {
     "name": "stderr",
     "output_type": "stream",
     "text": [
      "C:\\Users\\ADMIN\\anaconda3\\Lib\\site-packages\\sklearn\\linear_model\\_logistic.py:458: ConvergenceWarning: lbfgs failed to converge (status=1):\n",
      "STOP: TOTAL NO. of ITERATIONS REACHED LIMIT.\n",
      "\n",
      "Increase the number of iterations (max_iter) or scale the data as shown in:\n",
      "    https://scikit-learn.org/stable/modules/preprocessing.html\n",
      "Please also refer to the documentation for alternative solver options:\n",
      "    https://scikit-learn.org/stable/modules/linear_model.html#logistic-regression\n",
      "  n_iter_i = _check_optimize_result(\n"
     ]
    },
    {
     "name": "stdout",
     "output_type": "stream",
     "text": [
      "Results for Gradient Boosting exported to classification_results_300win.csv\n",
      "Results for AdaBoost exported to classification_results_300win.csv\n",
      "Results for Decision Tree exported to classification_results_300win.csv\n",
      "Results for Perceptron exported to classification_results_300win.csv\n",
      "Results for SGD exported to classification_results_300win.csv\n",
      "Results for Bagging exported to classification_results_300win.csv\n",
      "Results for Extra Trees exported to classification_results_300win.csv\n",
      "Results for CatBoost exported to classification_results_300win.csv\n",
      "Results for LightGBM exported to classification_results_300win.csv\n",
      "Results for XGBoost exported to classification_results_300win.csv\n",
      "Processing Arabidopsis_correct_10001\n",
      "Results for SVM exported to classification_results_300win.csv\n",
      "Results for Random Forest exported to classification_results_300win.csv\n",
      "Results for Logistic Regression exported to classification_results_300win.csv\n"
     ]
    },
    {
     "name": "stderr",
     "output_type": "stream",
     "text": [
      "C:\\Users\\ADMIN\\anaconda3\\Lib\\site-packages\\sklearn\\linear_model\\_logistic.py:458: ConvergenceWarning: lbfgs failed to converge (status=1):\n",
      "STOP: TOTAL NO. of ITERATIONS REACHED LIMIT.\n",
      "\n",
      "Increase the number of iterations (max_iter) or scale the data as shown in:\n",
      "    https://scikit-learn.org/stable/modules/preprocessing.html\n",
      "Please also refer to the documentation for alternative solver options:\n",
      "    https://scikit-learn.org/stable/modules/linear_model.html#logistic-regression\n",
      "  n_iter_i = _check_optimize_result(\n"
     ]
    },
    {
     "name": "stdout",
     "output_type": "stream",
     "text": [
      "Results for Naive Bayes exported to classification_results_300win.csv\n",
      "Results for K-NN exported to classification_results_300win.csv\n",
      "Results for Gradient Boosting exported to classification_results_300win.csv\n",
      "Results for AdaBoost exported to classification_results_300win.csv\n",
      "Results for Decision Tree exported to classification_results_300win.csv\n",
      "Results for Perceptron exported to classification_results_300win.csv\n",
      "Results for SGD exported to classification_results_300win.csv\n",
      "Results for Bagging exported to classification_results_300win.csv\n",
      "Results for Extra Trees exported to classification_results_300win.csv\n",
      "Results for CatBoost exported to classification_results_300win.csv\n",
      "Results for LightGBM exported to classification_results_300win.csv\n",
      "Results for XGBoost exported to classification_results_300win.csv\n",
      "Results for SVM exported to classification_results_300win.csv\n",
      "Results for Random Forest exported to classification_results_300win.csv\n",
      "Results for Logistic Regression exported to classification_results_300win.csv\n",
      "Results for Naive Bayes exported to classification_results_300win.csv\n"
     ]
    },
    {
     "name": "stderr",
     "output_type": "stream",
     "text": [
      "C:\\Users\\ADMIN\\anaconda3\\Lib\\site-packages\\sklearn\\linear_model\\_logistic.py:458: ConvergenceWarning: lbfgs failed to converge (status=1):\n",
      "STOP: TOTAL NO. of ITERATIONS REACHED LIMIT.\n",
      "\n",
      "Increase the number of iterations (max_iter) or scale the data as shown in:\n",
      "    https://scikit-learn.org/stable/modules/preprocessing.html\n",
      "Please also refer to the documentation for alternative solver options:\n",
      "    https://scikit-learn.org/stable/modules/linear_model.html#logistic-regression\n",
      "  n_iter_i = _check_optimize_result(\n"
     ]
    },
    {
     "name": "stdout",
     "output_type": "stream",
     "text": [
      "Results for K-NN exported to classification_results_300win.csv\n",
      "Results for Gradient Boosting exported to classification_results_300win.csv\n",
      "Results for AdaBoost exported to classification_results_300win.csv\n",
      "Results for Decision Tree exported to classification_results_300win.csv\n",
      "Results for Perceptron exported to classification_results_300win.csv\n",
      "Results for SGD exported to classification_results_300win.csv\n",
      "Results for Bagging exported to classification_results_300win.csv\n",
      "Results for Extra Trees exported to classification_results_300win.csv\n",
      "Results for CatBoost exported to classification_results_300win.csv\n",
      "Results for LightGBM exported to classification_results_300win.csv\n",
      "Results for XGBoost exported to classification_results_300win.csv\n",
      "Results for SVM exported to classification_results_300win.csv\n",
      "Results for Random Forest exported to classification_results_300win.csv\n",
      "Results for Logistic Regression exported to classification_results_300win.csv\n",
      "Results for Naive Bayes exported to classification_results_300win.csv\n"
     ]
    },
    {
     "name": "stderr",
     "output_type": "stream",
     "text": [
      "C:\\Users\\ADMIN\\anaconda3\\Lib\\site-packages\\sklearn\\linear_model\\_logistic.py:458: ConvergenceWarning: lbfgs failed to converge (status=1):\n",
      "STOP: TOTAL NO. of ITERATIONS REACHED LIMIT.\n",
      "\n",
      "Increase the number of iterations (max_iter) or scale the data as shown in:\n",
      "    https://scikit-learn.org/stable/modules/preprocessing.html\n",
      "Please also refer to the documentation for alternative solver options:\n",
      "    https://scikit-learn.org/stable/modules/linear_model.html#logistic-regression\n",
      "  n_iter_i = _check_optimize_result(\n"
     ]
    },
    {
     "name": "stdout",
     "output_type": "stream",
     "text": [
      "Results for K-NN exported to classification_results_300win.csv\n",
      "Results for Gradient Boosting exported to classification_results_300win.csv\n",
      "Results for AdaBoost exported to classification_results_300win.csv\n",
      "Results for Decision Tree exported to classification_results_300win.csv\n",
      "Results for Perceptron exported to classification_results_300win.csv\n",
      "Results for SGD exported to classification_results_300win.csv\n",
      "Results for Bagging exported to classification_results_300win.csv\n",
      "Results for Extra Trees exported to classification_results_300win.csv\n",
      "Results for CatBoost exported to classification_results_300win.csv\n",
      "Results for LightGBM exported to classification_results_300win.csv\n",
      "Results for XGBoost exported to classification_results_300win.csv\n",
      "Results for SVM exported to classification_results_300win.csv\n",
      "Results for Random Forest exported to classification_results_300win.csv\n",
      "Results for Logistic Regression exported to classification_results_300win.csv\n",
      "Results for Naive Bayes exported to classification_results_300win.csv\n"
     ]
    },
    {
     "name": "stderr",
     "output_type": "stream",
     "text": [
      "C:\\Users\\ADMIN\\anaconda3\\Lib\\site-packages\\sklearn\\linear_model\\_logistic.py:458: ConvergenceWarning: lbfgs failed to converge (status=1):\n",
      "STOP: TOTAL NO. of ITERATIONS REACHED LIMIT.\n",
      "\n",
      "Increase the number of iterations (max_iter) or scale the data as shown in:\n",
      "    https://scikit-learn.org/stable/modules/preprocessing.html\n",
      "Please also refer to the documentation for alternative solver options:\n",
      "    https://scikit-learn.org/stable/modules/linear_model.html#logistic-regression\n",
      "  n_iter_i = _check_optimize_result(\n"
     ]
    },
    {
     "name": "stdout",
     "output_type": "stream",
     "text": [
      "Results for K-NN exported to classification_results_300win.csv\n",
      "Results for Gradient Boosting exported to classification_results_300win.csv\n",
      "Results for AdaBoost exported to classification_results_300win.csv\n",
      "Results for Decision Tree exported to classification_results_300win.csv\n",
      "Results for Perceptron exported to classification_results_300win.csv\n",
      "Results for SGD exported to classification_results_300win.csv\n",
      "Results for Bagging exported to classification_results_300win.csv\n",
      "Results for Extra Trees exported to classification_results_300win.csv\n",
      "Results for CatBoost exported to classification_results_300win.csv\n",
      "Results for LightGBM exported to classification_results_300win.csv\n",
      "Results for XGBoost exported to classification_results_300win.csv\n",
      "Results for SVM exported to classification_results_300win.csv\n",
      "Results for Random Forest exported to classification_results_300win.csv\n",
      "Results for Logistic Regression exported to classification_results_300win.csv\n",
      "Results for Naive Bayes exported to classification_results_300win.csv\n"
     ]
    },
    {
     "name": "stderr",
     "output_type": "stream",
     "text": [
      "C:\\Users\\ADMIN\\anaconda3\\Lib\\site-packages\\sklearn\\linear_model\\_logistic.py:458: ConvergenceWarning: lbfgs failed to converge (status=1):\n",
      "STOP: TOTAL NO. of ITERATIONS REACHED LIMIT.\n",
      "\n",
      "Increase the number of iterations (max_iter) or scale the data as shown in:\n",
      "    https://scikit-learn.org/stable/modules/preprocessing.html\n",
      "Please also refer to the documentation for alternative solver options:\n",
      "    https://scikit-learn.org/stable/modules/linear_model.html#logistic-regression\n",
      "  n_iter_i = _check_optimize_result(\n"
     ]
    },
    {
     "name": "stdout",
     "output_type": "stream",
     "text": [
      "Results for K-NN exported to classification_results_300win.csv\n",
      "Results for Gradient Boosting exported to classification_results_300win.csv\n",
      "Results for AdaBoost exported to classification_results_300win.csv\n",
      "Results for Decision Tree exported to classification_results_300win.csv\n",
      "Results for Perceptron exported to classification_results_300win.csv\n",
      "Results for SGD exported to classification_results_300win.csv\n",
      "Results for Bagging exported to classification_results_300win.csv\n",
      "Results for Extra Trees exported to classification_results_300win.csv\n",
      "Results for CatBoost exported to classification_results_300win.csv\n",
      "Results for LightGBM exported to classification_results_300win.csv\n",
      "Results for XGBoost exported to classification_results_300win.csv\n",
      "Results for SVM exported to classification_results_300win.csv\n",
      "Results for Random Forest exported to classification_results_300win.csv\n",
      "Results for Logistic Regression exported to classification_results_300win.csv\n",
      "Results for Naive Bayes exported to classification_results_300win.csv\n"
     ]
    },
    {
     "name": "stderr",
     "output_type": "stream",
     "text": [
      "C:\\Users\\ADMIN\\anaconda3\\Lib\\site-packages\\sklearn\\linear_model\\_logistic.py:458: ConvergenceWarning: lbfgs failed to converge (status=1):\n",
      "STOP: TOTAL NO. of ITERATIONS REACHED LIMIT.\n",
      "\n",
      "Increase the number of iterations (max_iter) or scale the data as shown in:\n",
      "    https://scikit-learn.org/stable/modules/preprocessing.html\n",
      "Please also refer to the documentation for alternative solver options:\n",
      "    https://scikit-learn.org/stable/modules/linear_model.html#logistic-regression\n",
      "  n_iter_i = _check_optimize_result(\n"
     ]
    },
    {
     "name": "stdout",
     "output_type": "stream",
     "text": [
      "Results for K-NN exported to classification_results_300win.csv\n",
      "Results for Gradient Boosting exported to classification_results_300win.csv\n",
      "Results for AdaBoost exported to classification_results_300win.csv\n",
      "Results for Decision Tree exported to classification_results_300win.csv\n",
      "Results for Perceptron exported to classification_results_300win.csv\n",
      "Results for SGD exported to classification_results_300win.csv\n",
      "Results for Bagging exported to classification_results_300win.csv\n",
      "Results for Extra Trees exported to classification_results_300win.csv\n",
      "Results for CatBoost exported to classification_results_300win.csv\n",
      "Results for LightGBM exported to classification_results_300win.csv\n",
      "Results for XGBoost exported to classification_results_300win.csv\n",
      "Results for SVM exported to classification_results_300win.csv\n",
      "Results for Random Forest exported to classification_results_300win.csv\n",
      "Results for Logistic Regression exported to classification_results_300win.csv\n"
     ]
    },
    {
     "name": "stderr",
     "output_type": "stream",
     "text": [
      "C:\\Users\\ADMIN\\anaconda3\\Lib\\site-packages\\sklearn\\linear_model\\_logistic.py:458: ConvergenceWarning: lbfgs failed to converge (status=1):\n",
      "STOP: TOTAL NO. of ITERATIONS REACHED LIMIT.\n",
      "\n",
      "Increase the number of iterations (max_iter) or scale the data as shown in:\n",
      "    https://scikit-learn.org/stable/modules/preprocessing.html\n",
      "Please also refer to the documentation for alternative solver options:\n",
      "    https://scikit-learn.org/stable/modules/linear_model.html#logistic-regression\n",
      "  n_iter_i = _check_optimize_result(\n"
     ]
    },
    {
     "name": "stdout",
     "output_type": "stream",
     "text": [
      "Results for Naive Bayes exported to classification_results_300win.csv\n",
      "Results for K-NN exported to classification_results_300win.csv\n",
      "Results for Gradient Boosting exported to classification_results_300win.csv\n",
      "Results for AdaBoost exported to classification_results_300win.csv\n",
      "Results for Decision Tree exported to classification_results_300win.csv\n",
      "Results for Perceptron exported to classification_results_300win.csv\n",
      "Results for SGD exported to classification_results_300win.csv\n",
      "Results for Bagging exported to classification_results_300win.csv\n",
      "Results for Extra Trees exported to classification_results_300win.csv\n",
      "Results for CatBoost exported to classification_results_300win.csv\n",
      "Results for LightGBM exported to classification_results_300win.csv\n",
      "Results for XGBoost exported to classification_results_300win.csv\n",
      "Results for SVM exported to classification_results_300win.csv\n",
      "Results for Random Forest exported to classification_results_300win.csv\n",
      "Results for Logistic Regression exported to classification_results_300win.csv\n"
     ]
    },
    {
     "name": "stderr",
     "output_type": "stream",
     "text": [
      "C:\\Users\\ADMIN\\anaconda3\\Lib\\site-packages\\sklearn\\linear_model\\_logistic.py:458: ConvergenceWarning: lbfgs failed to converge (status=1):\n",
      "STOP: TOTAL NO. of ITERATIONS REACHED LIMIT.\n",
      "\n",
      "Increase the number of iterations (max_iter) or scale the data as shown in:\n",
      "    https://scikit-learn.org/stable/modules/preprocessing.html\n",
      "Please also refer to the documentation for alternative solver options:\n",
      "    https://scikit-learn.org/stable/modules/linear_model.html#logistic-regression\n",
      "  n_iter_i = _check_optimize_result(\n"
     ]
    },
    {
     "name": "stdout",
     "output_type": "stream",
     "text": [
      "Results for Naive Bayes exported to classification_results_300win.csv\n",
      "Results for K-NN exported to classification_results_300win.csv\n",
      "Results for Gradient Boosting exported to classification_results_300win.csv\n",
      "Results for AdaBoost exported to classification_results_300win.csv\n",
      "Results for Decision Tree exported to classification_results_300win.csv\n",
      "Results for Perceptron exported to classification_results_300win.csv\n",
      "Results for SGD exported to classification_results_300win.csv\n",
      "Results for Bagging exported to classification_results_300win.csv\n",
      "Results for Extra Trees exported to classification_results_300win.csv\n",
      "Results for CatBoost exported to classification_results_300win.csv\n",
      "Results for LightGBM exported to classification_results_300win.csv\n",
      "Results for XGBoost exported to classification_results_300win.csv\n",
      "Results for SVM exported to classification_results_300win.csv\n",
      "Results for Random Forest exported to classification_results_300win.csv\n",
      "Results for Logistic Regression exported to classification_results_300win.csv\n",
      "Results for Naive Bayes exported to classification_results_300win.csv\n"
     ]
    },
    {
     "name": "stderr",
     "output_type": "stream",
     "text": [
      "C:\\Users\\ADMIN\\anaconda3\\Lib\\site-packages\\sklearn\\linear_model\\_logistic.py:458: ConvergenceWarning: lbfgs failed to converge (status=1):\n",
      "STOP: TOTAL NO. of ITERATIONS REACHED LIMIT.\n",
      "\n",
      "Increase the number of iterations (max_iter) or scale the data as shown in:\n",
      "    https://scikit-learn.org/stable/modules/preprocessing.html\n",
      "Please also refer to the documentation for alternative solver options:\n",
      "    https://scikit-learn.org/stable/modules/linear_model.html#logistic-regression\n",
      "  n_iter_i = _check_optimize_result(\n"
     ]
    },
    {
     "name": "stdout",
     "output_type": "stream",
     "text": [
      "Results for K-NN exported to classification_results_300win.csv\n",
      "Results for Gradient Boosting exported to classification_results_300win.csv\n",
      "Results for AdaBoost exported to classification_results_300win.csv\n",
      "Results for Decision Tree exported to classification_results_300win.csv\n",
      "Results for Perceptron exported to classification_results_300win.csv\n",
      "Results for SGD exported to classification_results_300win.csv\n",
      "Results for Bagging exported to classification_results_300win.csv\n",
      "Results for Extra Trees exported to classification_results_300win.csv\n",
      "Results for CatBoost exported to classification_results_300win.csv\n",
      "Results for LightGBM exported to classification_results_300win.csv\n",
      "Results for XGBoost exported to classification_results_300win.csv\n",
      "Results for SVM exported to classification_results_300win.csv\n",
      "Results for Random Forest exported to classification_results_300win.csv\n",
      "Results for Logistic Regression exported to classification_results_300win.csv\n",
      "Results for Naive Bayes exported to classification_results_300win.csv\n"
     ]
    },
    {
     "name": "stderr",
     "output_type": "stream",
     "text": [
      "C:\\Users\\ADMIN\\anaconda3\\Lib\\site-packages\\sklearn\\linear_model\\_logistic.py:458: ConvergenceWarning: lbfgs failed to converge (status=1):\n",
      "STOP: TOTAL NO. of ITERATIONS REACHED LIMIT.\n",
      "\n",
      "Increase the number of iterations (max_iter) or scale the data as shown in:\n",
      "    https://scikit-learn.org/stable/modules/preprocessing.html\n",
      "Please also refer to the documentation for alternative solver options:\n",
      "    https://scikit-learn.org/stable/modules/linear_model.html#logistic-regression\n",
      "  n_iter_i = _check_optimize_result(\n"
     ]
    },
    {
     "name": "stdout",
     "output_type": "stream",
     "text": [
      "Results for K-NN exported to classification_results_300win.csv\n",
      "Results for Gradient Boosting exported to classification_results_300win.csv\n",
      "Results for AdaBoost exported to classification_results_300win.csv\n",
      "Results for Decision Tree exported to classification_results_300win.csv\n",
      "Results for Perceptron exported to classification_results_300win.csv\n",
      "Results for SGD exported to classification_results_300win.csv\n",
      "Results for Bagging exported to classification_results_300win.csv\n",
      "Results for Extra Trees exported to classification_results_300win.csv\n",
      "Results for CatBoost exported to classification_results_300win.csv\n",
      "Results for LightGBM exported to classification_results_300win.csv\n",
      "Results for XGBoost exported to classification_results_300win.csv\n",
      "Results for SVM exported to classification_results_300win.csv\n",
      "Results for Random Forest exported to classification_results_300win.csv\n",
      "Results for Logistic Regression exported to classification_results_300win.csv\n"
     ]
    },
    {
     "name": "stderr",
     "output_type": "stream",
     "text": [
      "C:\\Users\\ADMIN\\anaconda3\\Lib\\site-packages\\sklearn\\linear_model\\_logistic.py:458: ConvergenceWarning: lbfgs failed to converge (status=1):\n",
      "STOP: TOTAL NO. of ITERATIONS REACHED LIMIT.\n",
      "\n",
      "Increase the number of iterations (max_iter) or scale the data as shown in:\n",
      "    https://scikit-learn.org/stable/modules/preprocessing.html\n",
      "Please also refer to the documentation for alternative solver options:\n",
      "    https://scikit-learn.org/stable/modules/linear_model.html#logistic-regression\n",
      "  n_iter_i = _check_optimize_result(\n"
     ]
    },
    {
     "name": "stdout",
     "output_type": "stream",
     "text": [
      "Results for Naive Bayes exported to classification_results_300win.csv\n",
      "Results for K-NN exported to classification_results_300win.csv\n",
      "Results for Gradient Boosting exported to classification_results_300win.csv\n",
      "Results for AdaBoost exported to classification_results_300win.csv\n",
      "Results for Decision Tree exported to classification_results_300win.csv\n",
      "Results for Perceptron exported to classification_results_300win.csv\n",
      "Results for SGD exported to classification_results_300win.csv\n",
      "Results for Bagging exported to classification_results_300win.csv\n",
      "Results for Extra Trees exported to classification_results_300win.csv\n",
      "Results for CatBoost exported to classification_results_300win.csv\n",
      "Results for LightGBM exported to classification_results_300win.csv\n",
      "Results for XGBoost exported to classification_results_300win.csv\n",
      "Results for SVM exported to classification_results_300win.csv\n",
      "Results for Random Forest exported to classification_results_300win.csv\n",
      "Results for Logistic Regression exported to classification_results_300win.csv\n",
      "Results for Naive Bayes exported to classification_results_300win.csv\n"
     ]
    },
    {
     "name": "stderr",
     "output_type": "stream",
     "text": [
      "C:\\Users\\ADMIN\\anaconda3\\Lib\\site-packages\\sklearn\\linear_model\\_logistic.py:458: ConvergenceWarning: lbfgs failed to converge (status=1):\n",
      "STOP: TOTAL NO. of ITERATIONS REACHED LIMIT.\n",
      "\n",
      "Increase the number of iterations (max_iter) or scale the data as shown in:\n",
      "    https://scikit-learn.org/stable/modules/preprocessing.html\n",
      "Please also refer to the documentation for alternative solver options:\n",
      "    https://scikit-learn.org/stable/modules/linear_model.html#logistic-regression\n",
      "  n_iter_i = _check_optimize_result(\n"
     ]
    },
    {
     "name": "stdout",
     "output_type": "stream",
     "text": [
      "Results for K-NN exported to classification_results_300win.csv\n",
      "Results for Gradient Boosting exported to classification_results_300win.csv\n",
      "Results for AdaBoost exported to classification_results_300win.csv\n",
      "Results for Decision Tree exported to classification_results_300win.csv\n",
      "Results for Perceptron exported to classification_results_300win.csv\n",
      "Results for SGD exported to classification_results_300win.csv\n",
      "Results for Bagging exported to classification_results_300win.csv\n",
      "Results for Extra Trees exported to classification_results_300win.csv\n",
      "Results for CatBoost exported to classification_results_300win.csv\n",
      "Results for LightGBM exported to classification_results_300win.csv\n",
      "Results for XGBoost exported to classification_results_300win.csv\n",
      "Results for SVM exported to classification_results_300win.csv\n",
      "Results for Random Forest exported to classification_results_300win.csv\n",
      "Results for Logistic Regression exported to classification_results_300win.csv\n"
     ]
    },
    {
     "name": "stderr",
     "output_type": "stream",
     "text": [
      "C:\\Users\\ADMIN\\anaconda3\\Lib\\site-packages\\sklearn\\linear_model\\_logistic.py:458: ConvergenceWarning: lbfgs failed to converge (status=1):\n",
      "STOP: TOTAL NO. of ITERATIONS REACHED LIMIT.\n",
      "\n",
      "Increase the number of iterations (max_iter) or scale the data as shown in:\n",
      "    https://scikit-learn.org/stable/modules/preprocessing.html\n",
      "Please also refer to the documentation for alternative solver options:\n",
      "    https://scikit-learn.org/stable/modules/linear_model.html#logistic-regression\n",
      "  n_iter_i = _check_optimize_result(\n"
     ]
    },
    {
     "name": "stdout",
     "output_type": "stream",
     "text": [
      "Results for Naive Bayes exported to classification_results_300win.csv\n",
      "Results for K-NN exported to classification_results_300win.csv\n",
      "Results for Gradient Boosting exported to classification_results_300win.csv\n",
      "Results for AdaBoost exported to classification_results_300win.csv\n",
      "Results for Decision Tree exported to classification_results_300win.csv\n",
      "Results for Perceptron exported to classification_results_300win.csv\n",
      "Results for SGD exported to classification_results_300win.csv\n",
      "Results for Bagging exported to classification_results_300win.csv\n",
      "Results for Extra Trees exported to classification_results_300win.csv\n",
      "Results for CatBoost exported to classification_results_300win.csv\n",
      "Results for LightGBM exported to classification_results_300win.csv\n",
      "Results for XGBoost exported to classification_results_300win.csv\n",
      "Results for SVM exported to classification_results_300win.csv\n",
      "Results for Random Forest exported to classification_results_300win.csv\n",
      "Results for Logistic Regression exported to classification_results_300win.csv\n"
     ]
    },
    {
     "name": "stderr",
     "output_type": "stream",
     "text": [
      "C:\\Users\\ADMIN\\anaconda3\\Lib\\site-packages\\sklearn\\linear_model\\_logistic.py:458: ConvergenceWarning: lbfgs failed to converge (status=1):\n",
      "STOP: TOTAL NO. of ITERATIONS REACHED LIMIT.\n",
      "\n",
      "Increase the number of iterations (max_iter) or scale the data as shown in:\n",
      "    https://scikit-learn.org/stable/modules/preprocessing.html\n",
      "Please also refer to the documentation for alternative solver options:\n",
      "    https://scikit-learn.org/stable/modules/linear_model.html#logistic-regression\n",
      "  n_iter_i = _check_optimize_result(\n"
     ]
    },
    {
     "name": "stdout",
     "output_type": "stream",
     "text": [
      "Results for Naive Bayes exported to classification_results_300win.csv\n",
      "Results for K-NN exported to classification_results_300win.csv\n",
      "Results for Gradient Boosting exported to classification_results_300win.csv\n",
      "Results for AdaBoost exported to classification_results_300win.csv\n",
      "Results for Decision Tree exported to classification_results_300win.csv\n",
      "Results for Perceptron exported to classification_results_300win.csv\n",
      "Results for SGD exported to classification_results_300win.csv\n",
      "Results for Bagging exported to classification_results_300win.csv\n",
      "Results for Extra Trees exported to classification_results_300win.csv\n",
      "Results for CatBoost exported to classification_results_300win.csv\n",
      "Results for LightGBM exported to classification_results_300win.csv\n",
      "Results for XGBoost exported to classification_results_300win.csv\n",
      "Results for SVM exported to classification_results_300win.csv\n",
      "Results for Random Forest exported to classification_results_300win.csv\n",
      "Results for Logistic Regression exported to classification_results_300win.csv\n",
      "Results for Naive Bayes exported to classification_results_300win.csv\n"
     ]
    },
    {
     "name": "stderr",
     "output_type": "stream",
     "text": [
      "C:\\Users\\ADMIN\\anaconda3\\Lib\\site-packages\\sklearn\\linear_model\\_logistic.py:458: ConvergenceWarning: lbfgs failed to converge (status=1):\n",
      "STOP: TOTAL NO. of ITERATIONS REACHED LIMIT.\n",
      "\n",
      "Increase the number of iterations (max_iter) or scale the data as shown in:\n",
      "    https://scikit-learn.org/stable/modules/preprocessing.html\n",
      "Please also refer to the documentation for alternative solver options:\n",
      "    https://scikit-learn.org/stable/modules/linear_model.html#logistic-regression\n",
      "  n_iter_i = _check_optimize_result(\n"
     ]
    },
    {
     "name": "stdout",
     "output_type": "stream",
     "text": [
      "Results for K-NN exported to classification_results_300win.csv\n",
      "Results for Gradient Boosting exported to classification_results_300win.csv\n",
      "Results for AdaBoost exported to classification_results_300win.csv\n",
      "Results for Decision Tree exported to classification_results_300win.csv\n",
      "Results for Perceptron exported to classification_results_300win.csv\n",
      "Results for SGD exported to classification_results_300win.csv\n",
      "Results for Bagging exported to classification_results_300win.csv\n",
      "Results for Extra Trees exported to classification_results_300win.csv\n",
      "Results for CatBoost exported to classification_results_300win.csv\n",
      "Results for LightGBM exported to classification_results_300win.csv\n",
      "Results for XGBoost exported to classification_results_300win.csv\n",
      "Processing Hg19_2000_10001\n",
      "Results for SVM exported to classification_results_300win.csv\n",
      "Results for Random Forest exported to classification_results_300win.csv\n"
     ]
    },
    {
     "name": "stderr",
     "output_type": "stream",
     "text": [
      "C:\\Users\\ADMIN\\anaconda3\\Lib\\site-packages\\sklearn\\linear_model\\_logistic.py:458: ConvergenceWarning: lbfgs failed to converge (status=1):\n",
      "STOP: TOTAL NO. of ITERATIONS REACHED LIMIT.\n",
      "\n",
      "Increase the number of iterations (max_iter) or scale the data as shown in:\n",
      "    https://scikit-learn.org/stable/modules/preprocessing.html\n",
      "Please also refer to the documentation for alternative solver options:\n",
      "    https://scikit-learn.org/stable/modules/linear_model.html#logistic-regression\n",
      "  n_iter_i = _check_optimize_result(\n"
     ]
    },
    {
     "name": "stdout",
     "output_type": "stream",
     "text": [
      "Results for Logistic Regression exported to classification_results_300win.csv\n",
      "Results for Naive Bayes exported to classification_results_300win.csv\n",
      "Results for K-NN exported to classification_results_300win.csv\n",
      "Results for Gradient Boosting exported to classification_results_300win.csv\n",
      "Results for AdaBoost exported to classification_results_300win.csv\n",
      "Results for Decision Tree exported to classification_results_300win.csv\n",
      "Results for Perceptron exported to classification_results_300win.csv\n",
      "Results for SGD exported to classification_results_300win.csv\n",
      "Results for Bagging exported to classification_results_300win.csv\n",
      "Results for Extra Trees exported to classification_results_300win.csv\n",
      "Results for CatBoost exported to classification_results_300win.csv\n",
      "Results for LightGBM exported to classification_results_300win.csv\n",
      "Results for XGBoost exported to classification_results_300win.csv\n",
      "Results for SVM exported to classification_results_300win.csv\n",
      "Results for Random Forest exported to classification_results_300win.csv\n"
     ]
    },
    {
     "name": "stderr",
     "output_type": "stream",
     "text": [
      "C:\\Users\\ADMIN\\anaconda3\\Lib\\site-packages\\sklearn\\linear_model\\_logistic.py:458: ConvergenceWarning: lbfgs failed to converge (status=1):\n",
      "STOP: TOTAL NO. of ITERATIONS REACHED LIMIT.\n",
      "\n",
      "Increase the number of iterations (max_iter) or scale the data as shown in:\n",
      "    https://scikit-learn.org/stable/modules/preprocessing.html\n",
      "Please also refer to the documentation for alternative solver options:\n",
      "    https://scikit-learn.org/stable/modules/linear_model.html#logistic-regression\n",
      "  n_iter_i = _check_optimize_result(\n"
     ]
    },
    {
     "name": "stdout",
     "output_type": "stream",
     "text": [
      "Results for Logistic Regression exported to classification_results_300win.csv\n",
      "Results for Naive Bayes exported to classification_results_300win.csv\n",
      "Results for K-NN exported to classification_results_300win.csv\n",
      "Results for Gradient Boosting exported to classification_results_300win.csv\n",
      "Results for AdaBoost exported to classification_results_300win.csv\n",
      "Results for Decision Tree exported to classification_results_300win.csv\n",
      "Results for Perceptron exported to classification_results_300win.csv\n",
      "Results for SGD exported to classification_results_300win.csv\n",
      "Results for Bagging exported to classification_results_300win.csv\n",
      "Results for Extra Trees exported to classification_results_300win.csv\n",
      "Results for CatBoost exported to classification_results_300win.csv\n",
      "Results for LightGBM exported to classification_results_300win.csv\n",
      "Results for XGBoost exported to classification_results_300win.csv\n",
      "Results for SVM exported to classification_results_300win.csv\n",
      "Results for Random Forest exported to classification_results_300win.csv\n"
     ]
    },
    {
     "name": "stderr",
     "output_type": "stream",
     "text": [
      "C:\\Users\\ADMIN\\anaconda3\\Lib\\site-packages\\sklearn\\linear_model\\_logistic.py:458: ConvergenceWarning: lbfgs failed to converge (status=1):\n",
      "STOP: TOTAL NO. of ITERATIONS REACHED LIMIT.\n",
      "\n",
      "Increase the number of iterations (max_iter) or scale the data as shown in:\n",
      "    https://scikit-learn.org/stable/modules/preprocessing.html\n",
      "Please also refer to the documentation for alternative solver options:\n",
      "    https://scikit-learn.org/stable/modules/linear_model.html#logistic-regression\n",
      "  n_iter_i = _check_optimize_result(\n"
     ]
    },
    {
     "name": "stdout",
     "output_type": "stream",
     "text": [
      "Results for Logistic Regression exported to classification_results_300win.csv\n",
      "Results for Naive Bayes exported to classification_results_300win.csv\n",
      "Results for K-NN exported to classification_results_300win.csv\n",
      "Results for Gradient Boosting exported to classification_results_300win.csv\n",
      "Results for AdaBoost exported to classification_results_300win.csv\n",
      "Results for Decision Tree exported to classification_results_300win.csv\n",
      "Results for Perceptron exported to classification_results_300win.csv\n",
      "Results for SGD exported to classification_results_300win.csv\n",
      "Results for Bagging exported to classification_results_300win.csv\n",
      "Results for Extra Trees exported to classification_results_300win.csv\n",
      "Results for CatBoost exported to classification_results_300win.csv\n",
      "Results for LightGBM exported to classification_results_300win.csv\n",
      "Results for XGBoost exported to classification_results_300win.csv\n",
      "Results for SVM exported to classification_results_300win.csv\n",
      "Results for Random Forest exported to classification_results_300win.csv\n",
      "Results for Logistic Regression exported to classification_results_300win.csv\n"
     ]
    },
    {
     "name": "stderr",
     "output_type": "stream",
     "text": [
      "C:\\Users\\ADMIN\\anaconda3\\Lib\\site-packages\\sklearn\\linear_model\\_logistic.py:458: ConvergenceWarning: lbfgs failed to converge (status=1):\n",
      "STOP: TOTAL NO. of ITERATIONS REACHED LIMIT.\n",
      "\n",
      "Increase the number of iterations (max_iter) or scale the data as shown in:\n",
      "    https://scikit-learn.org/stable/modules/preprocessing.html\n",
      "Please also refer to the documentation for alternative solver options:\n",
      "    https://scikit-learn.org/stable/modules/linear_model.html#logistic-regression\n",
      "  n_iter_i = _check_optimize_result(\n"
     ]
    },
    {
     "name": "stdout",
     "output_type": "stream",
     "text": [
      "Results for Naive Bayes exported to classification_results_300win.csv\n",
      "Results for K-NN exported to classification_results_300win.csv\n",
      "Results for Gradient Boosting exported to classification_results_300win.csv\n",
      "Results for AdaBoost exported to classification_results_300win.csv\n",
      "Results for Decision Tree exported to classification_results_300win.csv\n",
      "Results for Perceptron exported to classification_results_300win.csv\n",
      "Results for SGD exported to classification_results_300win.csv\n",
      "Results for Bagging exported to classification_results_300win.csv\n",
      "Results for Extra Trees exported to classification_results_300win.csv\n",
      "Results for CatBoost exported to classification_results_300win.csv\n",
      "Results for LightGBM exported to classification_results_300win.csv\n",
      "Results for XGBoost exported to classification_results_300win.csv\n",
      "Results for SVM exported to classification_results_300win.csv\n",
      "Results for Random Forest exported to classification_results_300win.csv\n",
      "Results for Logistic Regression exported to classification_results_300win.csv\n"
     ]
    },
    {
     "name": "stderr",
     "output_type": "stream",
     "text": [
      "C:\\Users\\ADMIN\\anaconda3\\Lib\\site-packages\\sklearn\\linear_model\\_logistic.py:458: ConvergenceWarning: lbfgs failed to converge (status=1):\n",
      "STOP: TOTAL NO. of ITERATIONS REACHED LIMIT.\n",
      "\n",
      "Increase the number of iterations (max_iter) or scale the data as shown in:\n",
      "    https://scikit-learn.org/stable/modules/preprocessing.html\n",
      "Please also refer to the documentation for alternative solver options:\n",
      "    https://scikit-learn.org/stable/modules/linear_model.html#logistic-regression\n",
      "  n_iter_i = _check_optimize_result(\n"
     ]
    },
    {
     "name": "stdout",
     "output_type": "stream",
     "text": [
      "Results for Naive Bayes exported to classification_results_300win.csv\n",
      "Results for K-NN exported to classification_results_300win.csv\n",
      "Results for Gradient Boosting exported to classification_results_300win.csv\n",
      "Results for AdaBoost exported to classification_results_300win.csv\n",
      "Results for Decision Tree exported to classification_results_300win.csv\n",
      "Results for Perceptron exported to classification_results_300win.csv\n",
      "Results for SGD exported to classification_results_300win.csv\n",
      "Results for Bagging exported to classification_results_300win.csv\n",
      "Results for Extra Trees exported to classification_results_300win.csv\n",
      "Results for CatBoost exported to classification_results_300win.csv\n",
      "Results for LightGBM exported to classification_results_300win.csv\n",
      "Results for XGBoost exported to classification_results_300win.csv\n",
      "Results for SVM exported to classification_results_300win.csv\n",
      "Results for Random Forest exported to classification_results_300win.csv\n"
     ]
    },
    {
     "name": "stderr",
     "output_type": "stream",
     "text": [
      "C:\\Users\\ADMIN\\anaconda3\\Lib\\site-packages\\sklearn\\linear_model\\_logistic.py:458: ConvergenceWarning: lbfgs failed to converge (status=1):\n",
      "STOP: TOTAL NO. of ITERATIONS REACHED LIMIT.\n",
      "\n",
      "Increase the number of iterations (max_iter) or scale the data as shown in:\n",
      "    https://scikit-learn.org/stable/modules/preprocessing.html\n",
      "Please also refer to the documentation for alternative solver options:\n",
      "    https://scikit-learn.org/stable/modules/linear_model.html#logistic-regression\n",
      "  n_iter_i = _check_optimize_result(\n"
     ]
    },
    {
     "name": "stdout",
     "output_type": "stream",
     "text": [
      "Results for Logistic Regression exported to classification_results_300win.csv\n",
      "Results for Naive Bayes exported to classification_results_300win.csv\n",
      "Results for K-NN exported to classification_results_300win.csv\n",
      "Results for Gradient Boosting exported to classification_results_300win.csv\n",
      "Results for AdaBoost exported to classification_results_300win.csv\n",
      "Results for Decision Tree exported to classification_results_300win.csv\n",
      "Results for Perceptron exported to classification_results_300win.csv\n",
      "Results for SGD exported to classification_results_300win.csv\n",
      "Results for Bagging exported to classification_results_300win.csv\n",
      "Results for Extra Trees exported to classification_results_300win.csv\n",
      "Results for CatBoost exported to classification_results_300win.csv\n",
      "Results for LightGBM exported to classification_results_300win.csv\n",
      "Results for XGBoost exported to classification_results_300win.csv\n",
      "Results for SVM exported to classification_results_300win.csv\n",
      "Results for Random Forest exported to classification_results_300win.csv\n"
     ]
    },
    {
     "name": "stderr",
     "output_type": "stream",
     "text": [
      "C:\\Users\\ADMIN\\anaconda3\\Lib\\site-packages\\sklearn\\linear_model\\_logistic.py:458: ConvergenceWarning: lbfgs failed to converge (status=1):\n",
      "STOP: TOTAL NO. of ITERATIONS REACHED LIMIT.\n",
      "\n",
      "Increase the number of iterations (max_iter) or scale the data as shown in:\n",
      "    https://scikit-learn.org/stable/modules/preprocessing.html\n",
      "Please also refer to the documentation for alternative solver options:\n",
      "    https://scikit-learn.org/stable/modules/linear_model.html#logistic-regression\n",
      "  n_iter_i = _check_optimize_result(\n"
     ]
    },
    {
     "name": "stdout",
     "output_type": "stream",
     "text": [
      "Results for Logistic Regression exported to classification_results_300win.csv\n",
      "Results for Naive Bayes exported to classification_results_300win.csv\n",
      "Results for K-NN exported to classification_results_300win.csv\n",
      "Results for Gradient Boosting exported to classification_results_300win.csv\n",
      "Results for AdaBoost exported to classification_results_300win.csv\n",
      "Results for Decision Tree exported to classification_results_300win.csv\n",
      "Results for Perceptron exported to classification_results_300win.csv\n",
      "Results for SGD exported to classification_results_300win.csv\n",
      "Results for Bagging exported to classification_results_300win.csv\n",
      "Results for Extra Trees exported to classification_results_300win.csv\n",
      "Results for CatBoost exported to classification_results_300win.csv\n",
      "Results for LightGBM exported to classification_results_300win.csv\n",
      "Results for XGBoost exported to classification_results_300win.csv\n",
      "Results for SVM exported to classification_results_300win.csv\n",
      "Results for Random Forest exported to classification_results_300win.csv\n"
     ]
    },
    {
     "name": "stderr",
     "output_type": "stream",
     "text": [
      "C:\\Users\\ADMIN\\anaconda3\\Lib\\site-packages\\sklearn\\linear_model\\_logistic.py:458: ConvergenceWarning: lbfgs failed to converge (status=1):\n",
      "STOP: TOTAL NO. of ITERATIONS REACHED LIMIT.\n",
      "\n",
      "Increase the number of iterations (max_iter) or scale the data as shown in:\n",
      "    https://scikit-learn.org/stable/modules/preprocessing.html\n",
      "Please also refer to the documentation for alternative solver options:\n",
      "    https://scikit-learn.org/stable/modules/linear_model.html#logistic-regression\n",
      "  n_iter_i = _check_optimize_result(\n"
     ]
    },
    {
     "name": "stdout",
     "output_type": "stream",
     "text": [
      "Results for Logistic Regression exported to classification_results_300win.csv\n",
      "Results for Naive Bayes exported to classification_results_300win.csv\n",
      "Results for K-NN exported to classification_results_300win.csv\n",
      "Results for Gradient Boosting exported to classification_results_300win.csv\n",
      "Results for AdaBoost exported to classification_results_300win.csv\n",
      "Results for Decision Tree exported to classification_results_300win.csv\n",
      "Results for Perceptron exported to classification_results_300win.csv\n",
      "Results for SGD exported to classification_results_300win.csv\n",
      "Results for Bagging exported to classification_results_300win.csv\n",
      "Results for Extra Trees exported to classification_results_300win.csv\n",
      "Results for CatBoost exported to classification_results_300win.csv\n",
      "Results for LightGBM exported to classification_results_300win.csv\n",
      "Results for XGBoost exported to classification_results_300win.csv\n",
      "Results for SVM exported to classification_results_300win.csv\n",
      "Results for Random Forest exported to classification_results_300win.csv\n"
     ]
    },
    {
     "name": "stderr",
     "output_type": "stream",
     "text": [
      "C:\\Users\\ADMIN\\anaconda3\\Lib\\site-packages\\sklearn\\linear_model\\_logistic.py:458: ConvergenceWarning: lbfgs failed to converge (status=1):\n",
      "STOP: TOTAL NO. of ITERATIONS REACHED LIMIT.\n",
      "\n",
      "Increase the number of iterations (max_iter) or scale the data as shown in:\n",
      "    https://scikit-learn.org/stable/modules/preprocessing.html\n",
      "Please also refer to the documentation for alternative solver options:\n",
      "    https://scikit-learn.org/stable/modules/linear_model.html#logistic-regression\n",
      "  n_iter_i = _check_optimize_result(\n"
     ]
    },
    {
     "name": "stdout",
     "output_type": "stream",
     "text": [
      "Results for Logistic Regression exported to classification_results_300win.csv\n",
      "Results for Naive Bayes exported to classification_results_300win.csv\n",
      "Results for K-NN exported to classification_results_300win.csv\n",
      "Results for Gradient Boosting exported to classification_results_300win.csv\n",
      "Results for AdaBoost exported to classification_results_300win.csv\n",
      "Results for Decision Tree exported to classification_results_300win.csv\n",
      "Results for Perceptron exported to classification_results_300win.csv\n",
      "Results for SGD exported to classification_results_300win.csv\n",
      "Results for Bagging exported to classification_results_300win.csv\n",
      "Results for Extra Trees exported to classification_results_300win.csv\n",
      "Results for CatBoost exported to classification_results_300win.csv\n",
      "Results for LightGBM exported to classification_results_300win.csv\n",
      "Results for XGBoost exported to classification_results_300win.csv\n",
      "Results for SVM exported to classification_results_300win.csv\n",
      "Results for Random Forest exported to classification_results_300win.csv\n"
     ]
    },
    {
     "name": "stderr",
     "output_type": "stream",
     "text": [
      "C:\\Users\\ADMIN\\anaconda3\\Lib\\site-packages\\sklearn\\linear_model\\_logistic.py:458: ConvergenceWarning: lbfgs failed to converge (status=1):\n",
      "STOP: TOTAL NO. of ITERATIONS REACHED LIMIT.\n",
      "\n",
      "Increase the number of iterations (max_iter) or scale the data as shown in:\n",
      "    https://scikit-learn.org/stable/modules/preprocessing.html\n",
      "Please also refer to the documentation for alternative solver options:\n",
      "    https://scikit-learn.org/stable/modules/linear_model.html#logistic-regression\n",
      "  n_iter_i = _check_optimize_result(\n"
     ]
    },
    {
     "name": "stdout",
     "output_type": "stream",
     "text": [
      "Results for Logistic Regression exported to classification_results_300win.csv\n",
      "Results for Naive Bayes exported to classification_results_300win.csv\n",
      "Results for K-NN exported to classification_results_300win.csv\n",
      "Results for Gradient Boosting exported to classification_results_300win.csv\n",
      "Results for AdaBoost exported to classification_results_300win.csv\n",
      "Results for Decision Tree exported to classification_results_300win.csv\n",
      "Results for Perceptron exported to classification_results_300win.csv\n",
      "Results for SGD exported to classification_results_300win.csv\n",
      "Results for Bagging exported to classification_results_300win.csv\n",
      "Results for Extra Trees exported to classification_results_300win.csv\n",
      "Results for CatBoost exported to classification_results_300win.csv\n",
      "Results for LightGBM exported to classification_results_300win.csv\n",
      "Results for XGBoost exported to classification_results_300win.csv\n",
      "Results for SVM exported to classification_results_300win.csv\n",
      "Results for Random Forest exported to classification_results_300win.csv\n"
     ]
    },
    {
     "name": "stderr",
     "output_type": "stream",
     "text": [
      "C:\\Users\\ADMIN\\anaconda3\\Lib\\site-packages\\sklearn\\linear_model\\_logistic.py:458: ConvergenceWarning: lbfgs failed to converge (status=1):\n",
      "STOP: TOTAL NO. of ITERATIONS REACHED LIMIT.\n",
      "\n",
      "Increase the number of iterations (max_iter) or scale the data as shown in:\n",
      "    https://scikit-learn.org/stable/modules/preprocessing.html\n",
      "Please also refer to the documentation for alternative solver options:\n",
      "    https://scikit-learn.org/stable/modules/linear_model.html#logistic-regression\n",
      "  n_iter_i = _check_optimize_result(\n"
     ]
    },
    {
     "name": "stdout",
     "output_type": "stream",
     "text": [
      "Results for Logistic Regression exported to classification_results_300win.csv\n",
      "Results for Naive Bayes exported to classification_results_300win.csv\n",
      "Results for K-NN exported to classification_results_300win.csv\n",
      "Results for Gradient Boosting exported to classification_results_300win.csv\n",
      "Results for AdaBoost exported to classification_results_300win.csv\n",
      "Results for Decision Tree exported to classification_results_300win.csv\n",
      "Results for Perceptron exported to classification_results_300win.csv\n",
      "Results for SGD exported to classification_results_300win.csv\n",
      "Results for Bagging exported to classification_results_300win.csv\n",
      "Results for Extra Trees exported to classification_results_300win.csv\n",
      "Results for CatBoost exported to classification_results_300win.csv\n",
      "Results for LightGBM exported to classification_results_300win.csv\n",
      "Results for XGBoost exported to classification_results_300win.csv\n",
      "Results for SVM exported to classification_results_300win.csv\n",
      "Results for Random Forest exported to classification_results_300win.csv\n"
     ]
    },
    {
     "name": "stderr",
     "output_type": "stream",
     "text": [
      "C:\\Users\\ADMIN\\anaconda3\\Lib\\site-packages\\sklearn\\linear_model\\_logistic.py:458: ConvergenceWarning: lbfgs failed to converge (status=1):\n",
      "STOP: TOTAL NO. of ITERATIONS REACHED LIMIT.\n",
      "\n",
      "Increase the number of iterations (max_iter) or scale the data as shown in:\n",
      "    https://scikit-learn.org/stable/modules/preprocessing.html\n",
      "Please also refer to the documentation for alternative solver options:\n",
      "    https://scikit-learn.org/stable/modules/linear_model.html#logistic-regression\n",
      "  n_iter_i = _check_optimize_result(\n"
     ]
    },
    {
     "name": "stdout",
     "output_type": "stream",
     "text": [
      "Results for Logistic Regression exported to classification_results_300win.csv\n",
      "Results for Naive Bayes exported to classification_results_300win.csv\n",
      "Results for K-NN exported to classification_results_300win.csv\n",
      "Results for Gradient Boosting exported to classification_results_300win.csv\n",
      "Results for AdaBoost exported to classification_results_300win.csv\n",
      "Results for Decision Tree exported to classification_results_300win.csv\n",
      "Results for Perceptron exported to classification_results_300win.csv\n",
      "Results for SGD exported to classification_results_300win.csv\n",
      "Results for Bagging exported to classification_results_300win.csv\n",
      "Results for Extra Trees exported to classification_results_300win.csv\n",
      "Results for CatBoost exported to classification_results_300win.csv\n",
      "Results for LightGBM exported to classification_results_300win.csv\n",
      "Results for XGBoost exported to classification_results_300win.csv\n",
      "Results for SVM exported to classification_results_300win.csv\n",
      "Results for Random Forest exported to classification_results_300win.csv\n"
     ]
    },
    {
     "name": "stderr",
     "output_type": "stream",
     "text": [
      "C:\\Users\\ADMIN\\anaconda3\\Lib\\site-packages\\sklearn\\linear_model\\_logistic.py:458: ConvergenceWarning: lbfgs failed to converge (status=1):\n",
      "STOP: TOTAL NO. of ITERATIONS REACHED LIMIT.\n",
      "\n",
      "Increase the number of iterations (max_iter) or scale the data as shown in:\n",
      "    https://scikit-learn.org/stable/modules/preprocessing.html\n",
      "Please also refer to the documentation for alternative solver options:\n",
      "    https://scikit-learn.org/stable/modules/linear_model.html#logistic-regression\n",
      "  n_iter_i = _check_optimize_result(\n"
     ]
    },
    {
     "name": "stdout",
     "output_type": "stream",
     "text": [
      "Results for Logistic Regression exported to classification_results_300win.csv\n",
      "Results for Naive Bayes exported to classification_results_300win.csv\n",
      "Results for K-NN exported to classification_results_300win.csv\n",
      "Results for Gradient Boosting exported to classification_results_300win.csv\n",
      "Results for AdaBoost exported to classification_results_300win.csv\n",
      "Results for Decision Tree exported to classification_results_300win.csv\n",
      "Results for Perceptron exported to classification_results_300win.csv\n",
      "Results for SGD exported to classification_results_300win.csv\n",
      "Results for Bagging exported to classification_results_300win.csv\n",
      "Results for Extra Trees exported to classification_results_300win.csv\n",
      "Results for CatBoost exported to classification_results_300win.csv\n",
      "Results for LightGBM exported to classification_results_300win.csv\n",
      "Results for XGBoost exported to classification_results_300win.csv\n",
      "Results for SVM exported to classification_results_300win.csv\n",
      "Results for Random Forest exported to classification_results_300win.csv\n"
     ]
    },
    {
     "name": "stderr",
     "output_type": "stream",
     "text": [
      "C:\\Users\\ADMIN\\anaconda3\\Lib\\site-packages\\sklearn\\linear_model\\_logistic.py:458: ConvergenceWarning: lbfgs failed to converge (status=1):\n",
      "STOP: TOTAL NO. of ITERATIONS REACHED LIMIT.\n",
      "\n",
      "Increase the number of iterations (max_iter) or scale the data as shown in:\n",
      "    https://scikit-learn.org/stable/modules/preprocessing.html\n",
      "Please also refer to the documentation for alternative solver options:\n",
      "    https://scikit-learn.org/stable/modules/linear_model.html#logistic-regression\n",
      "  n_iter_i = _check_optimize_result(\n"
     ]
    },
    {
     "name": "stdout",
     "output_type": "stream",
     "text": [
      "Results for Logistic Regression exported to classification_results_300win.csv\n",
      "Results for Naive Bayes exported to classification_results_300win.csv\n",
      "Results for K-NN exported to classification_results_300win.csv\n",
      "Results for Gradient Boosting exported to classification_results_300win.csv\n",
      "Results for AdaBoost exported to classification_results_300win.csv\n",
      "Results for Decision Tree exported to classification_results_300win.csv\n",
      "Results for Perceptron exported to classification_results_300win.csv\n",
      "Results for SGD exported to classification_results_300win.csv\n",
      "Results for Bagging exported to classification_results_300win.csv\n",
      "Results for Extra Trees exported to classification_results_300win.csv\n",
      "Results for CatBoost exported to classification_results_300win.csv\n",
      "Results for LightGBM exported to classification_results_300win.csv\n",
      "Results for XGBoost exported to classification_results_300win.csv\n",
      "Results for SVM exported to classification_results_300win.csv\n",
      "Results for Random Forest exported to classification_results_300win.csv\n"
     ]
    },
    {
     "name": "stderr",
     "output_type": "stream",
     "text": [
      "C:\\Users\\ADMIN\\anaconda3\\Lib\\site-packages\\sklearn\\linear_model\\_logistic.py:458: ConvergenceWarning: lbfgs failed to converge (status=1):\n",
      "STOP: TOTAL NO. of ITERATIONS REACHED LIMIT.\n",
      "\n",
      "Increase the number of iterations (max_iter) or scale the data as shown in:\n",
      "    https://scikit-learn.org/stable/modules/preprocessing.html\n",
      "Please also refer to the documentation for alternative solver options:\n",
      "    https://scikit-learn.org/stable/modules/linear_model.html#logistic-regression\n",
      "  n_iter_i = _check_optimize_result(\n"
     ]
    },
    {
     "name": "stdout",
     "output_type": "stream",
     "text": [
      "Results for Logistic Regression exported to classification_results_300win.csv\n",
      "Results for Naive Bayes exported to classification_results_300win.csv\n",
      "Results for K-NN exported to classification_results_300win.csv\n",
      "Results for Gradient Boosting exported to classification_results_300win.csv\n",
      "Results for AdaBoost exported to classification_results_300win.csv\n",
      "Results for Decision Tree exported to classification_results_300win.csv\n",
      "Results for Perceptron exported to classification_results_300win.csv\n",
      "Results for SGD exported to classification_results_300win.csv\n",
      "Results for Bagging exported to classification_results_300win.csv\n",
      "Results for Extra Trees exported to classification_results_300win.csv\n",
      "Results for CatBoost exported to classification_results_300win.csv\n",
      "Results for LightGBM exported to classification_results_300win.csv\n",
      "Results for XGBoost exported to classification_results_300win.csv\n",
      "Processing Sacharo_correct_10001\n",
      "Results for SVM exported to classification_results_300win.csv\n",
      "Results for Random Forest exported to classification_results_300win.csv\n",
      "Results for Logistic Regression exported to classification_results_300win.csv\n",
      "Results for Naive Bayes exported to classification_results_300win.csv\n",
      "Results for K-NN exported to classification_results_300win.csv\n",
      "Results for Gradient Boosting exported to classification_results_300win.csv\n",
      "Results for AdaBoost exported to classification_results_300win.csv\n",
      "Results for Decision Tree exported to classification_results_300win.csv\n",
      "Results for Perceptron exported to classification_results_300win.csv\n",
      "Results for SGD exported to classification_results_300win.csv\n",
      "Results for Bagging exported to classification_results_300win.csv\n",
      "Results for Extra Trees exported to classification_results_300win.csv\n",
      "Results for CatBoost exported to classification_results_300win.csv\n",
      "Results for LightGBM exported to classification_results_300win.csv\n",
      "Results for XGBoost exported to classification_results_300win.csv\n",
      "Results for SVM exported to classification_results_300win.csv\n",
      "Results for Random Forest exported to classification_results_300win.csv\n",
      "Results for Logistic Regression exported to classification_results_300win.csv\n",
      "Results for Naive Bayes exported to classification_results_300win.csv\n"
     ]
    },
    {
     "name": "stderr",
     "output_type": "stream",
     "text": [
      "C:\\Users\\ADMIN\\anaconda3\\Lib\\site-packages\\sklearn\\linear_model\\_logistic.py:458: ConvergenceWarning: lbfgs failed to converge (status=1):\n",
      "STOP: TOTAL NO. of ITERATIONS REACHED LIMIT.\n",
      "\n",
      "Increase the number of iterations (max_iter) or scale the data as shown in:\n",
      "    https://scikit-learn.org/stable/modules/preprocessing.html\n",
      "Please also refer to the documentation for alternative solver options:\n",
      "    https://scikit-learn.org/stable/modules/linear_model.html#logistic-regression\n",
      "  n_iter_i = _check_optimize_result(\n"
     ]
    },
    {
     "name": "stdout",
     "output_type": "stream",
     "text": [
      "Results for K-NN exported to classification_results_300win.csv\n",
      "Results for Gradient Boosting exported to classification_results_300win.csv\n",
      "Results for AdaBoost exported to classification_results_300win.csv\n",
      "Results for Decision Tree exported to classification_results_300win.csv\n",
      "Results for Perceptron exported to classification_results_300win.csv\n",
      "Results for SGD exported to classification_results_300win.csv\n",
      "Results for Bagging exported to classification_results_300win.csv\n",
      "Results for Extra Trees exported to classification_results_300win.csv\n",
      "Results for CatBoost exported to classification_results_300win.csv\n",
      "Results for LightGBM exported to classification_results_300win.csv\n",
      "Results for XGBoost exported to classification_results_300win.csv\n",
      "Results for SVM exported to classification_results_300win.csv\n",
      "Results for Random Forest exported to classification_results_300win.csv\n",
      "Results for Logistic Regression exported to classification_results_300win.csv\n"
     ]
    },
    {
     "name": "stderr",
     "output_type": "stream",
     "text": [
      "C:\\Users\\ADMIN\\anaconda3\\Lib\\site-packages\\sklearn\\linear_model\\_logistic.py:458: ConvergenceWarning: lbfgs failed to converge (status=1):\n",
      "STOP: TOTAL NO. of ITERATIONS REACHED LIMIT.\n",
      "\n",
      "Increase the number of iterations (max_iter) or scale the data as shown in:\n",
      "    https://scikit-learn.org/stable/modules/preprocessing.html\n",
      "Please also refer to the documentation for alternative solver options:\n",
      "    https://scikit-learn.org/stable/modules/linear_model.html#logistic-regression\n",
      "  n_iter_i = _check_optimize_result(\n"
     ]
    },
    {
     "name": "stdout",
     "output_type": "stream",
     "text": [
      "Results for Naive Bayes exported to classification_results_300win.csv\n",
      "Results for K-NN exported to classification_results_300win.csv\n",
      "Results for Gradient Boosting exported to classification_results_300win.csv\n",
      "Results for AdaBoost exported to classification_results_300win.csv\n",
      "Results for Decision Tree exported to classification_results_300win.csv\n",
      "Results for Perceptron exported to classification_results_300win.csv\n",
      "Results for SGD exported to classification_results_300win.csv\n",
      "Results for Bagging exported to classification_results_300win.csv\n",
      "Results for Extra Trees exported to classification_results_300win.csv\n",
      "Results for CatBoost exported to classification_results_300win.csv\n",
      "Results for LightGBM exported to classification_results_300win.csv\n",
      "Results for XGBoost exported to classification_results_300win.csv\n",
      "Results for SVM exported to classification_results_300win.csv\n",
      "Results for Random Forest exported to classification_results_300win.csv\n",
      "Results for Logistic Regression exported to classification_results_300win.csv\n",
      "Results for Naive Bayes exported to classification_results_300win.csv\n"
     ]
    },
    {
     "name": "stderr",
     "output_type": "stream",
     "text": [
      "C:\\Users\\ADMIN\\anaconda3\\Lib\\site-packages\\sklearn\\linear_model\\_logistic.py:458: ConvergenceWarning: lbfgs failed to converge (status=1):\n",
      "STOP: TOTAL NO. of ITERATIONS REACHED LIMIT.\n",
      "\n",
      "Increase the number of iterations (max_iter) or scale the data as shown in:\n",
      "    https://scikit-learn.org/stable/modules/preprocessing.html\n",
      "Please also refer to the documentation for alternative solver options:\n",
      "    https://scikit-learn.org/stable/modules/linear_model.html#logistic-regression\n",
      "  n_iter_i = _check_optimize_result(\n"
     ]
    },
    {
     "name": "stdout",
     "output_type": "stream",
     "text": [
      "Results for K-NN exported to classification_results_300win.csv\n",
      "Results for Gradient Boosting exported to classification_results_300win.csv\n",
      "Results for AdaBoost exported to classification_results_300win.csv\n",
      "Results for Decision Tree exported to classification_results_300win.csv\n",
      "Results for Perceptron exported to classification_results_300win.csv\n",
      "Results for SGD exported to classification_results_300win.csv\n",
      "Results for Bagging exported to classification_results_300win.csv\n",
      "Results for Extra Trees exported to classification_results_300win.csv\n",
      "Results for CatBoost exported to classification_results_300win.csv\n",
      "Results for LightGBM exported to classification_results_300win.csv\n",
      "Results for XGBoost exported to classification_results_300win.csv\n",
      "Results for SVM exported to classification_results_300win.csv\n",
      "Results for Random Forest exported to classification_results_300win.csv\n",
      "Results for Logistic Regression exported to classification_results_300win.csv\n",
      "Results for Naive Bayes exported to classification_results_300win.csv\n",
      "Results for K-NN exported to classification_results_300win.csv\n",
      "Results for Gradient Boosting exported to classification_results_300win.csv\n",
      "Results for AdaBoost exported to classification_results_300win.csv\n",
      "Results for Decision Tree exported to classification_results_300win.csv\n",
      "Results for Perceptron exported to classification_results_300win.csv\n",
      "Results for SGD exported to classification_results_300win.csv\n",
      "Results for Bagging exported to classification_results_300win.csv\n",
      "Results for Extra Trees exported to classification_results_300win.csv\n",
      "Results for CatBoost exported to classification_results_300win.csv\n",
      "Results for LightGBM exported to classification_results_300win.csv\n",
      "Results for XGBoost exported to classification_results_300win.csv\n",
      "Results for SVM exported to classification_results_300win.csv\n",
      "Results for Random Forest exported to classification_results_300win.csv\n",
      "Results for Logistic Regression exported to classification_results_300win.csv\n",
      "Results for Naive Bayes exported to classification_results_300win.csv\n",
      "Results for K-NN exported to classification_results_300win.csv\n",
      "Results for Gradient Boosting exported to classification_results_300win.csv\n",
      "Results for AdaBoost exported to classification_results_300win.csv\n",
      "Results for Decision Tree exported to classification_results_300win.csv\n",
      "Results for Perceptron exported to classification_results_300win.csv\n",
      "Results for SGD exported to classification_results_300win.csv\n",
      "Results for Bagging exported to classification_results_300win.csv\n",
      "Results for Extra Trees exported to classification_results_300win.csv\n",
      "Results for CatBoost exported to classification_results_300win.csv\n",
      "Results for LightGBM exported to classification_results_300win.csv\n",
      "Results for XGBoost exported to classification_results_300win.csv\n",
      "Results for SVM exported to classification_results_300win.csv\n",
      "Results for Random Forest exported to classification_results_300win.csv\n",
      "Results for Logistic Regression exported to classification_results_300win.csv\n",
      "Results for Naive Bayes exported to classification_results_300win.csv\n",
      "Results for K-NN exported to classification_results_300win.csv\n"
     ]
    },
    {
     "name": "stderr",
     "output_type": "stream",
     "text": [
      "C:\\Users\\ADMIN\\anaconda3\\Lib\\site-packages\\sklearn\\linear_model\\_logistic.py:458: ConvergenceWarning: lbfgs failed to converge (status=1):\n",
      "STOP: TOTAL NO. of ITERATIONS REACHED LIMIT.\n",
      "\n",
      "Increase the number of iterations (max_iter) or scale the data as shown in:\n",
      "    https://scikit-learn.org/stable/modules/preprocessing.html\n",
      "Please also refer to the documentation for alternative solver options:\n",
      "    https://scikit-learn.org/stable/modules/linear_model.html#logistic-regression\n",
      "  n_iter_i = _check_optimize_result(\n"
     ]
    },
    {
     "name": "stdout",
     "output_type": "stream",
     "text": [
      "Results for Gradient Boosting exported to classification_results_300win.csv\n",
      "Results for AdaBoost exported to classification_results_300win.csv\n",
      "Results for Decision Tree exported to classification_results_300win.csv\n",
      "Results for Perceptron exported to classification_results_300win.csv\n",
      "Results for SGD exported to classification_results_300win.csv\n",
      "Results for Bagging exported to classification_results_300win.csv\n",
      "Results for Extra Trees exported to classification_results_300win.csv\n",
      "Results for CatBoost exported to classification_results_300win.csv\n",
      "Results for LightGBM exported to classification_results_300win.csv\n",
      "Results for XGBoost exported to classification_results_300win.csv\n",
      "Results for SVM exported to classification_results_300win.csv\n",
      "Results for Random Forest exported to classification_results_300win.csv\n",
      "Results for Logistic Regression exported to classification_results_300win.csv\n",
      "Results for Naive Bayes exported to classification_results_300win.csv\n",
      "Results for K-NN exported to classification_results_300win.csv\n"
     ]
    },
    {
     "name": "stderr",
     "output_type": "stream",
     "text": [
      "C:\\Users\\ADMIN\\anaconda3\\Lib\\site-packages\\sklearn\\linear_model\\_logistic.py:458: ConvergenceWarning: lbfgs failed to converge (status=1):\n",
      "STOP: TOTAL NO. of ITERATIONS REACHED LIMIT.\n",
      "\n",
      "Increase the number of iterations (max_iter) or scale the data as shown in:\n",
      "    https://scikit-learn.org/stable/modules/preprocessing.html\n",
      "Please also refer to the documentation for alternative solver options:\n",
      "    https://scikit-learn.org/stable/modules/linear_model.html#logistic-regression\n",
      "  n_iter_i = _check_optimize_result(\n"
     ]
    },
    {
     "name": "stdout",
     "output_type": "stream",
     "text": [
      "Results for Gradient Boosting exported to classification_results_300win.csv\n",
      "Results for AdaBoost exported to classification_results_300win.csv\n",
      "Results for Decision Tree exported to classification_results_300win.csv\n",
      "Results for Perceptron exported to classification_results_300win.csv\n",
      "Results for SGD exported to classification_results_300win.csv\n",
      "Results for Bagging exported to classification_results_300win.csv\n",
      "Results for Extra Trees exported to classification_results_300win.csv\n",
      "Results for CatBoost exported to classification_results_300win.csv\n",
      "Results for LightGBM exported to classification_results_300win.csv\n",
      "Results for XGBoost exported to classification_results_300win.csv\n",
      "Results for SVM exported to classification_results_300win.csv\n",
      "Results for Random Forest exported to classification_results_300win.csv\n",
      "Results for Logistic Regression exported to classification_results_300win.csv\n",
      "Results for Naive Bayes exported to classification_results_300win.csv\n",
      "Results for K-NN exported to classification_results_300win.csv\n"
     ]
    },
    {
     "name": "stderr",
     "output_type": "stream",
     "text": [
      "C:\\Users\\ADMIN\\anaconda3\\Lib\\site-packages\\sklearn\\linear_model\\_logistic.py:458: ConvergenceWarning: lbfgs failed to converge (status=1):\n",
      "STOP: TOTAL NO. of ITERATIONS REACHED LIMIT.\n",
      "\n",
      "Increase the number of iterations (max_iter) or scale the data as shown in:\n",
      "    https://scikit-learn.org/stable/modules/preprocessing.html\n",
      "Please also refer to the documentation for alternative solver options:\n",
      "    https://scikit-learn.org/stable/modules/linear_model.html#logistic-regression\n",
      "  n_iter_i = _check_optimize_result(\n"
     ]
    },
    {
     "name": "stdout",
     "output_type": "stream",
     "text": [
      "Results for Gradient Boosting exported to classification_results_300win.csv\n",
      "Results for AdaBoost exported to classification_results_300win.csv\n",
      "Results for Decision Tree exported to classification_results_300win.csv\n",
      "Results for Perceptron exported to classification_results_300win.csv\n",
      "Results for SGD exported to classification_results_300win.csv\n",
      "Results for Bagging exported to classification_results_300win.csv\n",
      "Results for Extra Trees exported to classification_results_300win.csv\n",
      "Results for CatBoost exported to classification_results_300win.csv\n",
      "Results for LightGBM exported to classification_results_300win.csv\n",
      "Results for XGBoost exported to classification_results_300win.csv\n",
      "Results for SVM exported to classification_results_300win.csv\n",
      "Results for Random Forest exported to classification_results_300win.csv\n",
      "Results for Logistic Regression exported to classification_results_300win.csv\n",
      "Results for Naive Bayes exported to classification_results_300win.csv\n",
      "Results for K-NN exported to classification_results_300win.csv\n"
     ]
    },
    {
     "name": "stderr",
     "output_type": "stream",
     "text": [
      "C:\\Users\\ADMIN\\anaconda3\\Lib\\site-packages\\sklearn\\linear_model\\_logistic.py:458: ConvergenceWarning: lbfgs failed to converge (status=1):\n",
      "STOP: TOTAL NO. of ITERATIONS REACHED LIMIT.\n",
      "\n",
      "Increase the number of iterations (max_iter) or scale the data as shown in:\n",
      "    https://scikit-learn.org/stable/modules/preprocessing.html\n",
      "Please also refer to the documentation for alternative solver options:\n",
      "    https://scikit-learn.org/stable/modules/linear_model.html#logistic-regression\n",
      "  n_iter_i = _check_optimize_result(\n"
     ]
    },
    {
     "name": "stdout",
     "output_type": "stream",
     "text": [
      "Results for Gradient Boosting exported to classification_results_300win.csv\n",
      "Results for AdaBoost exported to classification_results_300win.csv\n",
      "Results for Decision Tree exported to classification_results_300win.csv\n",
      "Results for Perceptron exported to classification_results_300win.csv\n",
      "Results for SGD exported to classification_results_300win.csv\n",
      "Results for Bagging exported to classification_results_300win.csv\n",
      "Results for Extra Trees exported to classification_results_300win.csv\n",
      "Results for CatBoost exported to classification_results_300win.csv\n",
      "Results for LightGBM exported to classification_results_300win.csv\n",
      "Results for XGBoost exported to classification_results_300win.csv\n",
      "Results for SVM exported to classification_results_300win.csv\n",
      "Results for Random Forest exported to classification_results_300win.csv\n",
      "Results for Logistic Regression exported to classification_results_300win.csv\n",
      "Results for Naive Bayes exported to classification_results_300win.csv\n",
      "Results for K-NN exported to classification_results_300win.csv\n"
     ]
    },
    {
     "name": "stderr",
     "output_type": "stream",
     "text": [
      "C:\\Users\\ADMIN\\anaconda3\\Lib\\site-packages\\sklearn\\linear_model\\_logistic.py:458: ConvergenceWarning: lbfgs failed to converge (status=1):\n",
      "STOP: TOTAL NO. of ITERATIONS REACHED LIMIT.\n",
      "\n",
      "Increase the number of iterations (max_iter) or scale the data as shown in:\n",
      "    https://scikit-learn.org/stable/modules/preprocessing.html\n",
      "Please also refer to the documentation for alternative solver options:\n",
      "    https://scikit-learn.org/stable/modules/linear_model.html#logistic-regression\n",
      "  n_iter_i = _check_optimize_result(\n"
     ]
    },
    {
     "name": "stdout",
     "output_type": "stream",
     "text": [
      "Results for Gradient Boosting exported to classification_results_300win.csv\n",
      "Results for AdaBoost exported to classification_results_300win.csv\n",
      "Results for Decision Tree exported to classification_results_300win.csv\n",
      "Results for Perceptron exported to classification_results_300win.csv\n",
      "Results for SGD exported to classification_results_300win.csv\n",
      "Results for Bagging exported to classification_results_300win.csv\n",
      "Results for Extra Trees exported to classification_results_300win.csv\n",
      "Results for CatBoost exported to classification_results_300win.csv\n",
      "Results for LightGBM exported to classification_results_300win.csv\n",
      "Results for XGBoost exported to classification_results_300win.csv\n",
      "Results for SVM exported to classification_results_300win.csv\n",
      "Results for Random Forest exported to classification_results_300win.csv\n",
      "Results for Logistic Regression exported to classification_results_300win.csv\n",
      "Results for Naive Bayes exported to classification_results_300win.csv\n",
      "Results for K-NN exported to classification_results_300win.csv\n"
     ]
    },
    {
     "name": "stderr",
     "output_type": "stream",
     "text": [
      "C:\\Users\\ADMIN\\anaconda3\\Lib\\site-packages\\sklearn\\linear_model\\_logistic.py:458: ConvergenceWarning: lbfgs failed to converge (status=1):\n",
      "STOP: TOTAL NO. of ITERATIONS REACHED LIMIT.\n",
      "\n",
      "Increase the number of iterations (max_iter) or scale the data as shown in:\n",
      "    https://scikit-learn.org/stable/modules/preprocessing.html\n",
      "Please also refer to the documentation for alternative solver options:\n",
      "    https://scikit-learn.org/stable/modules/linear_model.html#logistic-regression\n",
      "  n_iter_i = _check_optimize_result(\n"
     ]
    },
    {
     "name": "stdout",
     "output_type": "stream",
     "text": [
      "Results for Gradient Boosting exported to classification_results_300win.csv\n",
      "Results for AdaBoost exported to classification_results_300win.csv\n",
      "Results for Decision Tree exported to classification_results_300win.csv\n",
      "Results for Perceptron exported to classification_results_300win.csv\n",
      "Results for SGD exported to classification_results_300win.csv\n",
      "Results for Bagging exported to classification_results_300win.csv\n",
      "Results for Extra Trees exported to classification_results_300win.csv\n",
      "Results for CatBoost exported to classification_results_300win.csv\n",
      "Results for LightGBM exported to classification_results_300win.csv\n",
      "Results for XGBoost exported to classification_results_300win.csv\n",
      "Results for SVM exported to classification_results_300win.csv\n",
      "Results for Random Forest exported to classification_results_300win.csv\n",
      "Results for Logistic Regression exported to classification_results_300win.csv\n",
      "Results for Naive Bayes exported to classification_results_300win.csv\n",
      "Results for K-NN exported to classification_results_300win.csv\n"
     ]
    },
    {
     "name": "stderr",
     "output_type": "stream",
     "text": [
      "C:\\Users\\ADMIN\\anaconda3\\Lib\\site-packages\\sklearn\\linear_model\\_logistic.py:458: ConvergenceWarning: lbfgs failed to converge (status=1):\n",
      "STOP: TOTAL NO. of ITERATIONS REACHED LIMIT.\n",
      "\n",
      "Increase the number of iterations (max_iter) or scale the data as shown in:\n",
      "    https://scikit-learn.org/stable/modules/preprocessing.html\n",
      "Please also refer to the documentation for alternative solver options:\n",
      "    https://scikit-learn.org/stable/modules/linear_model.html#logistic-regression\n",
      "  n_iter_i = _check_optimize_result(\n"
     ]
    },
    {
     "name": "stdout",
     "output_type": "stream",
     "text": [
      "Results for Gradient Boosting exported to classification_results_300win.csv\n",
      "Results for AdaBoost exported to classification_results_300win.csv\n",
      "Results for Decision Tree exported to classification_results_300win.csv\n",
      "Results for Perceptron exported to classification_results_300win.csv\n",
      "Results for SGD exported to classification_results_300win.csv\n",
      "Results for Bagging exported to classification_results_300win.csv\n",
      "Results for Extra Trees exported to classification_results_300win.csv\n",
      "Results for CatBoost exported to classification_results_300win.csv\n",
      "Results for LightGBM exported to classification_results_300win.csv\n",
      "Results for XGBoost exported to classification_results_300win.csv\n",
      "Results for SVM exported to classification_results_300win.csv\n",
      "Results for Random Forest exported to classification_results_300win.csv\n",
      "Results for Logistic Regression exported to classification_results_300win.csv\n",
      "Results for Naive Bayes exported to classification_results_300win.csv\n",
      "Results for K-NN exported to classification_results_300win.csv\n"
     ]
    },
    {
     "name": "stderr",
     "output_type": "stream",
     "text": [
      "C:\\Users\\ADMIN\\anaconda3\\Lib\\site-packages\\sklearn\\linear_model\\_logistic.py:458: ConvergenceWarning: lbfgs failed to converge (status=1):\n",
      "STOP: TOTAL NO. of ITERATIONS REACHED LIMIT.\n",
      "\n",
      "Increase the number of iterations (max_iter) or scale the data as shown in:\n",
      "    https://scikit-learn.org/stable/modules/preprocessing.html\n",
      "Please also refer to the documentation for alternative solver options:\n",
      "    https://scikit-learn.org/stable/modules/linear_model.html#logistic-regression\n",
      "  n_iter_i = _check_optimize_result(\n"
     ]
    },
    {
     "name": "stdout",
     "output_type": "stream",
     "text": [
      "Results for Gradient Boosting exported to classification_results_300win.csv\n",
      "Results for AdaBoost exported to classification_results_300win.csv\n",
      "Results for Decision Tree exported to classification_results_300win.csv\n",
      "Results for Perceptron exported to classification_results_300win.csv\n",
      "Results for SGD exported to classification_results_300win.csv\n",
      "Results for Bagging exported to classification_results_300win.csv\n",
      "Results for Extra Trees exported to classification_results_300win.csv\n",
      "Results for CatBoost exported to classification_results_300win.csv\n",
      "Results for LightGBM exported to classification_results_300win.csv\n",
      "Results for XGBoost exported to classification_results_300win.csv\n",
      "Results for SVM exported to classification_results_300win.csv\n",
      "Results for Random Forest exported to classification_results_300win.csv\n",
      "Results for Logistic Regression exported to classification_results_300win.csv\n",
      "Results for Naive Bayes exported to classification_results_300win.csv\n",
      "Results for K-NN exported to classification_results_300win.csv\n",
      "Results for Gradient Boosting exported to classification_results_300win.csv\n",
      "Results for AdaBoost exported to classification_results_300win.csv\n",
      "Results for Decision Tree exported to classification_results_300win.csv\n",
      "Results for Perceptron exported to classification_results_300win.csv\n",
      "Results for SGD exported to classification_results_300win.csv\n",
      "Results for Bagging exported to classification_results_300win.csv\n",
      "Results for Extra Trees exported to classification_results_300win.csv\n",
      "Results for CatBoost exported to classification_results_300win.csv\n",
      "Results for LightGBM exported to classification_results_300win.csv\n",
      "Results for XGBoost exported to classification_results_300win.csv\n",
      "Processing MM8_correct_10001\n",
      "Results for SVM exported to classification_results_300win.csv\n",
      "Results for Random Forest exported to classification_results_300win.csv\n"
     ]
    },
    {
     "name": "stderr",
     "output_type": "stream",
     "text": [
      "C:\\Users\\ADMIN\\anaconda3\\Lib\\site-packages\\sklearn\\linear_model\\_logistic.py:458: ConvergenceWarning: lbfgs failed to converge (status=1):\n",
      "STOP: TOTAL NO. of ITERATIONS REACHED LIMIT.\n",
      "\n",
      "Increase the number of iterations (max_iter) or scale the data as shown in:\n",
      "    https://scikit-learn.org/stable/modules/preprocessing.html\n",
      "Please also refer to the documentation for alternative solver options:\n",
      "    https://scikit-learn.org/stable/modules/linear_model.html#logistic-regression\n",
      "  n_iter_i = _check_optimize_result(\n"
     ]
    },
    {
     "name": "stdout",
     "output_type": "stream",
     "text": [
      "Results for Logistic Regression exported to classification_results_300win.csv\n",
      "Results for Naive Bayes exported to classification_results_300win.csv\n",
      "Results for K-NN exported to classification_results_300win.csv\n",
      "Results for Gradient Boosting exported to classification_results_300win.csv\n",
      "Results for AdaBoost exported to classification_results_300win.csv\n",
      "Results for Decision Tree exported to classification_results_300win.csv\n",
      "Results for Perceptron exported to classification_results_300win.csv\n",
      "Results for SGD exported to classification_results_300win.csv\n",
      "Results for Bagging exported to classification_results_300win.csv\n",
      "Results for Extra Trees exported to classification_results_300win.csv\n",
      "Results for CatBoost exported to classification_results_300win.csv\n",
      "Results for LightGBM exported to classification_results_300win.csv\n",
      "Results for XGBoost exported to classification_results_300win.csv\n",
      "Results for SVM exported to classification_results_300win.csv\n",
      "Results for Random Forest exported to classification_results_300win.csv\n"
     ]
    },
    {
     "name": "stderr",
     "output_type": "stream",
     "text": [
      "C:\\Users\\ADMIN\\anaconda3\\Lib\\site-packages\\sklearn\\linear_model\\_logistic.py:458: ConvergenceWarning: lbfgs failed to converge (status=1):\n",
      "STOP: TOTAL NO. of ITERATIONS REACHED LIMIT.\n",
      "\n",
      "Increase the number of iterations (max_iter) or scale the data as shown in:\n",
      "    https://scikit-learn.org/stable/modules/preprocessing.html\n",
      "Please also refer to the documentation for alternative solver options:\n",
      "    https://scikit-learn.org/stable/modules/linear_model.html#logistic-regression\n",
      "  n_iter_i = _check_optimize_result(\n"
     ]
    },
    {
     "name": "stdout",
     "output_type": "stream",
     "text": [
      "Results for Logistic Regression exported to classification_results_300win.csv\n",
      "Results for Naive Bayes exported to classification_results_300win.csv\n",
      "Results for K-NN exported to classification_results_300win.csv\n",
      "Results for Gradient Boosting exported to classification_results_300win.csv\n",
      "Results for AdaBoost exported to classification_results_300win.csv\n",
      "Results for Decision Tree exported to classification_results_300win.csv\n",
      "Results for Perceptron exported to classification_results_300win.csv\n",
      "Results for SGD exported to classification_results_300win.csv\n",
      "Results for Bagging exported to classification_results_300win.csv\n",
      "Results for Extra Trees exported to classification_results_300win.csv\n",
      "Results for CatBoost exported to classification_results_300win.csv\n",
      "Results for LightGBM exported to classification_results_300win.csv\n",
      "Results for XGBoost exported to classification_results_300win.csv\n",
      "Results for SVM exported to classification_results_300win.csv\n",
      "Results for Random Forest exported to classification_results_300win.csv\n"
     ]
    },
    {
     "name": "stderr",
     "output_type": "stream",
     "text": [
      "C:\\Users\\ADMIN\\anaconda3\\Lib\\site-packages\\sklearn\\linear_model\\_logistic.py:458: ConvergenceWarning: lbfgs failed to converge (status=1):\n",
      "STOP: TOTAL NO. of ITERATIONS REACHED LIMIT.\n",
      "\n",
      "Increase the number of iterations (max_iter) or scale the data as shown in:\n",
      "    https://scikit-learn.org/stable/modules/preprocessing.html\n",
      "Please also refer to the documentation for alternative solver options:\n",
      "    https://scikit-learn.org/stable/modules/linear_model.html#logistic-regression\n",
      "  n_iter_i = _check_optimize_result(\n"
     ]
    },
    {
     "name": "stdout",
     "output_type": "stream",
     "text": [
      "Results for Logistic Regression exported to classification_results_300win.csv\n",
      "Results for Naive Bayes exported to classification_results_300win.csv\n",
      "Results for K-NN exported to classification_results_300win.csv\n",
      "Results for Gradient Boosting exported to classification_results_300win.csv\n",
      "Results for AdaBoost exported to classification_results_300win.csv\n",
      "Results for Decision Tree exported to classification_results_300win.csv\n",
      "Results for Perceptron exported to classification_results_300win.csv\n",
      "Results for SGD exported to classification_results_300win.csv\n",
      "Results for Bagging exported to classification_results_300win.csv\n",
      "Results for Extra Trees exported to classification_results_300win.csv\n",
      "Results for CatBoost exported to classification_results_300win.csv\n",
      "Results for LightGBM exported to classification_results_300win.csv\n",
      "Results for XGBoost exported to classification_results_300win.csv\n",
      "Results for SVM exported to classification_results_300win.csv\n",
      "Results for Random Forest exported to classification_results_300win.csv\n"
     ]
    },
    {
     "name": "stderr",
     "output_type": "stream",
     "text": [
      "C:\\Users\\ADMIN\\anaconda3\\Lib\\site-packages\\sklearn\\linear_model\\_logistic.py:458: ConvergenceWarning: lbfgs failed to converge (status=1):\n",
      "STOP: TOTAL NO. of ITERATIONS REACHED LIMIT.\n",
      "\n",
      "Increase the number of iterations (max_iter) or scale the data as shown in:\n",
      "    https://scikit-learn.org/stable/modules/preprocessing.html\n",
      "Please also refer to the documentation for alternative solver options:\n",
      "    https://scikit-learn.org/stable/modules/linear_model.html#logistic-regression\n",
      "  n_iter_i = _check_optimize_result(\n"
     ]
    },
    {
     "name": "stdout",
     "output_type": "stream",
     "text": [
      "Results for Logistic Regression exported to classification_results_300win.csv\n",
      "Results for Naive Bayes exported to classification_results_300win.csv\n",
      "Results for K-NN exported to classification_results_300win.csv\n",
      "Results for Gradient Boosting exported to classification_results_300win.csv\n",
      "Results for AdaBoost exported to classification_results_300win.csv\n",
      "Results for Decision Tree exported to classification_results_300win.csv\n",
      "Results for Perceptron exported to classification_results_300win.csv\n",
      "Results for SGD exported to classification_results_300win.csv\n",
      "Results for Bagging exported to classification_results_300win.csv\n",
      "Results for Extra Trees exported to classification_results_300win.csv\n",
      "Results for CatBoost exported to classification_results_300win.csv\n",
      "Results for LightGBM exported to classification_results_300win.csv\n",
      "Results for XGBoost exported to classification_results_300win.csv\n",
      "Results for SVM exported to classification_results_300win.csv\n",
      "Results for Random Forest exported to classification_results_300win.csv\n"
     ]
    },
    {
     "name": "stderr",
     "output_type": "stream",
     "text": [
      "C:\\Users\\ADMIN\\anaconda3\\Lib\\site-packages\\sklearn\\linear_model\\_logistic.py:458: ConvergenceWarning: lbfgs failed to converge (status=1):\n",
      "STOP: TOTAL NO. of ITERATIONS REACHED LIMIT.\n",
      "\n",
      "Increase the number of iterations (max_iter) or scale the data as shown in:\n",
      "    https://scikit-learn.org/stable/modules/preprocessing.html\n",
      "Please also refer to the documentation for alternative solver options:\n",
      "    https://scikit-learn.org/stable/modules/linear_model.html#logistic-regression\n",
      "  n_iter_i = _check_optimize_result(\n"
     ]
    },
    {
     "name": "stdout",
     "output_type": "stream",
     "text": [
      "Results for Logistic Regression exported to classification_results_300win.csv\n",
      "Results for Naive Bayes exported to classification_results_300win.csv\n",
      "Results for K-NN exported to classification_results_300win.csv\n",
      "Results for Gradient Boosting exported to classification_results_300win.csv\n",
      "Results for AdaBoost exported to classification_results_300win.csv\n",
      "Results for Decision Tree exported to classification_results_300win.csv\n",
      "Results for Perceptron exported to classification_results_300win.csv\n",
      "Results for SGD exported to classification_results_300win.csv\n",
      "Results for Bagging exported to classification_results_300win.csv\n",
      "Results for Extra Trees exported to classification_results_300win.csv\n",
      "Results for CatBoost exported to classification_results_300win.csv\n",
      "Results for LightGBM exported to classification_results_300win.csv\n",
      "Results for XGBoost exported to classification_results_300win.csv\n",
      "Results for SVM exported to classification_results_300win.csv\n",
      "Results for Random Forest exported to classification_results_300win.csv\n"
     ]
    },
    {
     "name": "stderr",
     "output_type": "stream",
     "text": [
      "C:\\Users\\ADMIN\\anaconda3\\Lib\\site-packages\\sklearn\\linear_model\\_logistic.py:458: ConvergenceWarning: lbfgs failed to converge (status=1):\n",
      "STOP: TOTAL NO. of ITERATIONS REACHED LIMIT.\n",
      "\n",
      "Increase the number of iterations (max_iter) or scale the data as shown in:\n",
      "    https://scikit-learn.org/stable/modules/preprocessing.html\n",
      "Please also refer to the documentation for alternative solver options:\n",
      "    https://scikit-learn.org/stable/modules/linear_model.html#logistic-regression\n",
      "  n_iter_i = _check_optimize_result(\n"
     ]
    },
    {
     "name": "stdout",
     "output_type": "stream",
     "text": [
      "Results for Logistic Regression exported to classification_results_300win.csv\n",
      "Results for Naive Bayes exported to classification_results_300win.csv\n",
      "Results for K-NN exported to classification_results_300win.csv\n",
      "Results for Gradient Boosting exported to classification_results_300win.csv\n",
      "Results for AdaBoost exported to classification_results_300win.csv\n",
      "Results for Decision Tree exported to classification_results_300win.csv\n",
      "Results for Perceptron exported to classification_results_300win.csv\n",
      "Results for SGD exported to classification_results_300win.csv\n",
      "Results for Bagging exported to classification_results_300win.csv\n",
      "Results for Extra Trees exported to classification_results_300win.csv\n",
      "Results for CatBoost exported to classification_results_300win.csv\n",
      "Results for LightGBM exported to classification_results_300win.csv\n",
      "Results for XGBoost exported to classification_results_300win.csv\n",
      "Results for SVM exported to classification_results_300win.csv\n",
      "Results for Random Forest exported to classification_results_300win.csv\n"
     ]
    },
    {
     "name": "stderr",
     "output_type": "stream",
     "text": [
      "C:\\Users\\ADMIN\\anaconda3\\Lib\\site-packages\\sklearn\\linear_model\\_logistic.py:458: ConvergenceWarning: lbfgs failed to converge (status=1):\n",
      "STOP: TOTAL NO. of ITERATIONS REACHED LIMIT.\n",
      "\n",
      "Increase the number of iterations (max_iter) or scale the data as shown in:\n",
      "    https://scikit-learn.org/stable/modules/preprocessing.html\n",
      "Please also refer to the documentation for alternative solver options:\n",
      "    https://scikit-learn.org/stable/modules/linear_model.html#logistic-regression\n",
      "  n_iter_i = _check_optimize_result(\n"
     ]
    },
    {
     "name": "stdout",
     "output_type": "stream",
     "text": [
      "Results for Logistic Regression exported to classification_results_300win.csv\n",
      "Results for Naive Bayes exported to classification_results_300win.csv\n",
      "Results for K-NN exported to classification_results_300win.csv\n",
      "Results for Gradient Boosting exported to classification_results_300win.csv\n",
      "Results for AdaBoost exported to classification_results_300win.csv\n",
      "Results for Decision Tree exported to classification_results_300win.csv\n",
      "Results for Perceptron exported to classification_results_300win.csv\n",
      "Results for SGD exported to classification_results_300win.csv\n",
      "Results for Bagging exported to classification_results_300win.csv\n",
      "Results for Extra Trees exported to classification_results_300win.csv\n",
      "Results for CatBoost exported to classification_results_300win.csv\n",
      "Results for LightGBM exported to classification_results_300win.csv\n",
      "Results for XGBoost exported to classification_results_300win.csv\n",
      "Results for SVM exported to classification_results_300win.csv\n",
      "Results for Random Forest exported to classification_results_300win.csv\n"
     ]
    },
    {
     "name": "stderr",
     "output_type": "stream",
     "text": [
      "C:\\Users\\ADMIN\\anaconda3\\Lib\\site-packages\\sklearn\\linear_model\\_logistic.py:458: ConvergenceWarning: lbfgs failed to converge (status=1):\n",
      "STOP: TOTAL NO. of ITERATIONS REACHED LIMIT.\n",
      "\n",
      "Increase the number of iterations (max_iter) or scale the data as shown in:\n",
      "    https://scikit-learn.org/stable/modules/preprocessing.html\n",
      "Please also refer to the documentation for alternative solver options:\n",
      "    https://scikit-learn.org/stable/modules/linear_model.html#logistic-regression\n",
      "  n_iter_i = _check_optimize_result(\n"
     ]
    },
    {
     "name": "stdout",
     "output_type": "stream",
     "text": [
      "Results for Logistic Regression exported to classification_results_300win.csv\n",
      "Results for Naive Bayes exported to classification_results_300win.csv\n",
      "Results for K-NN exported to classification_results_300win.csv\n",
      "Results for Gradient Boosting exported to classification_results_300win.csv\n",
      "Results for AdaBoost exported to classification_results_300win.csv\n",
      "Results for Decision Tree exported to classification_results_300win.csv\n",
      "Results for Perceptron exported to classification_results_300win.csv\n",
      "Results for SGD exported to classification_results_300win.csv\n",
      "Results for Bagging exported to classification_results_300win.csv\n",
      "Results for Extra Trees exported to classification_results_300win.csv\n",
      "Results for CatBoost exported to classification_results_300win.csv\n",
      "Results for LightGBM exported to classification_results_300win.csv\n",
      "Results for XGBoost exported to classification_results_300win.csv\n",
      "Results for SVM exported to classification_results_300win.csv\n",
      "Results for Random Forest exported to classification_results_300win.csv\n"
     ]
    },
    {
     "name": "stderr",
     "output_type": "stream",
     "text": [
      "C:\\Users\\ADMIN\\anaconda3\\Lib\\site-packages\\sklearn\\linear_model\\_logistic.py:458: ConvergenceWarning: lbfgs failed to converge (status=1):\n",
      "STOP: TOTAL NO. of ITERATIONS REACHED LIMIT.\n",
      "\n",
      "Increase the number of iterations (max_iter) or scale the data as shown in:\n",
      "    https://scikit-learn.org/stable/modules/preprocessing.html\n",
      "Please also refer to the documentation for alternative solver options:\n",
      "    https://scikit-learn.org/stable/modules/linear_model.html#logistic-regression\n",
      "  n_iter_i = _check_optimize_result(\n"
     ]
    },
    {
     "name": "stdout",
     "output_type": "stream",
     "text": [
      "Results for Logistic Regression exported to classification_results_300win.csv\n",
      "Results for Naive Bayes exported to classification_results_300win.csv\n",
      "Results for K-NN exported to classification_results_300win.csv\n",
      "Results for Gradient Boosting exported to classification_results_300win.csv\n",
      "Results for AdaBoost exported to classification_results_300win.csv\n",
      "Results for Decision Tree exported to classification_results_300win.csv\n",
      "Results for Perceptron exported to classification_results_300win.csv\n",
      "Results for SGD exported to classification_results_300win.csv\n",
      "Results for Bagging exported to classification_results_300win.csv\n",
      "Results for Extra Trees exported to classification_results_300win.csv\n",
      "Results for CatBoost exported to classification_results_300win.csv\n",
      "Results for LightGBM exported to classification_results_300win.csv\n",
      "Results for XGBoost exported to classification_results_300win.csv\n",
      "Results for SVM exported to classification_results_300win.csv\n",
      "Results for Random Forest exported to classification_results_300win.csv\n"
     ]
    },
    {
     "name": "stderr",
     "output_type": "stream",
     "text": [
      "C:\\Users\\ADMIN\\anaconda3\\Lib\\site-packages\\sklearn\\linear_model\\_logistic.py:458: ConvergenceWarning: lbfgs failed to converge (status=1):\n",
      "STOP: TOTAL NO. of ITERATIONS REACHED LIMIT.\n",
      "\n",
      "Increase the number of iterations (max_iter) or scale the data as shown in:\n",
      "    https://scikit-learn.org/stable/modules/preprocessing.html\n",
      "Please also refer to the documentation for alternative solver options:\n",
      "    https://scikit-learn.org/stable/modules/linear_model.html#logistic-regression\n",
      "  n_iter_i = _check_optimize_result(\n"
     ]
    },
    {
     "name": "stdout",
     "output_type": "stream",
     "text": [
      "Results for Logistic Regression exported to classification_results_300win.csv\n",
      "Results for Naive Bayes exported to classification_results_300win.csv\n",
      "Results for K-NN exported to classification_results_300win.csv\n",
      "Results for Gradient Boosting exported to classification_results_300win.csv\n",
      "Results for AdaBoost exported to classification_results_300win.csv\n",
      "Results for Decision Tree exported to classification_results_300win.csv\n",
      "Results for Perceptron exported to classification_results_300win.csv\n",
      "Results for SGD exported to classification_results_300win.csv\n",
      "Results for Bagging exported to classification_results_300win.csv\n",
      "Results for Extra Trees exported to classification_results_300win.csv\n",
      "Results for CatBoost exported to classification_results_300win.csv\n",
      "Results for LightGBM exported to classification_results_300win.csv\n",
      "Results for XGBoost exported to classification_results_300win.csv\n",
      "Results for SVM exported to classification_results_300win.csv\n",
      "Results for Random Forest exported to classification_results_300win.csv\n"
     ]
    },
    {
     "name": "stderr",
     "output_type": "stream",
     "text": [
      "C:\\Users\\ADMIN\\anaconda3\\Lib\\site-packages\\sklearn\\linear_model\\_logistic.py:458: ConvergenceWarning: lbfgs failed to converge (status=1):\n",
      "STOP: TOTAL NO. of ITERATIONS REACHED LIMIT.\n",
      "\n",
      "Increase the number of iterations (max_iter) or scale the data as shown in:\n",
      "    https://scikit-learn.org/stable/modules/preprocessing.html\n",
      "Please also refer to the documentation for alternative solver options:\n",
      "    https://scikit-learn.org/stable/modules/linear_model.html#logistic-regression\n",
      "  n_iter_i = _check_optimize_result(\n"
     ]
    },
    {
     "name": "stdout",
     "output_type": "stream",
     "text": [
      "Results for Logistic Regression exported to classification_results_300win.csv\n",
      "Results for Naive Bayes exported to classification_results_300win.csv\n",
      "Results for K-NN exported to classification_results_300win.csv\n",
      "Results for Gradient Boosting exported to classification_results_300win.csv\n",
      "Results for AdaBoost exported to classification_results_300win.csv\n",
      "Results for Decision Tree exported to classification_results_300win.csv\n",
      "Results for Perceptron exported to classification_results_300win.csv\n",
      "Results for SGD exported to classification_results_300win.csv\n",
      "Results for Bagging exported to classification_results_300win.csv\n",
      "Results for Extra Trees exported to classification_results_300win.csv\n",
      "Results for CatBoost exported to classification_results_300win.csv\n",
      "Results for LightGBM exported to classification_results_300win.csv\n",
      "Results for XGBoost exported to classification_results_300win.csv\n",
      "Results for SVM exported to classification_results_300win.csv\n",
      "Results for Random Forest exported to classification_results_300win.csv\n"
     ]
    },
    {
     "name": "stderr",
     "output_type": "stream",
     "text": [
      "C:\\Users\\ADMIN\\anaconda3\\Lib\\site-packages\\sklearn\\linear_model\\_logistic.py:458: ConvergenceWarning: lbfgs failed to converge (status=1):\n",
      "STOP: TOTAL NO. of ITERATIONS REACHED LIMIT.\n",
      "\n",
      "Increase the number of iterations (max_iter) or scale the data as shown in:\n",
      "    https://scikit-learn.org/stable/modules/preprocessing.html\n",
      "Please also refer to the documentation for alternative solver options:\n",
      "    https://scikit-learn.org/stable/modules/linear_model.html#logistic-regression\n",
      "  n_iter_i = _check_optimize_result(\n"
     ]
    },
    {
     "name": "stdout",
     "output_type": "stream",
     "text": [
      "Results for Logistic Regression exported to classification_results_300win.csv\n",
      "Results for Naive Bayes exported to classification_results_300win.csv\n",
      "Results for K-NN exported to classification_results_300win.csv\n",
      "Results for Gradient Boosting exported to classification_results_300win.csv\n",
      "Results for AdaBoost exported to classification_results_300win.csv\n",
      "Results for Decision Tree exported to classification_results_300win.csv\n",
      "Results for Perceptron exported to classification_results_300win.csv\n",
      "Results for SGD exported to classification_results_300win.csv\n",
      "Results for Bagging exported to classification_results_300win.csv\n",
      "Results for Extra Trees exported to classification_results_300win.csv\n",
      "Results for CatBoost exported to classification_results_300win.csv\n",
      "Results for LightGBM exported to classification_results_300win.csv\n",
      "Results for XGBoost exported to classification_results_300win.csv\n",
      "Results for SVM exported to classification_results_300win.csv\n",
      "Results for Random Forest exported to classification_results_300win.csv\n"
     ]
    },
    {
     "name": "stderr",
     "output_type": "stream",
     "text": [
      "C:\\Users\\ADMIN\\anaconda3\\Lib\\site-packages\\sklearn\\linear_model\\_logistic.py:458: ConvergenceWarning: lbfgs failed to converge (status=1):\n",
      "STOP: TOTAL NO. of ITERATIONS REACHED LIMIT.\n",
      "\n",
      "Increase the number of iterations (max_iter) or scale the data as shown in:\n",
      "    https://scikit-learn.org/stable/modules/preprocessing.html\n",
      "Please also refer to the documentation for alternative solver options:\n",
      "    https://scikit-learn.org/stable/modules/linear_model.html#logistic-regression\n",
      "  n_iter_i = _check_optimize_result(\n"
     ]
    },
    {
     "name": "stdout",
     "output_type": "stream",
     "text": [
      "Results for Logistic Regression exported to classification_results_300win.csv\n",
      "Results for Naive Bayes exported to classification_results_300win.csv\n",
      "Results for K-NN exported to classification_results_300win.csv\n",
      "Results for Gradient Boosting exported to classification_results_300win.csv\n",
      "Results for AdaBoost exported to classification_results_300win.csv\n",
      "Results for Decision Tree exported to classification_results_300win.csv\n",
      "Results for Perceptron exported to classification_results_300win.csv\n",
      "Results for SGD exported to classification_results_300win.csv\n",
      "Results for Bagging exported to classification_results_300win.csv\n",
      "Results for Extra Trees exported to classification_results_300win.csv\n",
      "Results for CatBoost exported to classification_results_300win.csv\n",
      "Results for LightGBM exported to classification_results_300win.csv\n",
      "Results for XGBoost exported to classification_results_300win.csv\n",
      "Results for SVM exported to classification_results_300win.csv\n",
      "Results for Random Forest exported to classification_results_300win.csv\n"
     ]
    },
    {
     "name": "stderr",
     "output_type": "stream",
     "text": [
      "C:\\Users\\ADMIN\\anaconda3\\Lib\\site-packages\\sklearn\\linear_model\\_logistic.py:458: ConvergenceWarning: lbfgs failed to converge (status=1):\n",
      "STOP: TOTAL NO. of ITERATIONS REACHED LIMIT.\n",
      "\n",
      "Increase the number of iterations (max_iter) or scale the data as shown in:\n",
      "    https://scikit-learn.org/stable/modules/preprocessing.html\n",
      "Please also refer to the documentation for alternative solver options:\n",
      "    https://scikit-learn.org/stable/modules/linear_model.html#logistic-regression\n",
      "  n_iter_i = _check_optimize_result(\n"
     ]
    },
    {
     "name": "stdout",
     "output_type": "stream",
     "text": [
      "Results for Logistic Regression exported to classification_results_300win.csv\n",
      "Results for Naive Bayes exported to classification_results_300win.csv\n",
      "Results for K-NN exported to classification_results_300win.csv\n",
      "Results for Gradient Boosting exported to classification_results_300win.csv\n",
      "Results for AdaBoost exported to classification_results_300win.csv\n",
      "Results for Decision Tree exported to classification_results_300win.csv\n",
      "Results for Perceptron exported to classification_results_300win.csv\n",
      "Results for SGD exported to classification_results_300win.csv\n",
      "Results for Bagging exported to classification_results_300win.csv\n",
      "Results for Extra Trees exported to classification_results_300win.csv\n",
      "Results for CatBoost exported to classification_results_300win.csv\n"
     ]
    }
   ],
   "source": [
    "import pandas as pd\n",
    "import numpy as np\n",
    "import json\n",
    "import os\n",
    "from sklearn.model_selection import train_test_split\n",
    "from sklearn.metrics import accuracy_score, precision_score, recall_score, f1_score\n",
    "from sklearn.ensemble import RandomForestClassifier, GradientBoostingClassifier, AdaBoostClassifier, BaggingClassifier, ExtraTreesClassifier\n",
    "from sklearn.svm import SVC\n",
    "from sklearn.linear_model import LogisticRegression, Perceptron, SGDClassifier\n",
    "from sklearn.naive_bayes import GaussianNB\n",
    "from sklearn.neighbors import KNeighborsClassifier\n",
    "from sklearn.tree import DecisionTreeClassifier\n",
    "from catboost import CatBoostClassifier\n",
    "from lightgbm import LGBMClassifier\n",
    "from xgboost import XGBClassifier\n",
    "\n",
    "# Define classifiers\n",
    "classifiers = {\n",
    "    'SVM': SVC(probability=True, random_state=101),\n",
    "    'Random Forest': RandomForestClassifier(n_estimators=100, random_state=101),\n",
    "    'Logistic Regression': LogisticRegression(random_state=101),\n",
    "    'Naive Bayes': GaussianNB(),\n",
    "    'K-NN': KNeighborsClassifier(n_neighbors=5),\n",
    "    'Gradient Boosting': GradientBoostingClassifier(n_estimators=100, random_state=101),\n",
    "    'AdaBoost': AdaBoostClassifier(n_estimators=100, random_state=101),\n",
    "    'Decision Tree': DecisionTreeClassifier(random_state=101),\n",
    "    'Perceptron': Perceptron(random_state=101),\n",
    "    'SGD': SGDClassifier(random_state=101),\n",
    "    'Bagging': BaggingClassifier(n_estimators=100, random_state=101),\n",
    "    'Extra Trees': ExtraTreesClassifier(n_estimators=100, random_state=101),\n",
    "    'CatBoost': CatBoostClassifier(verbose=0, random_state=101),\n",
    "    'LightGBM': LGBMClassifier(verbose=-1, random_state=101),\n",
    "    'XGBoost': XGBClassifier(use_label_encoder=False, eval_metric='logloss', random_state=101)\n",
    "}\n",
    "\n",
    "# Load encoding schemes file\n",
    "def load_encodings(file_path):\n",
    "    with open(file_path, 'r') as file:\n",
    "        return json.load(file)\n",
    "\n",
    "def transform_sequence(sequence, encoding):\n",
    "    # Convert sequence into numerical data\n",
    "    numerical_data = np.array([encoding.get(sequence[i:i+2], 0) for i in range(len(sequence)-1)])    \n",
    "    # Calculate rolling mean using NumPy's convolve function\n",
    "    window_avgs = np.convolve(numerical_data, np.ones(15)/15, mode='valid')    \n",
    "    return window_avgs\n",
    "    \n",
    "# Function to load and transform data from positive and negative file content\n",
    "def load_and_transform_data(file_content, encoding, label):\n",
    "    sequences = file_content.strip().split('\\n')\n",
    "    transformed_data = [transform_sequence(seq, encoding) for seq in sequences if seq]\n",
    "    df = pd.DataFrame(transformed_data)\n",
    "    df['label'] = label\n",
    "    return df\n",
    "\n",
    "# Extract sequences from given positions\n",
    "def extract_sequences(filename, start_pos, end_pos):\n",
    "    with open(filename, 'r') as file:\n",
    "        content = file.read()\n",
    "        lines = content.split('\\n')\n",
    "        extracted = \"\\n\".join(line[start_pos-1:end_pos] for line in lines if len(line) >= end_pos)\n",
    "    return extracted\n",
    "\n",
    "# Main processing function\n",
    "def process_files(files, output_csv='classification_results_300win.csv'):\n",
    "    all_encodings = load_encodings('selected_encoding_dict.json')\n",
    "    results_df = pd.DataFrame()\n",
    "\n",
    "    for file_name in files:\n",
    "        print(f\"Processing {file_name}\")\n",
    "        neg_content = extract_sequences(file_name, 1, 300)\n",
    "        pos_content = extract_sequences(file_name, 5001, 5300)\n",
    "\n",
    "        for encoding_name, encoding in all_encodings.items():\n",
    "            pos_data = load_and_transform_data(pos_content, encoding, 1)\n",
    "            neg_data = load_and_transform_data(neg_content, encoding, 0)\n",
    "            combined_data = pd.concat([pos_data, neg_data], ignore_index=True)\n",
    "            X, y = combined_data.drop('label', axis=1), combined_data['label']\n",
    "            X_train, X_test, y_train, y_test = train_test_split(X, y, test_size=0.1, random_state=101)\n",
    "\n",
    "            for name, clf in classifiers.items():\n",
    "                clf.fit(X_train, y_train)\n",
    "                y_pred = clf.predict(X_test)\n",
    "                new_row = {\n",
    "                    'File': file_name,\n",
    "                    'Encoding Scheme': encoding_name,\n",
    "                    'Classifier': name,\n",
    "                    'Accuracy': accuracy_score(y_test, y_pred),\n",
    "                    'Precision': precision_score(y_test, y_pred, zero_division=0),\n",
    "                    'Recall': recall_score(y_test, y_pred, zero_division=0),\n",
    "                    'F1 Score': f1_score(y_test, y_pred, zero_division=0)\n",
    "                }\n",
    "                results_df = pd.concat([results_df, pd.DataFrame([new_row])], ignore_index=True)\n",
    "                print(\"Results for\", name, \"exported to\", output_csv)\n",
    "    results_df.to_csv(output_csv, index=False)\n",
    "    print(\"Results exported to\", output_csv)\n",
    "  # Print CSV results on the screen\n",
    "    print(\"Results for\", name, \"exported to\", output_csv)\n",
    "    print(results_df)\n",
    "    \n",
    "\n",
    "# List of files to process\n",
    "files_to_process = [    \n",
    "    'Kluy_correct_10001',\n",
    "    'Pichia_correct_10001',\n",
    "    'Schizo_correct_10001',\n",
    "    'Candiada_correct_10001',\n",
    "    'Arabidopsis_correct_10001',\n",
    "    'Hg19_2000_10001',\n",
    "    'Sacharo_correct_10001',\n",
    "    'MM8_correct_10001',\n",
    "    'DM3_correct_10001'\n",
    "]\n",
    "process_files(files_to_process)"
   ]
  },
  {
   "cell_type": "code",
   "execution_count": null,
   "id": "70ad9d2a-7f8c-4b80-a059-f4425d854443",
   "metadata": {},
   "outputs": [],
   "source": []
  }
 ],
 "metadata": {
  "kernelspec": {
   "display_name": "Python 3 (ipykernel)",
   "language": "python",
   "name": "python3"
  },
  "language_info": {
   "codemirror_mode": {
    "name": "ipython",
    "version": 3
   },
   "file_extension": ".py",
   "mimetype": "text/x-python",
   "name": "python",
   "nbconvert_exporter": "python",
   "pygments_lexer": "ipython3",
   "version": "3.11.7"
  }
 },
 "nbformat": 4,
 "nbformat_minor": 5
}
